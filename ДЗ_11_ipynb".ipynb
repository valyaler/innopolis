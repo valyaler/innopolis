{
  "nbformat": 4,
  "nbformat_minor": 0,
  "metadata": {
    "kernelspec": {
      "display_name": "Python 3",
      "language": "python",
      "name": "python3"
    },
    "language_info": {
      "codemirror_mode": {
        "name": "ipython",
        "version": 3
      },
      "file_extension": ".py",
      "mimetype": "text/x-python",
      "name": "python",
      "nbconvert_exporter": "python",
      "pygments_lexer": "ipython3",
      "version": "3.7.6"
    },
    "colab": {
      "name": "ДЗ-11.ipynb\"",
      "provenance": [],
      "collapsed_sections": [],
      "include_colab_link": true
    }
  },
  "cells": [
    {
      "cell_type": "markdown",
      "metadata": {
        "id": "view-in-github",
        "colab_type": "text"
      },
      "source": [
        "<a href=\"https://colab.research.google.com/github/valyaler/innopolis/blob/master/%D0%94%D0%97_11_ipynb%22.ipynb\" target=\"_parent\"><img src=\"https://colab.research.google.com/assets/colab-badge.svg\" alt=\"Open In Colab\"/></a>"
      ]
    },
    {
      "cell_type": "markdown",
      "metadata": {
        "id": "v9bEdIFBfAJ0"
      },
      "source": [
        "# Упражнения\n",
        "В этом упражнении рассматривается прогноз SARIMA, аналогичный тому, который был сделан для набора данных $CO_2$.\n",
        "\n"
      ]
    },
    {
      "cell_type": "code",
      "metadata": {
        "id": "TkEWVmFffAJ5",
        "colab": {
          "base_uri": "https://localhost:8080/"
        },
        "outputId": "725d224a-c53e-4e8f-a603-07e7864d457b"
      },
      "source": [
        "!pip install pmdarima"
      ],
      "execution_count": null,
      "outputs": [
        {
          "output_type": "stream",
          "name": "stdout",
          "text": [
            "Collecting pmdarima\n",
            "  Downloading pmdarima-1.8.4-cp37-cp37m-manylinux_2_17_x86_64.manylinux2014_x86_64.manylinux_2_24_x86_64.whl (1.4 MB)\n",
            "\u001b[K     |████████████████████████████████| 1.4 MB 5.4 MB/s \n",
            "\u001b[?25hRequirement already satisfied: scikit-learn>=0.22 in /usr/local/lib/python3.7/dist-packages (from pmdarima) (1.0.1)\n",
            "Requirement already satisfied: setuptools!=50.0.0,>=38.6.0 in /usr/local/lib/python3.7/dist-packages (from pmdarima) (57.4.0)\n",
            "Requirement already satisfied: numpy>=1.19.3 in /usr/local/lib/python3.7/dist-packages (from pmdarima) (1.19.5)\n",
            "Requirement already satisfied: scipy>=1.3.2 in /usr/local/lib/python3.7/dist-packages (from pmdarima) (1.4.1)\n",
            "Requirement already satisfied: pandas>=0.19 in /usr/local/lib/python3.7/dist-packages (from pmdarima) (1.1.5)\n",
            "Requirement already satisfied: Cython!=0.29.18,>=0.29 in /usr/local/lib/python3.7/dist-packages (from pmdarima) (0.29.24)\n",
            "Collecting statsmodels!=0.12.0,>=0.11\n",
            "  Downloading statsmodels-0.13.1-cp37-cp37m-manylinux_2_17_x86_64.manylinux2014_x86_64.whl (9.8 MB)\n",
            "\u001b[K     |████████████████████████████████| 9.8 MB 9.2 MB/s \n",
            "\u001b[?25hRequirement already satisfied: urllib3 in /usr/local/lib/python3.7/dist-packages (from pmdarima) (1.24.3)\n",
            "Requirement already satisfied: joblib>=0.11 in /usr/local/lib/python3.7/dist-packages (from pmdarima) (1.1.0)\n",
            "Requirement already satisfied: pytz>=2017.2 in /usr/local/lib/python3.7/dist-packages (from pandas>=0.19->pmdarima) (2018.9)\n",
            "Requirement already satisfied: python-dateutil>=2.7.3 in /usr/local/lib/python3.7/dist-packages (from pandas>=0.19->pmdarima) (2.8.2)\n",
            "Requirement already satisfied: six>=1.5 in /usr/local/lib/python3.7/dist-packages (from python-dateutil>=2.7.3->pandas>=0.19->pmdarima) (1.15.0)\n",
            "Requirement already satisfied: threadpoolctl>=2.0.0 in /usr/local/lib/python3.7/dist-packages (from scikit-learn>=0.22->pmdarima) (3.0.0)\n",
            "Requirement already satisfied: patsy>=0.5.2 in /usr/local/lib/python3.7/dist-packages (from statsmodels!=0.12.0,>=0.11->pmdarima) (0.5.2)\n",
            "Installing collected packages: statsmodels, pmdarima\n",
            "  Attempting uninstall: statsmodels\n",
            "    Found existing installation: statsmodels 0.10.2\n",
            "    Uninstalling statsmodels-0.10.2:\n",
            "      Successfully uninstalled statsmodels-0.10.2\n",
            "Successfully installed pmdarima-1.8.4 statsmodels-0.13.1\n"
          ]
        }
      ]
    },
    {
      "cell_type": "code",
      "metadata": {
        "id": "E1gSdEd4fAJ7",
        "colab": {
          "base_uri": "https://localhost:8080/"
        },
        "outputId": "5702137a-35f1-4890-d62d-8cf2d71cca87"
      },
      "source": [
        "# \n",
        "import pandas as pd\n",
        "import numpy as np\n",
        "%matplotlib inline\n",
        "\n",
        "# импорт SARIMAX \n",
        "from statsmodels.tsa.statespace.sarimax import SARIMAX\n",
        "\n",
        "from statsmodels.graphics.tsaplots import plot_acf,plot_pacf # для определения (p,q) \n",
        "from statsmodels.tsa.seasonal import seasonal_decompose      # для ETS графиков\n",
        "from pmdarima import auto_arima                              # для поиска ARIMA моделей\n",
        "\n",
        "# метрики\n",
        "from sklearn.metrics import mean_squared_error\n",
        "from statsmodels.tools.eval_measures import rmse\n",
        "\n",
        "# для игнорирования предупреждений (опционально)\n",
        "# import warnings\n",
        "# warnings.filterwarnings(\"ignore\")\n",
        "\n",
        "# Загрузка датасета\n",
        "df = pd.read_csv('HospitalityEmployees.csv',index_col='Date',parse_dates=True)\n",
        "df.index.freq = 'MS'\n",
        "print(len(df))\n",
        "print(df.head())"
      ],
      "execution_count": null,
      "outputs": [
        {
          "output_type": "stream",
          "name": "stdout",
          "text": [
            "348\n",
            "            Employees\n",
            "Date                 \n",
            "1990-01-01     1064.5\n",
            "1990-02-01     1074.5\n",
            "1990-03-01     1090.0\n",
            "1990-04-01     1097.4\n",
            "1990-05-01     1108.7\n"
          ]
        }
      ]
    },
    {
      "cell_type": "markdown",
      "metadata": {
        "id": "KisC4--hfAJ8"
      },
      "source": [
        "В <tt>df</tt>  348 записей и 1 колонка. Данные представляют собой численность сотрудников в тысячах человек в среднем за месяц с января 1990 года по декабрь 2018 года."
      ]
    },
    {
      "cell_type": "markdown",
      "metadata": {
        "id": "Aq5PRY7vfAJ9"
      },
      "source": [
        "### 1. Постройте график временного ряда\n"
      ]
    },
    {
      "cell_type": "code",
      "metadata": {
        "id": "gnx-7KWlfAJ9",
        "colab": {
          "base_uri": "https://localhost:8080/",
          "height": 354
        },
        "outputId": "404caf80-8f5b-4db0-f2f2-bc06c95b5231"
      },
      "source": [
        "df['Employees'].plot(figsize=(12,5),ylabel='Thousands of Persons',xlabel='',title='California Hospitality Industry Emploees')"
      ],
      "execution_count": null,
      "outputs": [
        {
          "output_type": "execute_result",
          "data": {
            "text/plain": [
              "<matplotlib.axes._subplots.AxesSubplot at 0x7f0a9ee65450>"
            ]
          },
          "metadata": {},
          "execution_count": 4
        },
        {
          "output_type": "display_data",
          "data": {
            "image/png": "[encoded data removed]",
            "text/plain": [
              "<Figure size 864x360 with 1 Axes>"
            ]
          },
          "metadata": {
            "needs_background": "light"
          }
        }
      ]
    },
    {
      "cell_type": "code",
      "metadata": {
        "id": "3voZpNPPfAJ-",
        "outputId": "8437c989-d4ae-4675-a73e-972c754ef485"
      },
      "source": [
        "# "
      ],
      "execution_count": null,
      "outputs": [
        {
          "data": {
            "image/png": "[encoded data removed]",
            "text/plain": [
              "<Figure size 864x360 with 1 Axes>"
            ]
          },
          "metadata": {
            "needs_background": "light"
          },
          "output_type": "display_data"
        }
      ]
    },
    {
      "cell_type": "markdown",
      "metadata": {
        "id": "9j9LoU7wfAJ-"
      },
      "source": [
        "### 2. Выполните ETS декомпозицию\n",
        "Используя аддитивную модель ('additive')."
      ]
    },
    {
      "cell_type": "code",
      "metadata": {
        "id": "AknGEE0SfAJ_",
        "colab": {
          "base_uri": "https://localhost:8080/",
          "height": 297
        },
        "outputId": "f048061a-5090-4dc7-c9ea-cd39997ba364"
      },
      "source": [
        "r = seasonal_decompose(df['Employees'],model='additive',period=24) #я сдаюсь... не получается\n",
        "r.plot();"
      ],
      "execution_count": null,
      "outputs": [
        {
          "output_type": "display_data",
          "data": {
            "image/png": "[encoded data removed]",
            "text/plain": [
              "<Figure size 432x288 with 4 Axes>"
            ]
          },
          "metadata": {
            "needs_background": "light"
          }
        }
      ]
    },
    {
      "cell_type": "code",
      "metadata": {
        "id": "TTauZAc2fAKA",
        "outputId": "c78626af-a8f4-43b9-ce63-378b829b4b49"
      },
      "source": [
        "# "
      ],
      "execution_count": null,
      "outputs": [
        {
          "data": {
            "image/png": "[encoded data removed]",
            "text/plain": [
              "<Figure size 432x288 with 4 Axes>"
            ]
          },
          "metadata": {
            "needs_background": "light"
          },
          "output_type": "display_data"
        }
      ]
    },
    {
      "cell_type": "markdown",
      "metadata": {
        "id": "Wc-a-wTmfAKA"
      },
      "source": [
        "### 3. Запустите <tt>pmdarima.auto_arima</tt> чтобы получить набор параметров\n",
        "Это может занять некоторое время, так как необходимо оценить множество комбинаций."
      ]
    },
    {
      "cell_type": "code",
      "metadata": {
        "id": "VTGkpcGRfAKA"
      },
      "source": [
        ""
      ],
      "execution_count": null,
      "outputs": []
    },
    {
      "cell_type": "code",
      "metadata": {
        "id": "P4zHM0_QfAKB",
        "colab": {
          "base_uri": "https://localhost:8080/",
          "height": 1000
        },
        "outputId": "768fceee-5b9c-4fcc-9167-6477d61d3a21"
      },
      "source": [
        "auto_arima(df['Employees'],seasonal=True,m=12).summary()"
      ],
      "execution_count": null,
      "outputs": [
        {
          "output_type": "stream",
          "name": "stderr",
          "text": [
            "/usr/local/lib/python3.7/dist-packages/pmdarima/arima/_auto_solvers.py:522: ModelFitWarning: Error fitting  ARIMA(2,1,1)(1,0,1)[12] intercept (if you do not want to see these warnings, run with error_action=\"ignore\").\n",
            "Traceback:\n",
            "Traceback (most recent call last):\n",
            "  File \"/usr/local/lib/python3.7/dist-packages/pmdarima/arima/_auto_solvers.py\", line 506, in _fit_candidate_model\n",
            "    fit.fit(y, X=X, **fit_params)\n",
            "  File \"/usr/local/lib/python3.7/dist-packages/pmdarima/arima/arima.py\", line 597, in fit\n",
            "    self._fit(y, X, **fit_args)\n",
            "  File \"/usr/local/lib/python3.7/dist-packages/pmdarima/arima/arima.py\", line 518, in _fit\n",
            "    fit, self.arima_res_ = _fit_wrapper()\n",
            "  File \"/usr/local/lib/python3.7/dist-packages/pmdarima/arima/arima.py\", line 512, in _fit_wrapper\n",
            "    **fit_args)\n",
            "  File \"/usr/local/lib/python3.7/dist-packages/statsmodels/tsa/statespace/mlemodel.py\", line 709, in fit\n",
            "    skip_hessian=True, **kwargs)\n",
            "  File \"/usr/local/lib/python3.7/dist-packages/statsmodels/base/model.py\", line 571, in fit\n",
            "    full_output=full_output)\n",
            "  File \"/usr/local/lib/python3.7/dist-packages/statsmodels/base/optimizer.py\", line 244, in _fit\n",
            "    hess=hessian)\n",
            "  File \"/usr/local/lib/python3.7/dist-packages/statsmodels/base/optimizer.py\", line 654, in _fit_lbfgs\n",
            "    **extra_kwargs)\n",
            "  File \"/usr/local/lib/python3.7/dist-packages/scipy/optimize/lbfgsb.py\", line 199, in fmin_l_bfgs_b\n",
            "    **opts)\n",
            "  File \"/usr/local/lib/python3.7/dist-packages/scipy/optimize/lbfgsb.py\", line 345, in _minimize_lbfgsb\n",
            "    f, g = func_and_grad(x)\n",
            "  File \"/usr/local/lib/python3.7/dist-packages/scipy/optimize/lbfgsb.py\", line 290, in func_and_grad\n",
            "    f = fun(x, *args)\n",
            "  File \"/usr/local/lib/python3.7/dist-packages/scipy/optimize/optimize.py\", line 327, in function_wrapper\n",
            "    return function(*(wrapper_args + args))\n",
            "  File \"/usr/local/lib/python3.7/dist-packages/statsmodels/base/model.py\", line 531, in f\n",
            "    return -self.loglike(params, *args) / nobs\n",
            "  File \"/usr/local/lib/python3.7/dist-packages/statsmodels/tsa/statespace/mlemodel.py\", line 939, in loglike\n",
            "    loglike = self.ssm.loglike(complex_step=complex_step, **kwargs)\n",
            "  File \"/usr/local/lib/python3.7/dist-packages/statsmodels/tsa/statespace/kalman_filter.py\", line 983, in loglike\n",
            "    kfilter = self._filter(**kwargs)\n",
            "  File \"/usr/local/lib/python3.7/dist-packages/statsmodels/tsa/statespace/kalman_filter.py\", line 903, in _filter\n",
            "    self._initialize_state(prefix=prefix, complex_step=complex_step)\n",
            "  File \"/usr/local/lib/python3.7/dist-packages/statsmodels/tsa/statespace/representation.py\", line 984, in _initialize_state\n",
            "    complex_step=complex_step)\n",
            "  File \"statsmodels/tsa/statespace/_representation.pyx\", line 1373, in statsmodels.tsa.statespace._representation.dStatespace.initialize\n",
            "  File \"statsmodels/tsa/statespace/_representation.pyx\", line 1362, in statsmodels.tsa.statespace._representation.dStatespace.initialize\n",
            "  File \"statsmodels/tsa/statespace/_initialization.pyx\", line 288, in statsmodels.tsa.statespace._initialization.dInitialization.initialize\n",
            "  File \"statsmodels/tsa/statespace/_initialization.pyx\", line 406, in statsmodels.tsa.statespace._initialization.dInitialization.initialize_stationary_stationary_cov\n",
            "  File \"statsmodels/tsa/statespace/_tools.pyx\", line 1206, in statsmodels.tsa.statespace._tools._dsolve_discrete_lyapunov\n",
            "numpy.linalg.LinAlgError: LU decomposition error.\n",
            "\n",
            "  warnings.warn(warning_str, ModelFitWarning)\n"
          ]
        },
        {
          "output_type": "execute_result",
          "data": {
            "text/html": [
              "<table class=\"simpletable\">\n",
              "<caption>SARIMAX Results</caption>\n",
              "<tr>\n",
              "  <th>Dep. Variable:</th>                   <td>y</td>                <th>  No. Observations:  </th>    <td>348</td>   \n",
              "</tr>\n",
              "<tr>\n",
              "  <th>Model:</th>           <td>SARIMAX(1, 1, 2)x(1, 0, [1], 12)</td> <th>  Log Likelihood     </th> <td>-1098.252</td>\n",
              "</tr>\n",
              "<tr>\n",
              "  <th>Date:</th>                    <td>Wed, 15 Dec 2021</td>         <th>  AIC                </th> <td>2208.504</td> \n",
              "</tr>\n",
              "<tr>\n",
              "  <th>Time:</th>                        <td>13:04:02</td>             <th>  BIC                </th> <td>2231.600</td> \n",
              "</tr>\n",
              "<tr>\n",
              "  <th>Sample:</th>                          <td>0</td>                <th>  HQIC               </th> <td>2217.700</td> \n",
              "</tr>\n",
              "<tr>\n",
              "  <th></th>                              <td> - 348</td>              <th>                     </th>     <td> </td>    \n",
              "</tr>\n",
              "<tr>\n",
              "  <th>Covariance Type:</th>                <td>opg</td>               <th>                     </th>     <td> </td>    \n",
              "</tr>\n",
              "</table>\n",
              "<table class=\"simpletable\">\n",
              "<tr>\n",
              "      <td></td>        <th>coef</th>     <th>std err</th>      <th>z</th>      <th>P>|z|</th>  <th>[0.025</th>    <th>0.975]</th>  \n",
              "</tr>\n",
              "<tr>\n",
              "  <th>ar.L1</th>    <td>    0.9244</td> <td>    0.045</td> <td>   20.569</td> <td> 0.000</td> <td>    0.836</td> <td>    1.013</td>\n",
              "</tr>\n",
              "<tr>\n",
              "  <th>ma.L1</th>    <td>   -0.9440</td> <td>    0.070</td> <td>  -13.471</td> <td> 0.000</td> <td>   -1.081</td> <td>   -0.807</td>\n",
              "</tr>\n",
              "<tr>\n",
              "  <th>ma.L2</th>    <td>    0.1288</td> <td>    0.060</td> <td>    2.140</td> <td> 0.032</td> <td>    0.011</td> <td>    0.247</td>\n",
              "</tr>\n",
              "<tr>\n",
              "  <th>ar.S.L12</th> <td>    0.9972</td> <td>    0.001</td> <td>  703.740</td> <td> 0.000</td> <td>    0.994</td> <td>    1.000</td>\n",
              "</tr>\n",
              "<tr>\n",
              "  <th>ma.S.L12</th> <td>   -0.7490</td> <td>    0.043</td> <td>  -17.321</td> <td> 0.000</td> <td>   -0.834</td> <td>   -0.664</td>\n",
              "</tr>\n",
              "<tr>\n",
              "  <th>sigma2</th>   <td>   29.2997</td> <td>    1.717</td> <td>   17.062</td> <td> 0.000</td> <td>   25.934</td> <td>   32.665</td>\n",
              "</tr>\n",
              "</table>\n",
              "<table class=\"simpletable\">\n",
              "<tr>\n",
              "  <th>Ljung-Box (L1) (Q):</th>     <td>0.00</td> <th>  Jarque-Bera (JB):  </th> <td>67.43</td>\n",
              "</tr>\n",
              "<tr>\n",
              "  <th>Prob(Q):</th>                <td>0.99</td> <th>  Prob(JB):          </th> <td>0.00</td> \n",
              "</tr>\n",
              "<tr>\n",
              "  <th>Heteroskedasticity (H):</th> <td>0.86</td> <th>  Skew:              </th> <td>-0.11</td>\n",
              "</tr>\n",
              "<tr>\n",
              "  <th>Prob(H) (two-sided):</th>    <td>0.40</td> <th>  Kurtosis:          </th> <td>5.15</td> \n",
              "</tr>\n",
              "</table><br/><br/>Warnings:<br/>[1] Covariance matrix calculated using the outer product of gradients (complex-step)."
            ],
            "text/plain": [
              "<class 'statsmodels.iolib.summary.Summary'>\n",
              "\"\"\"\n",
              "                                      SARIMAX Results                                       \n",
              "============================================================================================\n",
              "Dep. Variable:                                    y   No. Observations:                  348\n",
              "Model:             SARIMAX(1, 1, 2)x(1, 0, [1], 12)   Log Likelihood               -1098.252\n",
              "Date:                              Wed, 15 Dec 2021   AIC                           2208.504\n",
              "Time:                                      13:04:02   BIC                           2231.600\n",
              "Sample:                                           0   HQIC                          2217.700\n",
              "                                              - 348                                         \n",
              "Covariance Type:                                opg                                         \n",
              "==============================================================================\n",
              "                 coef    std err          z      P>|z|      [0.025      0.975]\n",
              "------------------------------------------------------------------------------\n",
              "ar.L1          0.9244      0.045     20.569      0.000       0.836       1.013\n",
              "ma.L1         -0.9440      0.070    -13.471      0.000      -1.081      -0.807\n",
              "ma.L2          0.1288      0.060      2.140      0.032       0.011       0.247\n",
              "ar.S.L12       0.9972      0.001    703.740      0.000       0.994       1.000\n",
              "ma.S.L12      -0.7490      0.043    -17.321      0.000      -0.834      -0.664\n",
              "sigma2        29.2997      1.717     17.062      0.000      25.934      32.665\n",
              "===================================================================================\n",
              "Ljung-Box (L1) (Q):                   0.00   Jarque-Bera (JB):                67.43\n",
              "Prob(Q):                              0.99   Prob(JB):                         0.00\n",
              "Heteroskedasticity (H):               0.86   Skew:                            -0.11\n",
              "Prob(H) (two-sided):                  0.40   Kurtosis:                         5.15\n",
              "===================================================================================\n",
              "\n",
              "Warnings:\n",
              "[1] Covariance matrix calculated using the outer product of gradients (complex-step).\n",
              "\"\"\""
            ]
          },
          "metadata": {},
          "execution_count": 8
        }
      ]
    },
    {
      "cell_type": "markdown",
      "metadata": {
        "id": "_Abu8uabfAKB"
      },
      "source": [
        "Ожидаемый результат ARIMA (0,1,0) с сезонностью (2,0,0,12).\n",
        "### 4. Разделите данные на train/test \n",
        "Установите один год (12 записей) для тестирования. Есть несколько способов сделать это!"
      ]
    },
    {
      "cell_type": "code",
      "metadata": {
        "id": "lKBapGVdfAKB"
      },
      "source": [
        "train = df.iloc[:len(df)-12]\n",
        "test = df.iloc[len(df)-12:]"
      ],
      "execution_count": null,
      "outputs": []
    },
    {
      "cell_type": "code",
      "metadata": {
        "id": "bZJBtssJfAKB"
      },
      "source": [
        "from statsmodels.tsa.statespace.sarimax import SARIMAX"
      ],
      "execution_count": null,
      "outputs": []
    },
    {
      "cell_type": "markdown",
      "metadata": {
        "id": "wL9Ang4jfAKB"
      },
      "source": [
        "### 5. Обучите SARIMA(0,1,0)(2,0,0,12) на train"
      ]
    },
    {
      "cell_type": "code",
      "metadata": {
        "id": "PDkgYXjZfAKC",
        "outputId": "51987a74-9bc6-498e-f7c1-b04c6d6c03be",
        "colab": {
          "base_uri": "https://localhost:8080/",
          "height": 610
        }
      },
      "source": [
        "model = SARIMAX(train['Employees'],order=(1, 1, 2),seasonal_order=(1, 0, 1, 12))\n",
        "results = model.fit()\n",
        "results.summary()"
      ],
      "execution_count": null,
      "outputs": [
        {
          "output_type": "stream",
          "name": "stderr",
          "text": [
            "/usr/local/lib/python3.7/dist-packages/statsmodels/tsa/statespace/sarimax.py:966: UserWarning: Non-stationary starting autoregressive parameters found. Using zeros as starting parameters.\n",
            "  warn('Non-stationary starting autoregressive parameters'\n",
            "/usr/local/lib/python3.7/dist-packages/statsmodels/tsa/statespace/sarimax.py:978: UserWarning: Non-invertible starting MA parameters found. Using zeros as starting parameters.\n",
            "  warn('Non-invertible starting MA parameters found.'\n",
            "/usr/local/lib/python3.7/dist-packages/statsmodels/tsa/statespace/sarimax.py:997: UserWarning: Non-stationary starting seasonal autoregressive Using zeros as starting parameters.\n",
            "  warn('Non-stationary starting seasonal autoregressive'\n"
          ]
        },
        {
          "output_type": "execute_result",
          "data": {
            "text/html": [
              "<table class=\"simpletable\">\n",
              "<caption>SARIMAX Results</caption>\n",
              "<tr>\n",
              "  <th>Dep. Variable:</th>               <td>Employees</td>            <th>  No. Observations:  </th>    <td>336</td>   \n",
              "</tr>\n",
              "<tr>\n",
              "  <th>Model:</th>           <td>SARIMAX(1, 1, 2)x(1, 0, [1], 12)</td> <th>  Log Likelihood     </th> <td>-1058.058</td>\n",
              "</tr>\n",
              "<tr>\n",
              "  <th>Date:</th>                    <td>Wed, 15 Dec 2021</td>         <th>  AIC                </th> <td>2128.116</td> \n",
              "</tr>\n",
              "<tr>\n",
              "  <th>Time:</th>                        <td>13:04:41</td>             <th>  BIC                </th> <td>2151.001</td> \n",
              "</tr>\n",
              "<tr>\n",
              "  <th>Sample:</th>                     <td>01-01-1990</td>            <th>  HQIC               </th> <td>2137.240</td> \n",
              "</tr>\n",
              "<tr>\n",
              "  <th></th>                           <td>- 12-01-2017</td>           <th>                     </th>     <td> </td>    \n",
              "</tr>\n",
              "<tr>\n",
              "  <th>Covariance Type:</th>                <td>opg</td>               <th>                     </th>     <td> </td>    \n",
              "</tr>\n",
              "</table>\n",
              "<table class=\"simpletable\">\n",
              "<tr>\n",
              "      <td></td>        <th>coef</th>     <th>std err</th>      <th>z</th>      <th>P>|z|</th>  <th>[0.025</th>    <th>0.975]</th>  \n",
              "</tr>\n",
              "<tr>\n",
              "  <th>ar.L1</th>    <td>    0.9241</td> <td>    0.043</td> <td>   21.264</td> <td> 0.000</td> <td>    0.839</td> <td>    1.009</td>\n",
              "</tr>\n",
              "<tr>\n",
              "  <th>ma.L1</th>    <td>   -0.9585</td> <td>    0.070</td> <td>  -13.602</td> <td> 0.000</td> <td>   -1.097</td> <td>   -0.820</td>\n",
              "</tr>\n",
              "<tr>\n",
              "  <th>ma.L2</th>    <td>    0.1498</td> <td>    0.061</td> <td>    2.462</td> <td> 0.014</td> <td>    0.031</td> <td>    0.269</td>\n",
              "</tr>\n",
              "<tr>\n",
              "  <th>ar.S.L12</th> <td>    0.9973</td> <td>    0.001</td> <td>  729.934</td> <td> 0.000</td> <td>    0.995</td> <td>    1.000</td>\n",
              "</tr>\n",
              "<tr>\n",
              "  <th>ma.S.L12</th> <td>   -0.7519</td> <td>    0.044</td> <td>  -17.157</td> <td> 0.000</td> <td>   -0.838</td> <td>   -0.666</td>\n",
              "</tr>\n",
              "<tr>\n",
              "  <th>sigma2</th>   <td>   28.7621</td> <td>    1.684</td> <td>   17.079</td> <td> 0.000</td> <td>   25.461</td> <td>   32.063</td>\n",
              "</tr>\n",
              "</table>\n",
              "<table class=\"simpletable\">\n",
              "<tr>\n",
              "  <th>Ljung-Box (L1) (Q):</th>     <td>0.00</td> <th>  Jarque-Bera (JB):  </th> <td>73.33</td>\n",
              "</tr>\n",
              "<tr>\n",
              "  <th>Prob(Q):</th>                <td>0.98</td> <th>  Prob(JB):          </th> <td>0.00</td> \n",
              "</tr>\n",
              "<tr>\n",
              "  <th>Heteroskedasticity (H):</th> <td>0.91</td> <th>  Skew:              </th> <td>-0.17</td>\n",
              "</tr>\n",
              "<tr>\n",
              "  <th>Prob(H) (two-sided):</th>    <td>0.63</td> <th>  Kurtosis:          </th> <td>5.27</td> \n",
              "</tr>\n",
              "</table><br/><br/>Warnings:<br/>[1] Covariance matrix calculated using the outer product of gradients (complex-step)."
            ],
            "text/plain": [
              "<class 'statsmodels.iolib.summary.Summary'>\n",
              "\"\"\"\n",
              "                                      SARIMAX Results                                       \n",
              "============================================================================================\n",
              "Dep. Variable:                            Employees   No. Observations:                  336\n",
              "Model:             SARIMAX(1, 1, 2)x(1, 0, [1], 12)   Log Likelihood               -1058.058\n",
              "Date:                              Wed, 15 Dec 2021   AIC                           2128.116\n",
              "Time:                                      13:04:41   BIC                           2151.001\n",
              "Sample:                                  01-01-1990   HQIC                          2137.240\n",
              "                                       - 12-01-2017                                         \n",
              "Covariance Type:                                opg                                         \n",
              "==============================================================================\n",
              "                 coef    std err          z      P>|z|      [0.025      0.975]\n",
              "------------------------------------------------------------------------------\n",
              "ar.L1          0.9241      0.043     21.264      0.000       0.839       1.009\n",
              "ma.L1         -0.9585      0.070    -13.602      0.000      -1.097      -0.820\n",
              "ma.L2          0.1498      0.061      2.462      0.014       0.031       0.269\n",
              "ar.S.L12       0.9973      0.001    729.934      0.000       0.995       1.000\n",
              "ma.S.L12      -0.7519      0.044    -17.157      0.000      -0.838      -0.666\n",
              "sigma2        28.7621      1.684     17.079      0.000      25.461      32.063\n",
              "===================================================================================\n",
              "Ljung-Box (L1) (Q):                   0.00   Jarque-Bera (JB):                73.33\n",
              "Prob(Q):                              0.98   Prob(JB):                         0.00\n",
              "Heteroskedasticity (H):               0.91   Skew:                            -0.17\n",
              "Prob(H) (two-sided):                  0.63   Kurtosis:                         5.27\n",
              "===================================================================================\n",
              "\n",
              "Warnings:\n",
              "[1] Covariance matrix calculated using the outer product of gradients (complex-step).\n",
              "\"\"\""
            ]
          },
          "metadata": {},
          "execution_count": 11
        }
      ]
    },
    {
      "cell_type": "code",
      "metadata": {
        "id": "ILb5XJ22fAKC",
        "outputId": "08e78798-4f13-4d35-aaeb-6e4bb37cdced",
        "colab": {
          "base_uri": "https://localhost:8080/",
          "height": 423
        }
      },
      "source": [
        "#изменим параметры с ожидаемым внизу результатом, то есть SARIMAX(0, 1, 0)x(2, 0, 0, 12)\n",
        "model = SARIMAX(train['Employees'],order=(0, 1, 0),seasonal_order=(2, 0, 0, 12)) #изменяем параметры\n",
        "results = model.fit()\n",
        "results.summary()\n",
        "\n",
        "#В результате видим изменения информационных объектов после изменения параметров модели"
      ],
      "execution_count": null,
      "outputs": [
        {
          "output_type": "execute_result",
          "data": {
            "text/html": [
              "<table class=\"simpletable\">\n",
              "<caption>SARIMAX Results</caption>\n",
              "<tr>\n",
              "  <th>Dep. Variable:</th>              <td>Employees</td>           <th>  No. Observations:  </th>    <td>336</td>   \n",
              "</tr>\n",
              "<tr>\n",
              "  <th>Model:</th>           <td>SARIMAX(0, 1, 0)x(2, 0, 0, 12)</td> <th>  Log Likelihood     </th> <td>-1095.407</td>\n",
              "</tr>\n",
              "<tr>\n",
              "  <th>Date:</th>                   <td>Wed, 15 Dec 2021</td>        <th>  AIC                </th> <td>2196.814</td> \n",
              "</tr>\n",
              "<tr>\n",
              "  <th>Time:</th>                       <td>13:04:51</td>            <th>  BIC                </th> <td>2208.256</td> \n",
              "</tr>\n",
              "<tr>\n",
              "  <th>Sample:</th>                    <td>01-01-1990</td>           <th>  HQIC               </th> <td>2201.375</td> \n",
              "</tr>\n",
              "<tr>\n",
              "  <th></th>                          <td>- 12-01-2017</td>          <th>                     </th>     <td> </td>    \n",
              "</tr>\n",
              "<tr>\n",
              "  <th>Covariance Type:</th>               <td>opg</td>              <th>                     </th>     <td> </td>    \n",
              "</tr>\n",
              "</table>\n",
              "<table class=\"simpletable\">\n",
              "<tr>\n",
              "      <td></td>        <th>coef</th>     <th>std err</th>      <th>z</th>      <th>P>|z|</th>  <th>[0.025</th>    <th>0.975]</th>  \n",
              "</tr>\n",
              "<tr>\n",
              "  <th>ar.S.L12</th> <td>    0.5204</td> <td>    0.040</td> <td>   13.051</td> <td> 0.000</td> <td>    0.442</td> <td>    0.599</td>\n",
              "</tr>\n",
              "<tr>\n",
              "  <th>ar.S.L24</th> <td>    0.4385</td> <td>    0.041</td> <td>   10.593</td> <td> 0.000</td> <td>    0.357</td> <td>    0.520</td>\n",
              "</tr>\n",
              "<tr>\n",
              "  <th>sigma2</th>   <td>   37.1907</td> <td>    2.165</td> <td>   17.175</td> <td> 0.000</td> <td>   32.947</td> <td>   41.435</td>\n",
              "</tr>\n",
              "</table>\n",
              "<table class=\"simpletable\">\n",
              "<tr>\n",
              "  <th>Ljung-Box (L1) (Q):</th>     <td>0.02</td> <th>  Jarque-Bera (JB):  </th> <td>56.66</td>\n",
              "</tr>\n",
              "<tr>\n",
              "  <th>Prob(Q):</th>                <td>0.89</td> <th>  Prob(JB):          </th> <td>0.00</td> \n",
              "</tr>\n",
              "<tr>\n",
              "  <th>Heteroskedasticity (H):</th> <td>1.06</td> <th>  Skew:              </th> <td>-0.35</td>\n",
              "</tr>\n",
              "<tr>\n",
              "  <th>Prob(H) (two-sided):</th>    <td>0.74</td> <th>  Kurtosis:          </th> <td>4.89</td> \n",
              "</tr>\n",
              "</table><br/><br/>Warnings:<br/>[1] Covariance matrix calculated using the outer product of gradients (complex-step)."
            ],
            "text/plain": [
              "<class 'statsmodels.iolib.summary.Summary'>\n",
              "\"\"\"\n",
              "                                     SARIMAX Results                                      \n",
              "==========================================================================================\n",
              "Dep. Variable:                          Employees   No. Observations:                  336\n",
              "Model:             SARIMAX(0, 1, 0)x(2, 0, 0, 12)   Log Likelihood               -1095.407\n",
              "Date:                            Wed, 15 Dec 2021   AIC                           2196.814\n",
              "Time:                                    13:04:51   BIC                           2208.256\n",
              "Sample:                                01-01-1990   HQIC                          2201.375\n",
              "                                     - 12-01-2017                                         \n",
              "Covariance Type:                              opg                                         \n",
              "==============================================================================\n",
              "                 coef    std err          z      P>|z|      [0.025      0.975]\n",
              "------------------------------------------------------------------------------\n",
              "ar.S.L12       0.5204      0.040     13.051      0.000       0.442       0.599\n",
              "ar.S.L24       0.4385      0.041     10.593      0.000       0.357       0.520\n",
              "sigma2        37.1907      2.165     17.175      0.000      32.947      41.435\n",
              "===================================================================================\n",
              "Ljung-Box (L1) (Q):                   0.02   Jarque-Bera (JB):                56.66\n",
              "Prob(Q):                              0.89   Prob(JB):                         0.00\n",
              "Heteroskedasticity (H):               1.06   Skew:                            -0.35\n",
              "Prob(H) (two-sided):                  0.74   Kurtosis:                         4.89\n",
              "===================================================================================\n",
              "\n",
              "Warnings:\n",
              "[1] Covariance matrix calculated using the outer product of gradients (complex-step).\n",
              "\"\"\""
            ]
          },
          "metadata": {},
          "execution_count": 12
        }
      ]
    },
    {
      "cell_type": "code",
      "metadata": {
        "id": "7yMVlcKJfAKC",
        "outputId": "8422cb88-1364-4aed-ae32-ff0bcf94c6c5"
      },
      "source": [
        ""
      ],
      "execution_count": null,
      "outputs": [
        {
          "data": {
            "text/html": [
              "<table class=\"simpletable\">\n",
              "<caption>Statespace Model Results</caption>\n",
              "<tr>\n",
              "  <th>Dep. Variable:</th>              <td>Employees</td>           <th>  No. Observations:  </th>    <td>336</td>   \n",
              "</tr>\n",
              "<tr>\n",
              "  <th>Model:</th>           <td>SARIMAX(0, 1, 0)x(2, 0, 0, 12)</td> <th>  Log Likelihood     </th> <td>-1095.407</td>\n",
              "</tr>\n",
              "<tr>\n",
              "  <th>Date:</th>                   <td>Wed, 27 Mar 2019</td>        <th>  AIC                </th> <td>2196.814</td> \n",
              "</tr>\n",
              "<tr>\n",
              "  <th>Time:</th>                       <td>13:12:24</td>            <th>  BIC                </th> <td>2208.256</td> \n",
              "</tr>\n",
              "<tr>\n",
              "  <th>Sample:</th>                    <td>01-01-1990</td>           <th>  HQIC               </th> <td>2201.375</td> \n",
              "</tr>\n",
              "<tr>\n",
              "  <th></th>                          <td>- 12-01-2017</td>          <th>                     </th>     <td> </td>    \n",
              "</tr>\n",
              "<tr>\n",
              "  <th>Covariance Type:</th>               <td>opg</td>              <th>                     </th>     <td> </td>    \n",
              "</tr>\n",
              "</table>\n",
              "<table class=\"simpletable\">\n",
              "<tr>\n",
              "      <td></td>        <th>coef</th>     <th>std err</th>      <th>z</th>      <th>P>|z|</th>  <th>[0.025</th>    <th>0.975]</th>  \n",
              "</tr>\n",
              "<tr>\n",
              "  <th>ar.S.L12</th> <td>    0.5204</td> <td>    0.040</td> <td>   13.051</td> <td> 0.000</td> <td>    0.442</td> <td>    0.599</td>\n",
              "</tr>\n",
              "<tr>\n",
              "  <th>ar.S.L24</th> <td>    0.4385</td> <td>    0.041</td> <td>   10.593</td> <td> 0.000</td> <td>    0.357</td> <td>    0.520</td>\n",
              "</tr>\n",
              "<tr>\n",
              "  <th>sigma2</th>   <td>   37.1907</td> <td>    2.165</td> <td>   17.175</td> <td> 0.000</td> <td>   32.947</td> <td>   41.435</td>\n",
              "</tr>\n",
              "</table>\n",
              "<table class=\"simpletable\">\n",
              "<tr>\n",
              "  <th>Ljung-Box (Q):</th>          <td>102.80</td> <th>  Jarque-Bera (JB):  </th> <td>56.66</td>\n",
              "</tr>\n",
              "<tr>\n",
              "  <th>Prob(Q):</th>                 <td>0.00</td>  <th>  Prob(JB):          </th> <td>0.00</td> \n",
              "</tr>\n",
              "<tr>\n",
              "  <th>Heteroskedasticity (H):</th>  <td>1.06</td>  <th>  Skew:              </th> <td>-0.35</td>\n",
              "</tr>\n",
              "<tr>\n",
              "  <th>Prob(H) (two-sided):</th>     <td>0.74</td>  <th>  Kurtosis:          </th> <td>4.89</td> \n",
              "</tr>\n",
              "</table><br/><br/>Warnings:<br/>[1] Covariance matrix calculated using the outer product of gradients (complex-step)."
            ],
            "text/plain": [
              "<class 'statsmodels.iolib.summary.Summary'>\n",
              "\"\"\"\n",
              "                                 Statespace Model Results                                 \n",
              "==========================================================================================\n",
              "Dep. Variable:                          Employees   No. Observations:                  336\n",
              "Model:             SARIMAX(0, 1, 0)x(2, 0, 0, 12)   Log Likelihood               -1095.407\n",
              "Date:                            Wed, 27 Mar 2019   AIC                           2196.814\n",
              "Time:                                    13:12:24   BIC                           2208.256\n",
              "Sample:                                01-01-1990   HQIC                          2201.375\n",
              "                                     - 12-01-2017                                         \n",
              "Covariance Type:                              opg                                         \n",
              "==============================================================================\n",
              "                 coef    std err          z      P>|z|      [0.025      0.975]\n",
              "------------------------------------------------------------------------------\n",
              "ar.S.L12       0.5204      0.040     13.051      0.000       0.442       0.599\n",
              "ar.S.L24       0.4385      0.041     10.593      0.000       0.357       0.520\n",
              "sigma2        37.1907      2.165     17.175      0.000      32.947      41.435\n",
              "===================================================================================\n",
              "Ljung-Box (Q):                      102.80   Jarque-Bera (JB):                56.66\n",
              "Prob(Q):                              0.00   Prob(JB):                         0.00\n",
              "Heteroskedasticity (H):               1.06   Skew:                            -0.35\n",
              "Prob(H) (two-sided):                  0.74   Kurtosis:                         4.89\n",
              "===================================================================================\n",
              "\n",
              "Warnings:\n",
              "[1] Covariance matrix calculated using the outer product of gradients (complex-step).\n",
              "\"\"\""
            ]
          },
          "execution_count": 6,
          "metadata": {},
          "output_type": "execute_result"
        }
      ]
    },
    {
      "cell_type": "markdown",
      "metadata": {
        "id": "57P6E6aGfAKC"
      },
      "source": [
        "### 6. Получите прогнозируемые значения"
      ]
    },
    {
      "cell_type": "code",
      "metadata": {
        "id": "-nI3dzWdfAKC"
      },
      "source": [
        "#Получаем предсказанные значения и пытаемся оценить качество прогноза\n",
        "start=len(train) #первая точка в тестовом множестве\n",
        "end=len(train)+len(test)-1 #последняя точка в тестовом множеств\n",
        "\n",
        "#предсказываем значения,передав модели results точку начала и окончания\n",
        "predictions = results.predict(start=start, end=end, dynamic=False, typ='levels').rename(' Predictions SARIMAX(1, 1, 2)x(1, 0, [1], 12)')"
      ],
      "execution_count": null,
      "outputs": []
    },
    {
      "cell_type": "markdown",
      "source": [
        "- dynamic=False - прогноз при использовании полной истории до точки прогнозирования\n",
        "- typ='levels' - уровни исходных эндогенных переменных (linear - разностные эндогенные переменные)"
      ],
      "metadata": {
        "id": "pC2X3UOZSQL_"
      }
    },
    {
      "cell_type": "code",
      "metadata": {
        "id": "0nX2XMH1fAKD",
        "outputId": "eed21118-142c-41a9-b8a1-ea654512bbe4",
        "colab": {
          "base_uri": "https://localhost:8080/",
          "height": 312
        }
      },
      "source": [
        "#Сравниваем результаты\n",
        "test['Employees'].plot(legend=True)\n",
        "predictions.plot(legend=True)"
      ],
      "execution_count": null,
      "outputs": [
        {
          "output_type": "execute_result",
          "data": {
            "text/plain": [
              "<matplotlib.axes._subplots.AxesSubplot at 0x7f0a9e7df810>"
            ]
          },
          "metadata": {},
          "execution_count": 14
        },
        {
          "output_type": "display_data",
          "data": {
            "image/png": "[encoded data removed]",
            "text/plain": [
              "<Figure size 432x288 with 1 Axes>"
            ]
          },
          "metadata": {
            "needs_background": "light"
          }
        }
      ]
    },
    {
      "cell_type": "markdown",
      "metadata": {
        "id": "HKsv1_KzfAKD"
      },
      "source": [
        "### 7. Нарисуйте графики прогнозируемых и известных значений\n"
      ]
    },
    {
      "cell_type": "code",
      "source": [
        "predictions = results.predict(start=start, end=end, dynamic=False, typ='levels').rename('SARIMA(0, 1, 0)x(2, 0, 0, 12) Predictions')\n",
        "test['Employees'].plot(legend=True, figsize=(12,6), xlabel='' , ylabel='Thousand of Persons', title='California Hospitality Industry Employees')\n",
        "predictions.plot(legend=True)"
      ],
      "metadata": {
        "colab": {
          "base_uri": "https://localhost:8080/",
          "height": 419
        },
        "id": "Aw6cUbljUfAx",
        "outputId": "d0f04b22-b4fa-4881-fd4b-485dd84304d6"
      },
      "execution_count": null,
      "outputs": [
        {
          "output_type": "execute_result",
          "data": {
            "text/plain": [
              "<matplotlib.axes._subplots.AxesSubplot at 0x7f0a93bf5dd0>"
            ]
          },
          "metadata": {},
          "execution_count": 15
        },
        {
          "output_type": "display_data",
          "data": {
            "image/png": "[encoded data removed]",
            "text/plain": [
              "<Figure size 864x432 with 1 Axes>"
            ]
          },
          "metadata": {
            "needs_background": "light"
          }
        }
      ]
    },
    {
      "cell_type": "code",
      "metadata": {
        "id": "ysrjifQ_fAKD",
        "outputId": "2ec87fdd-8561-4a2a-958c-2a08c1664f9f"
      },
      "source": [
        ""
      ],
      "execution_count": null,
      "outputs": [
        {
          "data": {
            "image/png": "[encoded data removed]",
            "text/plain": [
              "<Figure size 864x432 with 1 Axes>"
            ]
          },
          "metadata": {
            "needs_background": "light"
          },
          "output_type": "display_data"
        }
      ]
    },
    {
      "cell_type": "code",
      "metadata": {
        "id": "eIzdIiGFfAKD",
        "outputId": "2d23d4ca-d1e5-4b06-fef4-ea7e623d2b72"
      },
      "source": [
        ""
      ],
      "execution_count": null,
      "outputs": [
        {
          "name": "stdout",
          "output_type": "stream",
          "text": [
            "SARIMA(0,1,0)(2,0,0,12) MSE Error: 77.64833237\n",
            "SARIMA(0,1,0)(2,0,0,12) RMSE Error: 8.811829116\n"
          ]
        }
      ]
    },
    {
      "cell_type": "code",
      "source": [
        "#Оцениваем модель методом MSE (Среднеквадратическая ошибка Mean Square Error) и RMSE (Среднеквадратическое отклонение Root Mean Square Error)\n",
        "from sklearn.metrics import mean_squared_error\n",
        "from statsmodels.tools.eval_measures import rmse\n",
        "\n",
        "mse_error = mean_squared_error(test['Employees'], predictions)\n",
        "rmse_error = rmse(test['Employees'], predictions)\n",
        "\n",
        "print(f'SARIMA(0,1,0)(2,0,0,12) MSE Error: {mse_error:11.10}') #квадрат от единиц измерения 11 - кол-во символов (с точкой), 10 - после точки (сколько оставнется, но макс 10) \n",
        "print(f'SARIMA(0,1,0)(2,0,0,12) RMSE Error: {rmse_error:11.10}') #единицы те же, что и само измерение"
      ],
      "metadata": {
        "colab": {
          "base_uri": "https://localhost:8080/"
        },
        "id": "KnAVvWpVViWb",
        "outputId": "fefff7f2-8f8c-4a60-8e11-d734ea904d79"
      },
      "execution_count": null,
      "outputs": [
        {
          "output_type": "stream",
          "name": "stdout",
          "text": [
            "SARIMA(0,1,0)(2,0,0,12) MSE Error: 182.8506597\n",
            "SARIMA(0,1,0)(2,0,0,12) RMSE Error: 13.52222836\n"
          ]
        }
      ]
    },
    {
      "cell_type": "markdown",
      "metadata": {
        "id": "FgfDaNVafAKD"
      },
      "source": [
        "### 8. Оцените качество модели с помощью MSE и RMSE\n"
      ]
    },
    {
      "cell_type": "markdown",
      "source": [
        "! Рассчитываем качество прогноза с помощью:\n",
        "\n",
        "MSE (Mean Squared Error) - представляет собой разницу между исходным и прогнозируемым значениями, которые извлекаются путем возведения средней разницы по набору данных. Это мера того, насколько приближена подогнанная линия к фактическим точкам данных. Чем меньше Средняя квадратная ошибка, тем ближе подходит к набору данных. MSE имеет единицы измерения в квадрате всего, что построено на вертикальной оси.\n",
        "\n",
        "RMSE (Root Mean Squared Error) - это частота ошибок на квадратный корень MSE. RMSE является наиболее легко интерпретируемой статистикой, так как она имеет те же единицы, что и количество, нанесенное на вертикальную оси или ось Y."
      ],
      "metadata": {
        "id": "3vsMdaVcL9uD"
      }
    },
    {
      "cell_type": "code",
      "metadata": {
        "id": "OAbpN-mvfAKD",
        "outputId": "9dc9a25a-4eea-4e5f-95bb-7cbeeb951f70"
      },
      "source": [
        "error1 = mean_squared_error(test['Employees'], predictions)\n",
        "error2 = rmse(test['Employees'], predictions)\n",
        "print(f'SARIMAX(1, 1, 2)x(1, 0, [1], 12) MSE Error: {error1:11.10}')\n",
        "print(f'SARIMAX(1, 1, 2)x(1, 0, [1], 12) RMSE Error: {error2:11.10}')"
      ],
      "execution_count": null,
      "outputs": [
        {
          "name": "stdout",
          "output_type": "stream",
          "text": [
            "SARIMAX(1, 1, 2)x(1, 0, [1], 12) MSE Error: 77.64833237\n",
            "SARIMAX(1, 1, 2)x(1, 0, [1], 12) RMSE Error: 8.811829116\n"
          ]
        }
      ]
    },
    {
      "cell_type": "code",
      "source": [
        "#получаем результат по новой модели\n",
        "print(f'SARIMA(0,1,0)(2,0,0,12) MSE Error: {mse_error:11.10}') \n",
        "print(f'SARIMA(0,1,0)(2,0,0,12) RMSE Error: {rmse_error:11.10}') "
      ],
      "metadata": {
        "colab": {
          "base_uri": "https://localhost:8080/"
        },
        "id": "xhp3FQouVz6c",
        "outputId": "d8cc9deb-a1db-400c-eaa7-017fe7940af2"
      },
      "execution_count": null,
      "outputs": [
        {
          "output_type": "stream",
          "name": "stdout",
          "text": [
            "SARIMA(0,1,0)(2,0,0,12) MSE Error: 182.8506597\n",
            "SARIMA(0,1,0)(2,0,0,12) RMSE Error: 13.52222836\n"
          ]
        }
      ]
    },
    {
      "cell_type": "code",
      "metadata": {
        "id": "TX1rKYnPfAKE",
        "outputId": "1266fb78-831b-4b9b-e3b7-e1be39c5c4ca"
      },
      "source": [
        ""
      ],
      "execution_count": null,
      "outputs": [
        {
          "name": "stdout",
          "output_type": "stream",
          "text": [
            "SARIMA(0,1,0)(2,0,0,12) MSE Error: 182.8506646\n",
            "SARIMA(0,1,0)(2,0,0,12) RMSE Error: 13.52222854\n"
          ]
        }
      ]
    },
    {
      "cell_type": "markdown",
      "metadata": {
        "id": "KYT6pxJ4fAKE"
      },
      "source": [
        "### 9. Натренируйте модель на полном датасете и предскажите на год вперед"
      ]
    },
    {
      "cell_type": "code",
      "metadata": {
        "id": "_la_BvDtfAKE",
        "outputId": "5f4d6fbc-9c16-4e88-8ead-f2fad9e5bcef",
        "colab": {
          "base_uri": "https://localhost:8080/",
          "height": 423
        }
      },
      "source": [
        "model = SARIMAX(df['Employees'],order=(0, 1, 0),seasonal_order=(2, 0, 0, 12))\n",
        "results = model.fit()\n",
        "results.summary()"
      ],
      "execution_count": null,
      "outputs": [
        {
          "output_type": "execute_result",
          "data": {
            "text/html": [
              "<table class=\"simpletable\">\n",
              "<caption>SARIMAX Results</caption>\n",
              "<tr>\n",
              "  <th>Dep. Variable:</th>              <td>Employees</td>           <th>  No. Observations:  </th>    <td>348</td>   \n",
              "</tr>\n",
              "<tr>\n",
              "  <th>Model:</th>           <td>SARIMAX(0, 1, 0)x(2, 0, 0, 12)</td> <th>  Log Likelihood     </th> <td>-1134.677</td>\n",
              "</tr>\n",
              "<tr>\n",
              "  <th>Date:</th>                   <td>Wed, 15 Dec 2021</td>        <th>  AIC                </th> <td>2275.353</td> \n",
              "</tr>\n",
              "<tr>\n",
              "  <th>Time:</th>                       <td>13:07:56</td>            <th>  BIC                </th> <td>2286.901</td> \n",
              "</tr>\n",
              "<tr>\n",
              "  <th>Sample:</th>                    <td>01-01-1990</td>           <th>  HQIC               </th> <td>2279.951</td> \n",
              "</tr>\n",
              "<tr>\n",
              "  <th></th>                          <td>- 12-01-2018</td>          <th>                     </th>     <td> </td>    \n",
              "</tr>\n",
              "<tr>\n",
              "  <th>Covariance Type:</th>               <td>opg</td>              <th>                     </th>     <td> </td>    \n",
              "</tr>\n",
              "</table>\n",
              "<table class=\"simpletable\">\n",
              "<tr>\n",
              "      <td></td>        <th>coef</th>     <th>std err</th>      <th>z</th>      <th>P>|z|</th>  <th>[0.025</th>    <th>0.975]</th>  \n",
              "</tr>\n",
              "<tr>\n",
              "  <th>ar.S.L12</th> <td>    0.5293</td> <td>    0.040</td> <td>   13.352</td> <td> 0.000</td> <td>    0.452</td> <td>    0.607</td>\n",
              "</tr>\n",
              "<tr>\n",
              "  <th>ar.S.L24</th> <td>    0.4297</td> <td>    0.041</td> <td>   10.416</td> <td> 0.000</td> <td>    0.349</td> <td>    0.511</td>\n",
              "</tr>\n",
              "<tr>\n",
              "  <th>sigma2</th>   <td>   37.3116</td> <td>    2.152</td> <td>   17.335</td> <td> 0.000</td> <td>   33.093</td> <td>   41.530</td>\n",
              "</tr>\n",
              "</table>\n",
              "<table class=\"simpletable\">\n",
              "<tr>\n",
              "  <th>Ljung-Box (L1) (Q):</th>     <td>0.08</td> <th>  Jarque-Bera (JB):  </th> <td>51.83</td>\n",
              "</tr>\n",
              "<tr>\n",
              "  <th>Prob(Q):</th>                <td>0.78</td> <th>  Prob(JB):          </th> <td>0.00</td> \n",
              "</tr>\n",
              "<tr>\n",
              "  <th>Heteroskedasticity (H):</th> <td>0.86</td> <th>  Skew:              </th> <td>-0.29</td>\n",
              "</tr>\n",
              "<tr>\n",
              "  <th>Prob(H) (two-sided):</th>    <td>0.40</td> <th>  Kurtosis:          </th> <td>4.80</td> \n",
              "</tr>\n",
              "</table><br/><br/>Warnings:<br/>[1] Covariance matrix calculated using the outer product of gradients (complex-step)."
            ],
            "text/plain": [
              "<class 'statsmodels.iolib.summary.Summary'>\n",
              "\"\"\"\n",
              "                                     SARIMAX Results                                      \n",
              "==========================================================================================\n",
              "Dep. Variable:                          Employees   No. Observations:                  348\n",
              "Model:             SARIMAX(0, 1, 0)x(2, 0, 0, 12)   Log Likelihood               -1134.677\n",
              "Date:                            Wed, 15 Dec 2021   AIC                           2275.353\n",
              "Time:                                    13:07:56   BIC                           2286.901\n",
              "Sample:                                01-01-1990   HQIC                          2279.951\n",
              "                                     - 12-01-2018                                         \n",
              "Covariance Type:                              opg                                         \n",
              "==============================================================================\n",
              "                 coef    std err          z      P>|z|      [0.025      0.975]\n",
              "------------------------------------------------------------------------------\n",
              "ar.S.L12       0.5293      0.040     13.352      0.000       0.452       0.607\n",
              "ar.S.L24       0.4297      0.041     10.416      0.000       0.349       0.511\n",
              "sigma2        37.3116      2.152     17.335      0.000      33.093      41.530\n",
              "===================================================================================\n",
              "Ljung-Box (L1) (Q):                   0.08   Jarque-Bera (JB):                51.83\n",
              "Prob(Q):                              0.78   Prob(JB):                         0.00\n",
              "Heteroskedasticity (H):               0.86   Skew:                            -0.29\n",
              "Prob(H) (two-sided):                  0.40   Kurtosis:                         4.80\n",
              "===================================================================================\n",
              "\n",
              "Warnings:\n",
              "[1] Covariance matrix calculated using the outer product of gradients (complex-step).\n",
              "\"\"\""
            ]
          },
          "metadata": {},
          "execution_count": 18
        }
      ]
    },
    {
      "cell_type": "code",
      "metadata": {
        "id": "mLh03yi6fAKE"
      },
      "source": [
        "#задаем точки следующего года\n",
        "fcast = results.predict(len(df)-1,len(df)+11,typ='levels').rename('SARIMA(0, 1, 0)x(2, 0, 0, 12) Forecast ')"
      ],
      "execution_count": null,
      "outputs": []
    },
    {
      "cell_type": "markdown",
      "metadata": {
        "id": "QdwueY59fAKE"
      },
      "source": [
        "### 10. Постройте график предсказаний и график исходных данных\n"
      ]
    },
    {
      "cell_type": "code",
      "metadata": {
        "id": "B3dNf1sjfAKE",
        "outputId": "3d394834-316f-44a8-c1a7-4ebe8b1a6b47",
        "colab": {
          "base_uri": "https://localhost:8080/",
          "height": 294
        }
      },
      "source": [
        "#Посмотрим на forecast для всего датасета на год вперед\n",
        "fcast.plot()"
      ],
      "execution_count": null,
      "outputs": [
        {
          "output_type": "execute_result",
          "data": {
            "text/plain": [
              "<matplotlib.axes._subplots.AxesSubplot at 0x7f0a93d21650>"
            ]
          },
          "metadata": {},
          "execution_count": 21
        },
        {
          "output_type": "display_data",
          "data": {
            "image/png": "[encoded data removed]",
            "text/plain": [
              "<Figure size 432x288 with 1 Axes>"
            ]
          },
          "metadata": {
            "needs_background": "light"
          }
        }
      ]
    },
    {
      "cell_type": "code",
      "source": [
        "#Строим графики\n",
        "ax = df['Employees'].plot(legend=True, figsize=(12,6), xlabel='', ylabel='Thousands of Persons', title = 'California Hospitality Industry Employees') \n",
        "fcast.plot(legend=True)"
      ],
      "metadata": {
        "colab": {
          "base_uri": "https://localhost:8080/",
          "height": 407
        },
        "id": "4qw1yALrTH4D",
        "outputId": "394da724-020b-4860-d8a4-6c81c1026f7f"
      },
      "execution_count": null,
      "outputs": [
        {
          "output_type": "execute_result",
          "data": {
            "text/plain": [
              "<matplotlib.axes._subplots.AxesSubplot at 0x7f0a93db4110>"
            ]
          },
          "metadata": {},
          "execution_count": 23
        },
        {
          "output_type": "display_data",
          "data": {
            "image/png": "[encoded data removed]",
            "text/plain": [
              "<Figure size 864x432 with 1 Axes>"
            ]
          },
          "metadata": {
            "needs_background": "light"
          }
        }
      ]
    },
    {
      "cell_type": "code",
      "metadata": {
        "id": "sgaRYrsOfAKE",
        "outputId": "85738b87-9702-4015-de95-a402bcb82915"
      },
      "source": [
        ""
      ],
      "execution_count": null,
      "outputs": [
        {
          "data": {
            "image/png": "[encoded data removed]",
            "text/plain": [
              "<Figure size 864x432 with 1 Axes>"
            ]
          },
          "metadata": {
            "needs_background": "light"
          },
          "output_type": "display_data"
        }
      ]
    },
    {
      "cell_type": "code",
      "metadata": {
        "id": "gkSvP4PWfAKF"
      },
      "source": [
        ""
      ],
      "execution_count": null,
      "outputs": []
    },
    {
      "cell_type": "markdown",
      "metadata": {
        "id": "diE9B10afAKF"
      },
      "source": [
        "### Бонус: воспользуйтесь библиотекой Prophet для предсказания на 1 год вперед"
      ]
    },
    {
      "cell_type": "code",
      "metadata": {
        "id": "gl48bygsfAKF"
      },
      "source": [
        ""
      ],
      "execution_count": null,
      "outputs": []
    },
    {
      "cell_type": "markdown",
      "metadata": {
        "id": "vkgCZ81xJi2S"
      },
      "source": [
        "### Бонус: воспользуйтесь библиотекой Prophet для предсказания на 1 год вперед"
      ]
    },
    {
      "cell_type": "markdown",
      "metadata": {
        "id": "MX4WwMccJi2S"
      },
      "source": [
        "Prophet — очень популярная библиотека от компании Facebook для анализа и прогнозирования временных рядов. \n",
        "\n",
        "- просто настраиваются прогнозные модели\n",
        "- можно полностью довериться алгоритму и использовать его как «черный ящик»\n",
        "- можно очень детально настроить множество параметров, которые доступны в алгоритме  \n",
        "\n",
        "__Модель__ — это алгоритм или набор алгоритмов, которые строятся на основании данных и с помощью которого/которых мы сможем прогнозировать.\n",
        "\n",
        "__Посмотрим [документацию](https://facebook.github.io/prophet/docs/quick_start.html)__\n",
        "\n"
      ]
    },
    {
      "cell_type": "code",
      "execution_count": null,
      "metadata": {
        "id": "-G157tCZJi2S",
        "outputId": "c7bec762-f140-47c1-a0b8-2f5cb8943a97",
        "colab": {
          "base_uri": "https://localhost:8080/",
          "height": 238
        }
      },
      "outputs": [
        {
          "output_type": "execute_result",
          "data": {
            "text/html": [
              "<div>\n",
              "<style scoped>\n",
              "    .dataframe tbody tr th:only-of-type {\n",
              "        vertical-align: middle;\n",
              "    }\n",
              "\n",
              "    .dataframe tbody tr th {\n",
              "        vertical-align: top;\n",
              "    }\n",
              "\n",
              "    .dataframe thead th {\n",
              "        text-align: right;\n",
              "    }\n",
              "</style>\n",
              "<table border=\"1\" class=\"dataframe\">\n",
              "  <thead>\n",
              "    <tr style=\"text-align: right;\">\n",
              "      <th></th>\n",
              "      <th>Employees</th>\n",
              "    </tr>\n",
              "    <tr>\n",
              "      <th>Date</th>\n",
              "      <th></th>\n",
              "    </tr>\n",
              "  </thead>\n",
              "  <tbody>\n",
              "    <tr>\n",
              "      <th>1990-01-01</th>\n",
              "      <td>1064.5</td>\n",
              "    </tr>\n",
              "    <tr>\n",
              "      <th>1990-02-01</th>\n",
              "      <td>1074.5</td>\n",
              "    </tr>\n",
              "    <tr>\n",
              "      <th>1990-03-01</th>\n",
              "      <td>1090.0</td>\n",
              "    </tr>\n",
              "    <tr>\n",
              "      <th>1990-04-01</th>\n",
              "      <td>1097.4</td>\n",
              "    </tr>\n",
              "    <tr>\n",
              "      <th>1990-05-01</th>\n",
              "      <td>1108.7</td>\n",
              "    </tr>\n",
              "  </tbody>\n",
              "</table>\n",
              "</div>"
            ],
            "text/plain": [
              "            Employees\n",
              "Date                 \n",
              "1990-01-01     1064.5\n",
              "1990-02-01     1074.5\n",
              "1990-03-01     1090.0\n",
              "1990-04-01     1097.4\n",
              "1990-05-01     1108.7"
            ]
          },
          "metadata": {},
          "execution_count": 46
        }
      ],
      "source": [
        "#посмотрим еще раз на наш датасет\n",
        "df.head()"
      ]
    },
    {
      "cell_type": "code",
      "execution_count": null,
      "metadata": {
        "id": "oejX0DjbJi2T"
      },
      "outputs": [],
      "source": [
        "#выделим тестовую (последний год) и обущающую (до последнего года) выборку\n",
        "train = df.iloc[:len(df)-12]\n",
        "test = df.iloc[len(df)-12:]"
      ]
    },
    {
      "cell_type": "code",
      "execution_count": null,
      "metadata": {
        "id": "UzkrLvJ5Ji2T",
        "outputId": "18c24400-8b7e-4ec5-a8d4-acaf81c8ff65",
        "colab": {
          "base_uri": "https://localhost:8080/",
          "height": 238
        }
      },
      "outputs": [
        {
          "output_type": "execute_result",
          "data": {
            "text/html": [
              "<div>\n",
              "<style scoped>\n",
              "    .dataframe tbody tr th:only-of-type {\n",
              "        vertical-align: middle;\n",
              "    }\n",
              "\n",
              "    .dataframe tbody tr th {\n",
              "        vertical-align: top;\n",
              "    }\n",
              "\n",
              "    .dataframe thead th {\n",
              "        text-align: right;\n",
              "    }\n",
              "</style>\n",
              "<table border=\"1\" class=\"dataframe\">\n",
              "  <thead>\n",
              "    <tr style=\"text-align: right;\">\n",
              "      <th></th>\n",
              "      <th>Employees</th>\n",
              "    </tr>\n",
              "    <tr>\n",
              "      <th>Date</th>\n",
              "      <th></th>\n",
              "    </tr>\n",
              "  </thead>\n",
              "  <tbody>\n",
              "    <tr>\n",
              "      <th>1990-01-01</th>\n",
              "      <td>1064.5</td>\n",
              "    </tr>\n",
              "    <tr>\n",
              "      <th>1990-02-01</th>\n",
              "      <td>1074.5</td>\n",
              "    </tr>\n",
              "    <tr>\n",
              "      <th>1990-03-01</th>\n",
              "      <td>1090.0</td>\n",
              "    </tr>\n",
              "    <tr>\n",
              "      <th>1990-04-01</th>\n",
              "      <td>1097.4</td>\n",
              "    </tr>\n",
              "    <tr>\n",
              "      <th>1990-05-01</th>\n",
              "      <td>1108.7</td>\n",
              "    </tr>\n",
              "  </tbody>\n",
              "</table>\n",
              "</div>"
            ],
            "text/plain": [
              "            Employees\n",
              "Date                 \n",
              "1990-01-01     1064.5\n",
              "1990-02-01     1074.5\n",
              "1990-03-01     1090.0\n",
              "1990-04-01     1097.4\n",
              "1990-05-01     1108.7"
            ]
          },
          "metadata": {},
          "execution_count": 48
        }
      ],
      "source": [
        "#посмотрим на обущающую выборку\n",
        "train.head()"
      ]
    },
    {
      "cell_type": "code",
      "execution_count": null,
      "metadata": {
        "id": "ZUhpEPF0Ji2T",
        "outputId": "d10d3220-2caf-4495-aa9e-82ff0b495cc1",
        "colab": {
          "base_uri": "https://localhost:8080/",
          "height": 238
        }
      },
      "outputs": [
        {
          "output_type": "execute_result",
          "data": {
            "text/html": [
              "<div>\n",
              "<style scoped>\n",
              "    .dataframe tbody tr th:only-of-type {\n",
              "        vertical-align: middle;\n",
              "    }\n",
              "\n",
              "    .dataframe tbody tr th {\n",
              "        vertical-align: top;\n",
              "    }\n",
              "\n",
              "    .dataframe thead th {\n",
              "        text-align: right;\n",
              "    }\n",
              "</style>\n",
              "<table border=\"1\" class=\"dataframe\">\n",
              "  <thead>\n",
              "    <tr style=\"text-align: right;\">\n",
              "      <th></th>\n",
              "      <th>Employees</th>\n",
              "    </tr>\n",
              "    <tr>\n",
              "      <th>Date</th>\n",
              "      <th></th>\n",
              "    </tr>\n",
              "  </thead>\n",
              "  <tbody>\n",
              "    <tr>\n",
              "      <th>2018-01-01</th>\n",
              "      <td>1916.8</td>\n",
              "    </tr>\n",
              "    <tr>\n",
              "      <th>2018-02-01</th>\n",
              "      <td>1944.5</td>\n",
              "    </tr>\n",
              "    <tr>\n",
              "      <th>2018-03-01</th>\n",
              "      <td>1962.2</td>\n",
              "    </tr>\n",
              "    <tr>\n",
              "      <th>2018-04-01</th>\n",
              "      <td>1984.9</td>\n",
              "    </tr>\n",
              "    <tr>\n",
              "      <th>2018-05-01</th>\n",
              "      <td>2001.5</td>\n",
              "    </tr>\n",
              "  </tbody>\n",
              "</table>\n",
              "</div>"
            ],
            "text/plain": [
              "            Employees\n",
              "Date                 \n",
              "2018-01-01     1916.8\n",
              "2018-02-01     1944.5\n",
              "2018-03-01     1962.2\n",
              "2018-04-01     1984.9\n",
              "2018-05-01     2001.5"
            ]
          },
          "metadata": {},
          "execution_count": 49
        }
      ],
      "source": [
        "#посмотрим на тестовую выборку\n",
        "test.head()"
      ]
    },
    {
      "cell_type": "markdown",
      "metadata": {
        "id": "eajjKSTVJi2T"
      },
      "source": [
        "Установим и импортируем `Prophet()`.\n",
        "\n",
        "!Если профет не установился через \n",
        "\n",
        "`!pip install pystan\n",
        " !pip install fbprophet`\n",
        "\n",
        "пишите мне"
      ]
    },
    {
      "cell_type": "code",
      "source": [
        "!pip install pystan \n",
        "!pip install fbprophet"
      ],
      "metadata": {
        "colab": {
          "base_uri": "https://localhost:8080/"
        },
        "id": "cqZ2ndzoZXLB",
        "outputId": "969abcfd-6504-4396-85e9-26f45ecf5904"
      },
      "execution_count": null,
      "outputs": [
        {
          "output_type": "stream",
          "name": "stdout",
          "text": [
            "Requirement already satisfied: pystan in /usr/local/lib/python3.7/dist-packages (2.19.1.1)\n",
            "Requirement already satisfied: numpy>=1.7 in /usr/local/lib/python3.7/dist-packages (from pystan) (1.19.5)\n",
            "Requirement already satisfied: Cython!=0.25.1,>=0.22 in /usr/local/lib/python3.7/dist-packages (from pystan) (0.29.24)\n",
            "Requirement already satisfied: fbprophet in /usr/local/lib/python3.7/dist-packages (0.7.1)\n",
            "Requirement already satisfied: Cython>=0.22 in /usr/local/lib/python3.7/dist-packages (from fbprophet) (0.29.24)\n",
            "Requirement already satisfied: cmdstanpy==0.9.5 in /usr/local/lib/python3.7/dist-packages (from fbprophet) (0.9.5)\n",
            "Requirement already satisfied: pystan>=2.14 in /usr/local/lib/python3.7/dist-packages (from fbprophet) (2.19.1.1)\n",
            "Requirement already satisfied: numpy>=1.15.4 in /usr/local/lib/python3.7/dist-packages (from fbprophet) (1.19.5)\n",
            "Requirement already satisfied: pandas>=1.0.4 in /usr/local/lib/python3.7/dist-packages (from fbprophet) (1.1.5)\n",
            "Requirement already satisfied: matplotlib>=2.0.0 in /usr/local/lib/python3.7/dist-packages (from fbprophet) (3.2.2)\n",
            "Requirement already satisfied: LunarCalendar>=0.0.9 in /usr/local/lib/python3.7/dist-packages (from fbprophet) (0.0.9)\n",
            "Requirement already satisfied: convertdate>=2.1.2 in /usr/local/lib/python3.7/dist-packages (from fbprophet) (2.3.2)\n",
            "Requirement already satisfied: holidays>=0.10.2 in /usr/local/lib/python3.7/dist-packages (from fbprophet) (0.10.5.2)\n",
            "Requirement already satisfied: setuptools-git>=1.2 in /usr/local/lib/python3.7/dist-packages (from fbprophet) (1.2)\n",
            "Requirement already satisfied: python-dateutil>=2.8.0 in /usr/local/lib/python3.7/dist-packages (from fbprophet) (2.8.2)\n",
            "Requirement already satisfied: tqdm>=4.36.1 in /usr/local/lib/python3.7/dist-packages (from fbprophet) (4.62.3)\n",
            "Requirement already satisfied: pymeeus<=1,>=0.3.13 in /usr/local/lib/python3.7/dist-packages (from convertdate>=2.1.2->fbprophet) (0.5.11)\n",
            "Requirement already satisfied: pytz>=2014.10 in /usr/local/lib/python3.7/dist-packages (from convertdate>=2.1.2->fbprophet) (2018.9)\n",
            "Requirement already satisfied: hijri-converter in /usr/local/lib/python3.7/dist-packages (from holidays>=0.10.2->fbprophet) (2.2.2)\n",
            "Requirement already satisfied: korean-lunar-calendar in /usr/local/lib/python3.7/dist-packages (from holidays>=0.10.2->fbprophet) (0.2.1)\n",
            "Requirement already satisfied: six in /usr/local/lib/python3.7/dist-packages (from holidays>=0.10.2->fbprophet) (1.15.0)\n",
            "Requirement already satisfied: ephem>=3.7.5.3 in /usr/local/lib/python3.7/dist-packages (from LunarCalendar>=0.0.9->fbprophet) (4.1)\n",
            "Requirement already satisfied: pyparsing!=2.0.4,!=2.1.2,!=2.1.6,>=2.0.1 in /usr/local/lib/python3.7/dist-packages (from matplotlib>=2.0.0->fbprophet) (3.0.6)\n",
            "Requirement already satisfied: kiwisolver>=1.0.1 in /usr/local/lib/python3.7/dist-packages (from matplotlib>=2.0.0->fbprophet) (1.3.2)\n",
            "Requirement already satisfied: cycler>=0.10 in /usr/local/lib/python3.7/dist-packages (from matplotlib>=2.0.0->fbprophet) (0.11.0)\n"
          ]
        }
      ]
    },
    {
      "cell_type": "code",
      "execution_count": null,
      "metadata": {
        "id": "bBSVHKkzJi2U"
      },
      "outputs": [],
      "source": [
        "from fbprophet import Prophet"
      ]
    },
    {
      "cell_type": "markdown",
      "metadata": {
        "id": "szDlg6mCJi2U"
      },
      "source": [
        "Сначала попробуем построить прогнозную модель без указания каких бы то ни было параметров — пусть алгоритм действует на свое усмотрение.\n",
        "\n",
        "__Параметры__ — это настройки модели. Обученная модель фиксирует ряд настроек, и мы на этапе обучения можем подсказать ей, как настраиваться или оставить настройки  «по умолчанию» . \n",
        "\n",
        "Чтобы создать модель, мы используем \n",
        "1. объект `Prophet()` из библиотеки\n",
        "\n",
        "2. метод `.fit()` для подгонки модели\n",
        "3. правильно подготовленные данные\n",
        "\n",
        "\n",
        "Создадим `model`, присвоив ей объект `Prophet()`"
      ]
    },
    {
      "cell_type": "code",
      "execution_count": null,
      "metadata": {
        "id": "Q_8DfsEgJi2U",
        "colab": {
          "base_uri": "https://localhost:8080/"
        },
        "outputId": "e4eda34c-13cf-4b78-a649-4a72ffa24284"
      },
      "outputs": [
        {
          "output_type": "execute_result",
          "data": {
            "text/plain": [
              "<fbprophet.forecaster.Prophet at 0x7f5959bb1350>"
            ]
          },
          "metadata": {},
          "execution_count": 57
        }
      ],
      "source": [
        "model = Prophet()\n",
        "model"
      ]
    },
    {
      "cell_type": "markdown",
      "metadata": {
        "id": "P-oILTYNJi2U"
      },
      "source": [
        "`.fit()` — метод подгонки модели под заданные данные и параметры модели\n",
        "\n",
        "Нужно, чтобы в метод `.fit()` подавался датафрейм с нужными полями. Заглянем еще раз в [документацию.](https://facebook.github.io/prophet/docs/quick_start.html)\n",
        "- `ds` — временная гранула, в нашем случае месяц\n",
        "\n",
        "- `y` — значения, которые будем предсказывать, в нашем случае кол-во сотрудников"
      ]
    },
    {
      "cell_type": "code",
      "execution_count": null,
      "metadata": {
        "id": "05HOezbzJi2U"
      },
      "outputs": [],
      "source": [
        "train_0 = train.reset_index() #Индекс сбросим, чтобы работать только с колонками.\n",
        "test_0 = test.reset_index() #Индекс сбросим, чтобы работать только с колонками."
      ]
    },
    {
      "cell_type": "code",
      "execution_count": null,
      "metadata": {
        "id": "XGguTMxhJi2U",
        "colab": {
          "base_uri": "https://localhost:8080/",
          "height": 206
        },
        "outputId": "83e11374-4f47-4704-b940-b00be37d11ce"
      },
      "outputs": [
        {
          "output_type": "execute_result",
          "data": {
            "text/html": [
              "<div>\n",
              "<style scoped>\n",
              "    .dataframe tbody tr th:only-of-type {\n",
              "        vertical-align: middle;\n",
              "    }\n",
              "\n",
              "    .dataframe tbody tr th {\n",
              "        vertical-align: top;\n",
              "    }\n",
              "\n",
              "    .dataframe thead th {\n",
              "        text-align: right;\n",
              "    }\n",
              "</style>\n",
              "<table border=\"1\" class=\"dataframe\">\n",
              "  <thead>\n",
              "    <tr style=\"text-align: right;\">\n",
              "      <th></th>\n",
              "      <th>Date</th>\n",
              "      <th>Employees</th>\n",
              "    </tr>\n",
              "  </thead>\n",
              "  <tbody>\n",
              "    <tr>\n",
              "      <th>0</th>\n",
              "      <td>1990-01-01</td>\n",
              "      <td>1064.5</td>\n",
              "    </tr>\n",
              "    <tr>\n",
              "      <th>1</th>\n",
              "      <td>1990-02-01</td>\n",
              "      <td>1074.5</td>\n",
              "    </tr>\n",
              "    <tr>\n",
              "      <th>2</th>\n",
              "      <td>1990-03-01</td>\n",
              "      <td>1090.0</td>\n",
              "    </tr>\n",
              "    <tr>\n",
              "      <th>3</th>\n",
              "      <td>1990-04-01</td>\n",
              "      <td>1097.4</td>\n",
              "    </tr>\n",
              "    <tr>\n",
              "      <th>4</th>\n",
              "      <td>1990-05-01</td>\n",
              "      <td>1108.7</td>\n",
              "    </tr>\n",
              "  </tbody>\n",
              "</table>\n",
              "</div>"
            ],
            "text/plain": [
              "        Date  Employees\n",
              "0 1990-01-01     1064.5\n",
              "1 1990-02-01     1074.5\n",
              "2 1990-03-01     1090.0\n",
              "3 1990-04-01     1097.4\n",
              "4 1990-05-01     1108.7"
            ]
          },
          "metadata": {},
          "execution_count": 59
        }
      ],
      "source": [
        "train_0.head() #посмотрим преобразование после сброса индексов"
      ]
    },
    {
      "cell_type": "code",
      "execution_count": null,
      "metadata": {
        "id": "uwm0YKkMJi2V"
      },
      "outputs": [],
      "source": [
        "# Переименуем столбцы в обучающем и тестовом датасетах, чтобы они подходили для использования методов Prophet\n",
        "train_0.columns = ['ds', 'y'] # переименовали столбцы\n",
        "test_0.columns = ['ds', 'y'] # переименовали столбцы"
      ]
    },
    {
      "cell_type": "code",
      "execution_count": null,
      "metadata": {
        "id": "hsjrmXxYJi2V",
        "colab": {
          "base_uri": "https://localhost:8080/",
          "height": 206
        },
        "outputId": "ceac20e3-81a3-4c87-b3eb-379dc2e6dcfc"
      },
      "outputs": [
        {
          "output_type": "execute_result",
          "data": {
            "text/html": [
              "<div>\n",
              "<style scoped>\n",
              "    .dataframe tbody tr th:only-of-type {\n",
              "        vertical-align: middle;\n",
              "    }\n",
              "\n",
              "    .dataframe tbody tr th {\n",
              "        vertical-align: top;\n",
              "    }\n",
              "\n",
              "    .dataframe thead th {\n",
              "        text-align: right;\n",
              "    }\n",
              "</style>\n",
              "<table border=\"1\" class=\"dataframe\">\n",
              "  <thead>\n",
              "    <tr style=\"text-align: right;\">\n",
              "      <th></th>\n",
              "      <th>ds</th>\n",
              "      <th>y</th>\n",
              "    </tr>\n",
              "  </thead>\n",
              "  <tbody>\n",
              "    <tr>\n",
              "      <th>0</th>\n",
              "      <td>1990-01-01</td>\n",
              "      <td>1064.5</td>\n",
              "    </tr>\n",
              "    <tr>\n",
              "      <th>1</th>\n",
              "      <td>1990-02-01</td>\n",
              "      <td>1074.5</td>\n",
              "    </tr>\n",
              "    <tr>\n",
              "      <th>2</th>\n",
              "      <td>1990-03-01</td>\n",
              "      <td>1090.0</td>\n",
              "    </tr>\n",
              "    <tr>\n",
              "      <th>3</th>\n",
              "      <td>1990-04-01</td>\n",
              "      <td>1097.4</td>\n",
              "    </tr>\n",
              "    <tr>\n",
              "      <th>4</th>\n",
              "      <td>1990-05-01</td>\n",
              "      <td>1108.7</td>\n",
              "    </tr>\n",
              "  </tbody>\n",
              "</table>\n",
              "</div>"
            ],
            "text/plain": [
              "          ds       y\n",
              "0 1990-01-01  1064.5\n",
              "1 1990-02-01  1074.5\n",
              "2 1990-03-01  1090.0\n",
              "3 1990-04-01  1097.4\n",
              "4 1990-05-01  1108.7"
            ]
          },
          "metadata": {},
          "execution_count": 61
        }
      ],
      "source": [
        "train_0.head() #посмотрим преобразование после переименования колонок"
      ]
    },
    {
      "cell_type": "code",
      "execution_count": null,
      "metadata": {
        "id": "mizGkz1fJi2V",
        "colab": {
          "base_uri": "https://localhost:8080/"
        },
        "outputId": "ea1eb8f3-1fbd-4bd3-b52c-a9ef36dd10ff"
      },
      "outputs": [
        {
          "output_type": "stream",
          "name": "stderr",
          "text": [
            "INFO:numexpr.utils:NumExpr defaulting to 2 threads.\n",
            "INFO:fbprophet:Disabling weekly seasonality. Run prophet with weekly_seasonality=True to override this.\n",
            "INFO:fbprophet:Disabling daily seasonality. Run prophet with daily_seasonality=True to override this.\n"
          ]
        },
        {
          "output_type": "execute_result",
          "data": {
            "text/plain": [
              "<fbprophet.forecaster.Prophet at 0x7f5959bb1350>"
            ]
          },
          "metadata": {},
          "execution_count": 62
        }
      ],
      "source": [
        "model.fit(train_0) # подогнали модель под наши данные"
      ]
    },
    {
      "cell_type": "markdown",
      "metadata": {
        "id": "5DOrky5fJi2V"
      },
      "source": [
        "Как видим, алгоритм сам нам подсказывает, что он проигнорировал, выбирая параметры  \n",
        "\n",
        "1. `Disabling weekly seasonality. Run prophet with weekly_seasonality=True to override this.`\n",
        "\n",
        "    - недельную сезонность (*для недельной сезонности нам нужно иметь данные минимум за месяц, чтобы суметь использовать ее в модели*)\n",
        "\n",
        "\n",
        "2. `INFO:fbprophet:Disabling daily seasonality. Run prophet with daily_seasonality=True to override this.`\n",
        "\n",
        "    - дневную сезонность (*дневная сезонность может использоваться в случае, если данные собираются по часам/минутам, в нашем случае данные представлены по месяцам*).\n",
        "\n",
        "\n",
        "Зато он обнаружил годовую сезонность и использовал его при настройке модели.\n"
      ]
    },
    {
      "cell_type": "markdown",
      "source": [
        "## Качество модели\n",
        "\n",
        "Посмотрим на качество получившейся модели. Для этого нам необходимо задать горизонт прогнозирования (в нашем случае это год) и создать дата-фрейм с датами из «будущего», для которого модель потом будет строить прогноз.\n",
        "\n",
        "`make_future_dataframe()` — метод профета, который создает дата-фрейм с временным периодом будущего. В аргумент ему мы передаем `periods` и задаем количество элементов, на которые хотим получить прогноз. \n",
        "\n",
        "Так как наши данные имеют месячную гранулярность, прогноз мы также получим по месяцам от последней даты на количество месяцев, указанное в скобках."
      ],
      "metadata": {
        "id": "krjRShgLetGm"
      }
    },
    {
      "cell_type": "code",
      "execution_count": null,
      "metadata": {
        "id": "vqgQtC0CJi2V"
      },
      "outputs": [],
      "source": [
        "future = model.make_future_dataframe(periods=12, freq='MS') # говорим профету сделать дата-фрейм на 12 месяцев\n",
        "future.tail(12) # выводим 12 строк с конца"
      ]
    },
    {
      "cell_type": "markdown",
      "metadata": {
        "id": "ccdc2FfnJi2V"
      },
      "source": [
        "Теперь можем построить прогноз методом __`.predict`__.\n",
        "\n",
        "Применим его к нашей модели и запишем в отдельную переменную.\n",
        "\n",
        "доверительный интервал по умолчанию 95%, это популярный стандарт, который вполне нас устраивает"
      ]
    },
    {
      "cell_type": "code",
      "execution_count": null,
      "metadata": {
        "id": "-xCqibiWJi2V"
      },
      "outputs": [],
      "source": [
        "forecast = model.predict(future)\n",
        "forecast.head() # возвращает много колонок"
      ]
    },
    {
      "cell_type": "markdown",
      "metadata": {
        "id": "6zLhLF27Ji2W"
      },
      "source": [
        "Основные поля в прогнозе следующие:\n",
        "- `ds` — дата прогноза\n",
        "\n",
        "- `yhat` — спрогнозированное значение\n",
        "\n",
        "- `yhat_lower` — нижняя граница доверительного интервала для прогноза\n",
        "- `yhat_upper` — верхняя граница доверительного интервала для прогноза"
      ]
    },
    {
      "cell_type": "code",
      "execution_count": null,
      "metadata": {
        "id": "VvGU_ADOJi2W"
      },
      "outputs": [],
      "source": [
        "forecast[['ds', 'yhat', 'yhat_lower', 'yhat_upper']].tail() # оставим только нужные"
      ]
    },
    {
      "cell_type": "markdown",
      "metadata": {
        "id": "ksxnJXH9Ji2W"
      },
      "source": [
        "Также с помощью метода `.plot()` прогноз можно построить на графике и посмотреть визуально его адекватность.\n",
        "\n",
        "Черные точки — наши данные."
      ]
    },
    {
      "cell_type": "code",
      "execution_count": null,
      "metadata": {
        "id": "zRjuKMtbJi2W"
      },
      "outputs": [],
      "source": [
        "model.plot(forecast);"
      ]
    },
    {
      "cell_type": "markdown",
      "metadata": {
        "id": "-sqDbAdiJi2W"
      },
      "source": [
        "Кроме того, Prophet позволяет также наглядно разложить ряд на основные компоненты — тренд и сезонность:\n",
        "\n",
        "`plot_components()` — возвращает несколько графиков, среди которых тренд и столько сезонностей, сколько он найдет.\n",
        "\n",
        "Точка с запятой в конце строки позволяет не выводить лишнего. Обычно такая проблема возникает с графиками — выводится лишняя информация или даже дублирующиеся графики.\n",
        "\n",
        "`Suppress output\n",
        "Put a ‘;’ at the end of a line to suppress the printing of output. This is useful when doing calculations which generate long output you are not interested in seeing. It also keeps the object out of the output cache, so if you’re working with large temporary objects, they’ll be released from memory sooner.`"
      ]
    },
    {
      "cell_type": "code",
      "execution_count": null,
      "metadata": {
        "id": "qo7tKm8JJi2W"
      },
      "outputs": [],
      "source": [
        "model.plot_components(forecast);"
      ]
    },
    {
      "cell_type": "markdown",
      "metadata": {
        "id": "zn6a83yhJi2W"
      },
      "source": [
        "Видим, что тренд у кол-ва сотрудников возрастающий и у нас есть четкая годовая сезонность:\n",
        "- меньше всего в середине февраля\n",
        "- среди месяцев больше всего кол-ва сотрудников в июне и августе"
      ]
    },
    {
      "cell_type": "markdown",
      "metadata": {
        "id": "OpGPkUWKJi2W"
      },
      "source": [
        "## Ошибка прогноза\n",
        "\n",
        "Давайте посмотрим, какая получилась ошибка прогноза. По модели мы строим прогноз на тестовый период, затем сравниваем его с контрольными данными и считаем отклонение.\n",
        "\n",
        "### Как посчитать отклонение?\n",
        "\n",
        "Ошибку прогноза мы посчитаем с помощью функции `mean absolute error()` — среднее значение модулей отклонений прогноза от факта — из библиотеки `scikit-learn`:\n",
        "\n",
        "В аргументы он принимает серию предсказанных значений и серию с контрольными значениями.  \n",
        "\n",
        "Что под капотом у функции: из факта вычитаем прогноз, берем от этого модуль (положительное значение) и считаем среднее значение по всем модулям. \n"
      ]
    },
    {
      "cell_type": "code",
      "execution_count": null,
      "metadata": {
        "id": "iZoLaaSXJi2W"
      },
      "outputs": [],
      "source": [
        "from sklearn.metrics import mean_absolute_error\n",
        "\n",
        "mean_absolute_error(forecast['yhat'].tail(12), test_0['y']) "
      ]
    },
    {
      "cell_type": "markdown",
      "metadata": {
        "id": "tuRl4tshJi2X"
      },
      "source": [
        "Сходу не понять, сильное ли отклонение мы получили. Посмотрим в %.\n",
        "\n",
        "Для того чтобы посчитать `отклонение в процентах`, необходимо `модули отклонений прогноза от факта` разделить на `факт`, от полученных значений посчитать среднее арифметическое и умножить на 100.\n",
        "\n",
        "`np.mean()` — функция библиотеки NumPy считает среднее арифметическое\n",
        "\n",
        "`np.abs()` — функция библиотеки NumPy, которая вернет модули"
      ]
    },
    {
      "cell_type": "code",
      "execution_count": null,
      "metadata": {
        "id": "tfq4EFFIJi2X"
      },
      "outputs": [],
      "source": [
        "modul_dif = np.abs(forecast.tail(12).reset_index()['yhat'] - test_0['y']) # положим модули отклонений от прогноза в отдельную переменную\n",
        "\n",
        "dif = np.mean(modul_dif/test_0['y']) # считаем среднее арифметическое отклонение \n",
        "\n",
        "dif_percent = dif*100 # получаем процент\n",
        "\n",
        "dif_percent"
      ]
    },
    {
      "cell_type": "markdown",
      "metadata": {
        "id": "7S6md1MuJi2X"
      },
      "source": [
        "Или все то же самое можно записать в одну строку"
      ]
    },
    {
      "cell_type": "code",
      "execution_count": null,
      "metadata": {
        "id": "CECEoT8rJi2X",
        "outputId": "2abcf727-4501-4cf8-e3d7-bfa8f99f6129"
      },
      "outputs": [
        {
          "ename": "NameError",
          "evalue": "name 'np' is not defined",
          "output_type": "error",
          "traceback": [
            "\u001b[0;31m---------------------------------------------------------------------------\u001b[0m",
            "\u001b[0;31mNameError\u001b[0m                                 Traceback (most recent call last)",
            "\u001b[0;32m<ipython-input-3-244dae534439>\u001b[0m in \u001b[0;36m<module>\u001b[0;34m\u001b[0m\n\u001b[0;32m----> 1\u001b[0;31m \u001b[0mnp\u001b[0m\u001b[0;34m.\u001b[0m\u001b[0mmean\u001b[0m\u001b[0;34m(\u001b[0m\u001b[0mnp\u001b[0m\u001b[0;34m.\u001b[0m\u001b[0mabs\u001b[0m\u001b[0;34m(\u001b[0m\u001b[0mforecast\u001b[0m\u001b[0;34m.\u001b[0m\u001b[0mtail\u001b[0m\u001b[0;34m(\u001b[0m\u001b[0;36m12\u001b[0m\u001b[0;34m)\u001b[0m\u001b[0;34m.\u001b[0m\u001b[0mreset_index\u001b[0m\u001b[0;34m(\u001b[0m\u001b[0;34m)\u001b[0m\u001b[0;34m[\u001b[0m\u001b[0;34m'yhat'\u001b[0m\u001b[0;34m]\u001b[0m \u001b[0;34m-\u001b[0m \u001b[0mtest_0\u001b[0m\u001b[0;34m[\u001b[0m\u001b[0;34m'y'\u001b[0m\u001b[0;34m]\u001b[0m\u001b[0;34m)\u001b[0m\u001b[0;34m/\u001b[0m\u001b[0mtest_0\u001b[0m\u001b[0;34m[\u001b[0m\u001b[0;34m'y'\u001b[0m\u001b[0;34m]\u001b[0m\u001b[0;34m)\u001b[0m\u001b[0;34m*\u001b[0m\u001b[0;36m100\u001b[0m\u001b[0;34m\u001b[0m\u001b[0;34m\u001b[0m\u001b[0m\n\u001b[0m",
            "\u001b[0;31mNameError\u001b[0m: name 'np' is not defined"
          ]
        }
      ],
      "source": [
        "np.mean(np.abs(forecast.tail(12).reset_index()['yhat'] - test_0['y'])/test_0['y'])*100"
      ]
    },
    {
      "cell_type": "markdown",
      "metadata": {
        "id": "wp_j-vVhJi2X"
      },
      "source": [
        "Итого, отклонение на 2.5%"
      ]
    },
    {
      "cell_type": "markdown",
      "metadata": {
        "id": "wTpk9HA-Ji2X"
      },
      "source": [
        "## Настройка параметров модели\n",
        "\n",
        "Мы запускали модель без параметров, давайте посмотрим, какие параметры модели можно задать. Рассмотрим основные:\n",
        "- __`growth`__ — тренд \n",
        "    - `linear` — линейный, то есть данные растут или убывают равномерно\n",
        "    \n",
        "    - `logistic` — логистический сложносочиненный микс динамики данных\n",
        "    \n",
        "    \n",
        "- __`holidays`__ — дата-фрейм с описанием праздников/выходных дней, чтобы они учитывались при построении прогноза\n",
        "\n",
        "\n",
        "- __`seasonality`__ — сезонность\n",
        "\n",
        "    - `weekly_seasonality` — недельная сезонность \n",
        "\n",
        "    - `daily_seasonality` — дневная сезонность \n",
        "\n",
        "    - `yearly_seasonality` — годовая сезонность \n",
        "    \n",
        "\n",
        "- __`seasonality_mode`__ \n",
        "    - `multiplicative` — мультипликативная \n",
        "    - `additive` — аддитивная\n",
        "    \n",
        "Аддитивную сезонность имеет смысл использовать, если амплитуда колебаний сезонности из года в год не меняется. Если амплитуда колебаний сезонности из года в год меняется (т. е. размах уменьшается или увеличивается), то используем мультипликативную сезонность.\n",
        "\n",
        "Вытащим тренд и обозначим, что у нас мультипликативная сезонность"
      ]
    },
    {
      "cell_type": "code",
      "execution_count": null,
      "metadata": {
        "id": "aSOwRaNUJi2X"
      },
      "outputs": [],
      "source": [
        "model_1 = Prophet(growth = 'linear', yearly_seasonality = True, seasonality_mode='additive') #создаем объект модели профет\n",
        "model_1.fit(train_0) #прогоняем новую модель через набор данных\n",
        "\n",
        "future_1 = model_1.make_future_dataframe(periods=12, freq='MS') # говорим профету сделать дата-фрейм на 12 месяцев\n",
        "forecast_1 = model_1.predict(future_1) #предсказываем значения по новой модели\n",
        "error_forecast_1 = mean_absolute_error(forecast_1['yhat'].tail(12), test_0['y'])\n",
        "print('MSE: ', error_forecast_1)"
      ]
    },
    {
      "cell_type": "code",
      "execution_count": null,
      "metadata": {
        "id": "_P0vvqqDJi2X"
      },
      "outputs": [],
      "source": [
        "#Посмотрим в % ошибку прогноза\n",
        "np.mean(np.abs(forecast_1.tail(12).reset_index()['yhat'] - test_0['y'])/test_0['y'])*100"
      ]
    },
    {
      "cell_type": "markdown",
      "metadata": {
        "id": "tP1xVL-SJi2Y"
      },
      "source": [
        "В результате при настройках модели ошибка составила такой же порог, что означает, что параметры в данном случае модель сама предсказала и установила корректные."
      ]
    },
    {
      "cell_type": "markdown",
      "metadata": {
        "id": "Ub6J4d2BJi2Y"
      },
      "source": [
        "# Задание * :можно построить прогноз на датасете BeerWineLiquor.csv  "
      ]
    }
  ]
}