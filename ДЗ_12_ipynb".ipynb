{
  "nbformat": 4,
  "nbformat_minor": 0,
  "metadata": {
    "colab": {
      "name": "ДЗ_12.ipynb\"",
      "provenance": [],
      "collapsed_sections": [],
      "include_colab_link": true
    },
    "kernelspec": {
      "name": "python3",
      "display_name": "Python 3"
    },
    "language_info": {
      "name": "python"
    }
  },
  "cells": [
    {
      "cell_type": "markdown",
      "metadata": {
        "id": "view-in-github",
        "colab_type": "text"
      },
      "source": [
        "<a href=\"https://colab.research.google.com/github/valyaler/innopolis/blob/master/%D0%94%D0%97_12_ipynb%22.ipynb\" target=\"_parent\"><img src=\"https://colab.research.google.com/assets/colab-badge.svg\" alt=\"Open In Colab\"/></a>"
      ]
    },
    {
      "cell_type": "code",
      "metadata": {
        "colab": {
          "base_uri": "https://localhost:8080/"
        },
        "id": "bEfciOoIrWjV",
        "outputId": "e531b965-4e47-4f4f-b134-b4c140ec5169"
      },
      "source": [
        "!pip install pyspark"
      ],
      "execution_count": null,
      "outputs": [
        {
          "output_type": "stream",
          "name": "stdout",
          "text": [
            "Collecting pyspark\n",
            "  Downloading pyspark-3.2.0.tar.gz (281.3 MB)\n",
            "\u001b[K     |████████████████████████████████| 281.3 MB 37 kB/s \n",
            "\u001b[?25hCollecting py4j==0.10.9.2\n",
            "  Downloading py4j-0.10.9.2-py2.py3-none-any.whl (198 kB)\n",
            "\u001b[K     |████████████████████████████████| 198 kB 54.9 MB/s \n",
            "\u001b[?25hBuilding wheels for collected packages: pyspark\n",
            "  Building wheel for pyspark (setup.py) ... \u001b[?25l\u001b[?25hdone\n",
            "  Created wheel for pyspark: filename=pyspark-3.2.0-py2.py3-none-any.whl size=281805912 sha256=b92ad3f720d38c5c9e0627bf2ee5e0dfd0c7f8099e187c66685a47f86a777cee\n",
            "  Stored in directory: /root/.cache/pip/wheels/0b/de/d2/9be5d59d7331c6c2a7c1b6d1a4f463ce107332b1ecd4e80718\n",
            "Successfully built pyspark\n",
            "Installing collected packages: py4j, pyspark\n",
            "Successfully installed py4j-0.10.9.2 pyspark-3.2.0\n"
          ]
        }
      ]
    },
    {
      "cell_type": "code",
      "metadata": {
        "id": "hGG2CopXE5VZ"
      },
      "source": [
        "# загружаем библиотеки\n",
        "import pandas as pd\n",
        "import numpy as np"
      ],
      "execution_count": null,
      "outputs": []
    },
    {
      "cell_type": "markdown",
      "source": [
        "Отличия между датафреймом Spark и pandas: https://medium.com/@chris_bour/6-differences-between-pandas-and-spark-dataframes-1380cec394d2"
      ],
      "metadata": {
        "id": "5Cqc1Dq5Rkbj"
      }
    },
    {
      "cell_type": "code",
      "metadata": {
        "id": "Nm1ysYsyrwt0"
      },
      "source": [
        "from pyspark.context import SparkContext\n",
        "from pyspark.sql.session import SparkSession #to define a SparkSession\n",
        "\n",
        "sc = SparkContext('local') #spark connection\n",
        "spark = SparkSession(sc) # open spark_session"
      ],
      "execution_count": null,
      "outputs": []
    },
    {
      "cell_type": "markdown",
      "source": [
        "**1. Загрузите данные при помощи spark.read.csv из приложенного файла.**"
      ],
      "metadata": {
        "id": "S6tNUlDKNfW1"
      }
    },
    {
      "cell_type": "markdown",
      "source": [
        "Документация: https://spark.apache.org/docs/latest/sql-data-sources-csv.html"
      ],
      "metadata": {
        "id": "N7e_dHDNORgo"
      }
    },
    {
      "cell_type": "code",
      "metadata": {
        "id": "STSQWmZPlaO9"
      },
      "source": [
        "# Используем options() чтобы задать несколько опций:\n",
        "# header=True - Для чтения использует первую строку в качестве имен столбцов\n",
        "# sep=\",\" - Устанавливает разделитель для каждого поля и значения\n",
        "# quote=\"\" - Нужно установить пустую строку для отключения кавычки, тк quote по-умолчанию \", тк ковычки не являются разделителем\n",
        "df = spark.read.options(sep=\",\", header=True).csv('iris.csv')"
      ],
      "execution_count": null,
      "outputs": []
    },
    {
      "cell_type": "markdown",
      "source": [
        "**2. Выведите 5 первых строк данных.**"
      ],
      "metadata": {
        "id": "PBDvw5sINYqa"
      }
    },
    {
      "cell_type": "code",
      "metadata": {
        "id": "4YQKk7yfmboy",
        "colab": {
          "base_uri": "https://localhost:8080/"
        },
        "outputId": "5f9dcb87-7901-4108-89e7-41ffce9677e0"
      },
      "source": [
        "df.show(5) #указываем кол-во строк"
      ],
      "execution_count": null,
      "outputs": [
        {
          "output_type": "stream",
          "name": "stdout",
          "text": [
            "+------------+-----------+------------+-----------+-------+\n",
            "|sepal.length|sepal.width|petal.length|petal.width|variety|\n",
            "+------------+-----------+------------+-----------+-------+\n",
            "|         5.1|        3.5|         1.4|         .2| Setosa|\n",
            "|         4.9|          3|         1.4|         .2| Setosa|\n",
            "|         4.7|        3.2|         1.3|         .2| Setosa|\n",
            "|         4.6|        3.1|         1.5|         .2| Setosa|\n",
            "|           5|        3.6|         1.4|         .2| Setosa|\n",
            "+------------+-----------+------------+-----------+-------+\n",
            "only showing top 5 rows\n",
            "\n"
          ]
        }
      ]
    },
    {
      "cell_type": "code",
      "source": [
        "#выведем список колонок\n",
        "df.columns"
      ],
      "metadata": {
        "colab": {
          "base_uri": "https://localhost:8080/"
        },
        "id": "hmpBMvhpUjPW",
        "outputId": "73f3e4eb-a4af-4a22-837e-ab4fefd44aa2"
      },
      "execution_count": null,
      "outputs": [
        {
          "output_type": "execute_result",
          "data": {
            "text/plain": [
              "['sepal.length', 'sepal.width', 'petal.length', 'petal.width', 'variety']"
            ]
          },
          "metadata": {},
          "execution_count": 28
        }
      ]
    },
    {
      "cell_type": "code",
      "source": [
        "#преобразуем названия колонок, создав новый датафрейм\n",
        "newColumns = [\"sepal_length\",\"sepal_width\",\"petal_length\",\"petal_width\",\"variety\"]\n",
        "\n",
        "df_new = df.toDF(*newColumns)\n",
        "df_new.show(5)"
      ],
      "metadata": {
        "colab": {
          "base_uri": "https://localhost:8080/"
        },
        "id": "9fuUePZXutX0",
        "outputId": "a355c9c9-d9ab-4de0-c90f-40c5b8cadd73"
      },
      "execution_count": null,
      "outputs": [
        {
          "output_type": "stream",
          "name": "stdout",
          "text": [
            "+------------+-----------+------------+-----------+-------+\n",
            "|sepal_length|sepal_width|petal_length|petal_width|variety|\n",
            "+------------+-----------+------------+-----------+-------+\n",
            "|         5.1|        3.5|         1.4|         .2| Setosa|\n",
            "|         4.9|          3|         1.4|         .2| Setosa|\n",
            "|         4.7|        3.2|         1.3|         .2| Setosa|\n",
            "|         4.6|        3.1|         1.5|         .2| Setosa|\n",
            "|           5|        3.6|         1.4|         .2| Setosa|\n",
            "+------------+-----------+------------+-----------+-------+\n",
            "only showing top 5 rows\n",
            "\n"
          ]
        }
      ]
    },
    {
      "cell_type": "code",
      "source": [
        "from pyspark.sql.functions import *\n",
        "#from pyspark.sql.functions import col, udf\n",
        "from pyspark.sql.types import DoubleType, IntegerType, DateType"
      ],
      "metadata": {
        "id": "nN7cteeCbZRn"
      },
      "execution_count": null,
      "outputs": []
    },
    {
      "cell_type": "code",
      "source": [
        "#преобразуем в другие типы данных\n",
        "df_new = df_new \\\n",
        "    .withColumn('sepal_length', col('sepal_length').cast(DoubleType())) \\\n",
        "    .withColumn('sepal_width', col('sepal_width').cast(DoubleType())) \\\n",
        "    .withColumn('petal_length', col('petal_length').cast(DoubleType())) \\\n",
        "    .withColumn('petal_width', col('petal_width').cast(DoubleType()))"
      ],
      "metadata": {
        "id": "JlLw7AICbaI8"
      },
      "execution_count": null,
      "outputs": []
    },
    {
      "cell_type": "code",
      "source": [
        "#посмотрим на типы атрибутов\n",
        "df_new.printSchema()"
      ],
      "metadata": {
        "colab": {
          "base_uri": "https://localhost:8080/"
        },
        "id": "oVtPi8ENQr2W",
        "outputId": "767f650f-4a96-4ac2-bbe0-a7a3641d7f13"
      },
      "execution_count": null,
      "outputs": [
        {
          "output_type": "stream",
          "name": "stdout",
          "text": [
            "root\n",
            " |-- sepal_length: double (nullable = true)\n",
            " |-- sepal_width: double (nullable = true)\n",
            " |-- petal_length: double (nullable = true)\n",
            " |-- petal_width: double (nullable = true)\n",
            " |-- variety: string (nullable = true)\n",
            "\n"
          ]
        }
      ]
    },
    {
      "cell_type": "code",
      "source": [
        "#посмотрим на итоговый преобразованный датафрейм\n",
        "df_new.show(5)"
      ],
      "metadata": {
        "colab": {
          "base_uri": "https://localhost:8080/"
        },
        "id": "Ta7CAIpYb8M1",
        "outputId": "3ab88b4a-8a5a-4aed-a4a8-ea0cee481353"
      },
      "execution_count": null,
      "outputs": [
        {
          "output_type": "stream",
          "name": "stdout",
          "text": [
            "+------------+-----------+------------+-----------+-------+\n",
            "|sepal_length|sepal_width|petal_length|petal_width|variety|\n",
            "+------------+-----------+------------+-----------+-------+\n",
            "|         5.1|        3.5|         1.4|        0.2| Setosa|\n",
            "|         4.9|        3.0|         1.4|        0.2| Setosa|\n",
            "|         4.7|        3.2|         1.3|        0.2| Setosa|\n",
            "|         4.6|        3.1|         1.5|        0.2| Setosa|\n",
            "|         5.0|        3.6|         1.4|        0.2| Setosa|\n",
            "+------------+-----------+------------+-----------+-------+\n",
            "only showing top 5 rows\n",
            "\n"
          ]
        }
      ]
    },
    {
      "cell_type": "markdown",
      "source": [
        "**3. Воспользуйтесь командами groupBy, max, min и avg, чтобы вывести максимальное минимальное и среднее значение каждого из атрибутов\n",
        "цветка ('sepal_length','sepal_width','petal_length','petal_width').**"
      ],
      "metadata": {
        "id": "RUTUACLtOe_t"
      }
    },
    {
      "cell_type": "markdown",
      "source": [
        "Справочная информация: https://sparkbyexamples.com/spark/using-groupby-on-dataframe/"
      ],
      "metadata": {
        "id": "z4uqRLKzfSdo"
      }
    },
    {
      "cell_type": "code",
      "source": [
        "#посмотрим на статистические показатели датафрейма\n",
        "df_new.summary().show()"
      ],
      "metadata": {
        "colab": {
          "base_uri": "https://localhost:8080/"
        },
        "id": "wYISslhmOckU",
        "outputId": "708f7471-fed6-44ed-ecc0-a7f653b66115"
      },
      "execution_count": null,
      "outputs": [
        {
          "output_type": "stream",
          "name": "stdout",
          "text": [
            "+-------+------------------+-------------------+------------------+------------------+---------+\n",
            "|summary|      sepal_length|        sepal_width|      petal_length|       petal_width|  variety|\n",
            "+-------+------------------+-------------------+------------------+------------------+---------+\n",
            "|  count|               150|                150|               150|               150|      150|\n",
            "|   mean| 5.843333333333335|  3.057333333333334|3.7580000000000027| 1.199333333333334|     null|\n",
            "| stddev|0.8280661279778637|0.43586628493669793|1.7652982332594662|0.7622376689603467|     null|\n",
            "|    min|               4.3|                2.0|               1.0|               0.1|   Setosa|\n",
            "|    25%|               5.1|                2.8|               1.6|               0.3|     null|\n",
            "|    50%|               5.8|                3.0|               4.3|               1.3|     null|\n",
            "|    75%|               6.4|                3.3|               5.1|               1.8|     null|\n",
            "|    max|               7.9|                4.4|               6.9|               2.5|Virginica|\n",
            "+-------+------------------+-------------------+------------------+------------------+---------+\n",
            "\n"
          ]
        }
      ]
    },
    {
      "cell_type": "code",
      "source": [
        "#создадим функцию\n",
        "def agg_func(attr):\n",
        "  df_new.groupBy(\"variety\")  \\\n",
        "    .agg(  \\\n",
        "      sum(attr),  \\\n",
        "      avg(attr),  \\\n",
        "      min(attr),  \\\n",
        "      max(attr))  \\\n",
        "    .show()"
      ],
      "metadata": {
        "id": "fD1QXUCfg2cv"
      },
      "execution_count": null,
      "outputs": []
    },
    {
      "cell_type": "code",
      "source": [
        "#реализуем через цикл\n",
        "for i in df_new.columns[:-1]:\n",
        "  agg_func(i)"
      ],
      "metadata": {
        "colab": {
          "base_uri": "https://localhost:8080/"
        },
        "id": "Y1F_2hcfd76a",
        "outputId": "e7796114-7ffc-4da0-bdf3-0e4ac5e10e7b"
      },
      "execution_count": null,
      "outputs": [
        {
          "output_type": "stream",
          "name": "stdout",
          "text": [
            "+----------+------------------+-----------------+-----------------+-----------------+\n",
            "|   variety| sum(sepal_length)|avg(sepal_length)|min(sepal_length)|max(sepal_length)|\n",
            "+----------+------------------+-----------------+-----------------+-----------------+\n",
            "| Virginica| 329.3999999999999|6.587999999999998|              4.9|              7.9|\n",
            "|    Setosa|250.29999999999998|5.005999999999999|              4.3|              5.8|\n",
            "|Versicolor|             296.8|            5.936|              4.9|              7.0|\n",
            "+----------+------------------+-----------------+-----------------+-----------------+\n",
            "\n",
            "+----------+------------------+------------------+----------------+----------------+\n",
            "|   variety|  sum(sepal_width)|  avg(sepal_width)|min(sepal_width)|max(sepal_width)|\n",
            "+----------+------------------+------------------+----------------+----------------+\n",
            "| Virginica|             148.7|2.9739999999999998|             2.2|             3.8|\n",
            "|    Setosa|171.40000000000003| 3.428000000000001|             2.3|             4.4|\n",
            "|Versicolor|138.50000000000003|2.7700000000000005|             2.0|             3.4|\n",
            "+----------+------------------+------------------+----------------+----------------+\n",
            "\n",
            "+----------+------------------+------------------+-----------------+-----------------+\n",
            "|   variety| sum(petal_length)| avg(petal_length)|min(petal_length)|max(petal_length)|\n",
            "+----------+------------------+------------------+-----------------+-----------------+\n",
            "| Virginica|277.59999999999997|             5.552|              4.5|              6.9|\n",
            "|    Setosa| 73.10000000000001|1.4620000000000002|              1.0|              1.9|\n",
            "|Versicolor|212.99999999999997|              4.26|              3.0|              5.1|\n",
            "+----------+------------------+------------------+-----------------+-----------------+\n",
            "\n",
            "+----------+------------------+------------------+----------------+----------------+\n",
            "|   variety|  sum(petal_width)|  avg(petal_width)|min(petal_width)|max(petal_width)|\n",
            "+----------+------------------+------------------+----------------+----------------+\n",
            "| Virginica|101.29999999999998|             2.026|             1.4|             2.5|\n",
            "|    Setosa|12.299999999999995|0.2459999999999999|             0.1|             0.6|\n",
            "|Versicolor|              66.3|1.3259999999999998|             1.0|             1.8|\n",
            "+----------+------------------+------------------+----------------+----------------+\n",
            "\n"
          ]
        }
      ]
    },
    {
      "cell_type": "markdown",
      "source": [
        "**4. Постройте точечную диаграмму для petal_length и petal_width,\n",
        "раскрашенный по типам цветков.**"
      ],
      "metadata": {
        "id": "rArUYaB0hevz"
      }
    },
    {
      "cell_type": "code",
      "source": [
        "import seaborn as sns\n",
        "import matplotlib.pyplot as plt"
      ],
      "metadata": {
        "id": "CAi_yDy0iDnF"
      },
      "execution_count": null,
      "outputs": []
    },
    {
      "cell_type": "code",
      "source": [
        "#для построения визуализации преобразуем в тип датафрейма Pandas\n",
        "df_new_sample = df_new.toPandas()"
      ],
      "metadata": {
        "id": "GAFeIF2TibHt"
      },
      "execution_count": null,
      "outputs": []
    },
    {
      "cell_type": "code",
      "source": [
        "sns.scatterplot(data = df_new_sample, x = \"petal_length\", y = \"petal_width\", hue = \"variety\")\n",
        "plt.show()"
      ],
      "metadata": {
        "colab": {
          "base_uri": "https://localhost:8080/",
          "height": 280
        },
        "id": "rF9Rc46hi2gw",
        "outputId": "0b0b6036-62fb-4056-c178-59cb6d22c373"
      },
      "execution_count": null,
      "outputs": [
        {
          "output_type": "display_data",
          "data": {
            "image/png": "[encoded data removed]",
            "text/plain": [
              "<Figure size 432x288 with 1 Axes>"
            ]
          },
          "metadata": {
            "needs_background": "light"
          }
        }
      ]
    },
    {
      "cell_type": "markdown",
      "source": [
        "**5. Посмотрите внимательно на получившийся график и сформируйте\n",
        "правило вида ЕСЛИ ЗНАЧЕНИЕ ПАРАМЕТРА A < ЗНАЧЕНИЕ, ТО IRIS\n",
        "ОТНОСИТСЯ К КЛАССУ SETOSA - ИНАЧЕ К КАКОМУ-ТО ДРУГОМУ\n",
        "(НАЗОВЕМ, ЕГО НАПРИМЕР UNKNOWN).**"
      ],
      "metadata": {
        "id": "GC-W1wsMjKzj"
      }
    },
    {
      "cell_type": "markdown",
      "source": [
        "Если значение petal_length < 2.5 и petal_width < 1, то это класс Setosa, иначе - Unknown"
      ],
      "metadata": {
        "id": "f155z3I5jn7o"
      }
    },
    {
      "cell_type": "markdown",
      "source": [
        "**6. При помощи команд withColumn, when, otherwise создайте в датафрейме\n",
        "новую колонку с таким предсказанием.**"
      ],
      "metadata": {
        "id": "Ii7YyRrznXxx"
      }
    },
    {
      "cell_type": "code",
      "source": [
        "df_new_ex = df_new.withColumn(\"predict\", \\\n",
        "                           when((df_new.petal_length < 2.5) & (df_new.petal_width < 1), lit(\"Setosa\")) \\\n",
        "                           .otherwise(lit(\"Unknown\"))\n",
        "                           )"
      ],
      "metadata": {
        "id": "43lO-J-qjOaM"
      },
      "execution_count": null,
      "outputs": []
    },
    {
      "cell_type": "code",
      "source": [
        "df_new_ex.show(5)"
      ],
      "metadata": {
        "colab": {
          "base_uri": "https://localhost:8080/"
        },
        "id": "eL2-yg9GlY5J",
        "outputId": "6042b901-8d5e-49f0-e497-3ea67899228c"
      },
      "execution_count": null,
      "outputs": [
        {
          "output_type": "stream",
          "name": "stdout",
          "text": [
            "+------------+-----------+------------+-----------+-------+-------+\n",
            "|sepal_length|sepal_width|petal_length|petal_width|variety|predict|\n",
            "+------------+-----------+------------+-----------+-------+-------+\n",
            "|         5.1|        3.5|         1.4|        0.2| Setosa| Setosa|\n",
            "|         4.9|        3.0|         1.4|        0.2| Setosa| Setosa|\n",
            "|         4.7|        3.2|         1.3|        0.2| Setosa| Setosa|\n",
            "|         4.6|        3.1|         1.5|        0.2| Setosa| Setosa|\n",
            "|         5.0|        3.6|         1.4|        0.2| Setosa| Setosa|\n",
            "+------------+-----------+------------+-----------+-------+-------+\n",
            "only showing top 5 rows\n",
            "\n"
          ]
        }
      ]
    },
    {
      "cell_type": "markdown",
      "source": [
        "**7. Проверьте качество своего предсказания.**\n",
        "\n",
        "Для этого:\n",
        "\n",
        "7.1. Подсчитайте количество строк, где Вы предсказали класс Setosa и\n",
        "правильный класс был так же Setosa.\n",
        "\n",
        "7.2. Подсчитайте количество строк, где Вы предсказали класс Setosa, а\n",
        "правильный класс был какой-то другой (воспользуйтесь оператором \"не\n",
        "равно\" - !=)"
      ],
      "metadata": {
        "id": "hFkVC_E6jWNo"
      }
    },
    {
      "cell_type": "code",
      "source": [
        "df_new_ex.agg(\n",
        "    count(when(col(\"variety\") == \"Setosa\", True)), #сколько всего вариантов Setosa\n",
        "    count(when((col(\"variety\") == \"Setosa\") & (col(\"predict\") == \"Setosa\"), True)), #сколько совпадений\n",
        "    count(when((col(\"variety\") != \"Setosa\") & (col(\"predict\") == \"Setosa\"), True)) #сколько несовпадений\n",
        "    ).show()"
      ],
      "metadata": {
        "colab": {
          "base_uri": "https://localhost:8080/"
        },
        "id": "HS-_GcQ8ll81",
        "outputId": "e210500b-920a-4109-ae9f-de46c0147377"
      },
      "execution_count": null,
      "outputs": [
        {
          "output_type": "stream",
          "name": "stdout",
          "text": [
            "+-------------------------------------------------+--------------------------------------------------------------------------+--------------------------------------------------------------------------------+\n",
            "|count(CASE WHEN (variety = Setosa) THEN true END)|count(CASE WHEN ((variety = Setosa) AND (predict = Setosa)) THEN true END)|count(CASE WHEN ((NOT (variety = Setosa)) AND (predict = Setosa)) THEN true END)|\n",
            "+-------------------------------------------------+--------------------------------------------------------------------------+--------------------------------------------------------------------------------+\n",
            "|                                               50|                                                                        50|                                                                               0|\n",
            "+-------------------------------------------------+--------------------------------------------------------------------------+--------------------------------------------------------------------------------+\n",
            "\n"
          ]
        }
      ]
    }
  ]
}