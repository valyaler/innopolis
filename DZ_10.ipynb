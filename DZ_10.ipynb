{
  "nbformat": 4,
  "nbformat_minor": 0,
  "metadata": {
    "colab": {
      "name": "DZ-10.ipynb",
      "provenance": [],
      "collapsed_sections": [],
      "authorship_tag": "ABX9TyOF3vV80i4QwKbWyRiQvNRB",
      "include_colab_link": true
    },
    "kernelspec": {
      "name": "python3",
      "display_name": "Python 3"
    },
    "language_info": {
      "name": "python"
    }
  },
  "cells": [
    {
      "cell_type": "markdown",
      "metadata": {
        "id": "view-in-github",
        "colab_type": "text"
      },
      "source": [
        "<a href=\"https://colab.research.google.com/github/valyaler/innopolis/blob/master/DZ_10.ipynb\" target=\"_parent\"><img src=\"https://colab.research.google.com/assets/colab-badge.svg\" alt=\"Open In Colab\"/></a>"
      ]
    },
    {
      "cell_type": "markdown",
      "metadata": {
        "id": "NyIFa1pDBnXo"
      },
      "source": [
        "Гипотеза вариант А эффективен"
      ]
    },
    {
      "cell_type": "markdown",
      "metadata": {
        "id": "24G0WcBpJ4eN"
      },
      "source": [
        "вариант В лучше"
      ]
    },
    {
      "cell_type": "markdown",
      "metadata": {
        "id": "rB_IgdUDCcCO"
      },
      "source": [
        "Уровень значимости 0,05"
      ]
    },
    {
      "cell_type": "code",
      "metadata": {
        "id": "GjEYFffuXCmt"
      },
      "source": [
        "import pandas as pd\n",
        "df=pd.read_csv('ad.csv')"
      ],
      "execution_count": null,
      "outputs": []
    },
    {
      "cell_type": "code",
      "metadata": {
        "colab": {
          "base_uri": "https://localhost:8080/"
        },
        "id": "77-oaoh5aqmK",
        "outputId": "224eec14-d7a1-4993-f875-ff9d96792d58"
      },
      "source": [
        "print('Число степеней свободы А,В:')\n",
        "p1*1000-1,p2*1000-1"
      ],
      "execution_count": null,
      "outputs": [
        {
          "output_type": "stream",
          "name": "stdout",
          "text": [
            "Число степеней свободы А,В:\n"
          ]
        },
        {
          "output_type": "execute_result",
          "data": {
            "text/plain": [
              "(303.0, 371.0)"
            ]
          },
          "metadata": {},
          "execution_count": 51
        }
      ]
    },
    {
      "cell_type": "code",
      "metadata": {
        "colab": {
          "base_uri": "https://localhost:8080/"
        },
        "id": "pa4h9wnsO1vI",
        "outputId": "0722641a-cecd-485f-be2a-247bec960214"
      },
      "source": [
        "print('Размер выборки А,В:')\n",
        "p1*1000,p2*1000"
      ],
      "execution_count": null,
      "outputs": [
        {
          "output_type": "stream",
          "name": "stdout",
          "text": [
            "Размер выборки А,В:\n"
          ]
        },
        {
          "output_type": "execute_result",
          "data": {
            "text/plain": [
              "(304.0, 372.0)"
            ]
          },
          "metadata": {},
          "execution_count": 52
        }
      ]
    },
    {
      "cell_type": "markdown",
      "metadata": {
        "id": "YueY_DT2LkYz"
      },
      "source": [
        "Среднее А и В равно значениям mean ниже :"
      ]
    },
    {
      "cell_type": "code",
      "metadata": {
        "colab": {
          "base_uri": "https://localhost:8080/",
          "height": 206
        },
        "id": "i52btSOhLogE",
        "outputId": "7a6f2cd5-7574-45aa-d5d3-860f6546d50a"
      },
      "source": [
        "df_describe = {'action': ['describe']}\n",
        "df.groupby(['ad_id']).agg(df_describe).round(3)"
      ],
      "execution_count": null,
      "outputs": [
        {
          "output_type": "execute_result",
          "data": {
            "text/html": [
              "<div>\n",
              "<style scoped>\n",
              "    .dataframe tbody tr th:only-of-type {\n",
              "        vertical-align: middle;\n",
              "    }\n",
              "\n",
              "    .dataframe tbody tr th {\n",
              "        vertical-align: top;\n",
              "    }\n",
              "\n",
              "    .dataframe thead tr th {\n",
              "        text-align: left;\n",
              "    }\n",
              "\n",
              "    .dataframe thead tr:last-of-type th {\n",
              "        text-align: right;\n",
              "    }\n",
              "</style>\n",
              "<table border=\"1\" class=\"dataframe\">\n",
              "  <thead>\n",
              "    <tr>\n",
              "      <th></th>\n",
              "      <th colspan=\"8\" halign=\"left\">action</th>\n",
              "    </tr>\n",
              "    <tr>\n",
              "      <th></th>\n",
              "      <th colspan=\"8\" halign=\"left\">describe</th>\n",
              "    </tr>\n",
              "    <tr>\n",
              "      <th></th>\n",
              "      <th>count</th>\n",
              "      <th>mean</th>\n",
              "      <th>std</th>\n",
              "      <th>min</th>\n",
              "      <th>25%</th>\n",
              "      <th>50%</th>\n",
              "      <th>75%</th>\n",
              "      <th>max</th>\n",
              "    </tr>\n",
              "    <tr>\n",
              "      <th>ad_id</th>\n",
              "      <th></th>\n",
              "      <th></th>\n",
              "      <th></th>\n",
              "      <th></th>\n",
              "      <th></th>\n",
              "      <th></th>\n",
              "      <th></th>\n",
              "      <th></th>\n",
              "    </tr>\n",
              "  </thead>\n",
              "  <tbody>\n",
              "    <tr>\n",
              "      <th>A</th>\n",
              "      <td>1000.0</td>\n",
              "      <td>0.304</td>\n",
              "      <td>0.460</td>\n",
              "      <td>0.0</td>\n",
              "      <td>0.0</td>\n",
              "      <td>0.0</td>\n",
              "      <td>1.0</td>\n",
              "      <td>1.0</td>\n",
              "    </tr>\n",
              "    <tr>\n",
              "      <th>B</th>\n",
              "      <td>1000.0</td>\n",
              "      <td>0.372</td>\n",
              "      <td>0.484</td>\n",
              "      <td>0.0</td>\n",
              "      <td>0.0</td>\n",
              "      <td>0.0</td>\n",
              "      <td>1.0</td>\n",
              "      <td>1.0</td>\n",
              "    </tr>\n",
              "  </tbody>\n",
              "</table>\n",
              "</div>"
            ],
            "text/plain": [
              "        action                                       \n",
              "      describe                                       \n",
              "         count   mean    std  min  25%  50%  75%  max\n",
              "ad_id                                                \n",
              "A       1000.0  0.304  0.460  0.0  0.0  0.0  1.0  1.0\n",
              "B       1000.0  0.372  0.484  0.0  0.0  0.0  1.0  1.0"
            ]
          },
          "metadata": {},
          "execution_count": 73
        }
      ]
    },
    {
      "cell_type": "markdown",
      "metadata": {
        "id": "YHUhCWTKX0A7"
      },
      "source": [
        "Т-статистика(подбором %-ов вариантов А и Б, начиная с 30%):"
      ]
    },
    {
      "cell_type": "code",
      "metadata": {
        "colab": {
          "base_uri": "https://localhost:8080/"
        },
        "id": "32yOO4ySPwIJ",
        "outputId": "a3501193-b760-4088-8561-5746ad1fc6d9"
      },
      "source": [
        "import math\n",
        "t_test1 = abs((0.304-0.361)*math.sqrt(304)/0.304)\n",
        "t_test2 = abs((0.372-0.31)*math.sqrt(372)/0.372)\n",
        "print('Т-статистика А,В:')\n",
        "t_test1,t_test2"
      ],
      "execution_count": null,
      "outputs": [
        {
          "output_type": "stream",
          "name": "stdout",
          "text": [
            "Т-статистика А,В:\n"
          ]
        },
        {
          "output_type": "execute_result",
          "data": {
            "text/plain": [
              "(3.2691742076555053, 3.2145502536643185)"
            ]
          },
          "metadata": {},
          "execution_count": 13
        }
      ]
    },
    {
      "cell_type": "markdown",
      "metadata": {
        "id": "WNOAFYYAtn9e"
      },
      "source": [
        "Вариант А более эффективен, т.к. его процент(36,1%) > процента значения В(31%)"
      ]
    },
    {
      "cell_type": "markdown",
      "metadata": {
        "id": "EOvsrJwHtSaD"
      },
      "source": [
        "![Безымянный.png](data:image/png;base64,iVBORw0KGgoAAAANSUhEUgAABOoAAAKICAIAAABBjILjAAAAAXNSR0IArs4c6QAAAARnQU1BAACxjwv8YQUAAAAJcEhZcwAAEnQAABJ0Ad5mH3gAAIFESURBVHhe7d0NfFT1nej/n4sNLTWKhiIEK6b1RVhWoixEkGisWS0Rrwl2IfiSgJdALYQWsF2hr8tDXR7uLVjXkLsEtCRcIfiSh1cleEWobqixoWCwSLAs4a9GVAJSAkgUy6xc/r/zNHPOmTNzziRB+CWf9yuQmcmZmXN+z9/z8DtXXLhwQQAAAAAAcHn7O/M3AAAAAACXMcJXAAAAAIACCF8BAAAAAAogfAUAAAAAKIDwFQAAAACggK85fD0nGmrEXw6ZzwAAAAAACOaKCxuuNR/Gl7Jd5GSajwM6VicaNoqTNeIrZ7z6jVIxqtB8jA6g5gfiZKF4cLLooj/dv1gcPCzufk701J/i62FWt9fEV4e1p12yRbf7RNoYkU42fF32zhLvfSqynxfX60/Pfybe/o3ovlD005+ivby/XPx5ixi4RfTvar4CAAA6jYsUvp4Tbz4mjr1sPrO74j5xyxqGHR3KJ5XiT9PFN+eIGzPF2dfEJ8vFVevF/feZf8XF9vkhsXOW+KxGf9JPfKOX9vurGmHc0fmbS8U9k8VV+mNcPJ++LGoeFX32iuF9zVd29BcnjouBJ0V/8wW0k3OieoQ4fZ/44RwKNgAAnc0VFy4Yg1zLwae1o2dijhjzC/OVVqifJxqWiyseFN/7qbihn0gyXxbfvEZ803yIDuXDTaL+N+LcIS18Slko7rpPfMP8Cy6uz+vE6+PFfx0X35gmBv6L+P415uvS+zJTHhNfCfGt58T9o81j47goPhOvDhWfjxf/bY74lvmSqL5ONAvC14vi1Gvi9bGtOScIAAAo7mJc+3pcHF4uxGTxg+fFP2aKnteI7tYPsWtHddNokbdLjDkpxuwSOcSuX5tzYqceu8oA9YGFjthV+v5ocdfz2oMvHxNv6WcU4yJ5r1J8flzcUBiJXXFRXXuf6Jkhmn8jPjJfAAAAnUTiR18bNonGl8XnL5unJl75oOhRKDLuE+GR8+nXxGv6fvG7+4m3fiOO/V/9Yrx+InmyGDhe9LGdNmx+VwzhoxZvPSoOvxy1o/2c+P2t4rPj4pvPiQdH668cFy/3F397MHLtmalObBwhRNTrx+vEf9quFbwiU1w1RtwyRtzgjAE8nBNv/7v4qFJ/Y1/x7ULRf7L4XvhdxtdFJeCnm0TNY+7XPzssDqwSx+Q6GJcH9xPfHiO+P966XtHYougDODG29HiN+HO5mTXG5vzjZOcFqAHXLUaKyU3ePV17EF4f4/hS34PidtvXnD8sXhkkE8nn2Eh0th5cLg78b3F+qP694VX9aSS15UZd91Mx+MFIYZOCrIO5gTFEipDMkUPa153+vTh/3MwOR+ZaaSXfMvI+sXOx+OsWbcku94nvTBPDsm1xe+A0lJrrxZ+fFp9Zdcou/rE747RtcZ8Yul7caL7m9qdHxbFrRK/x4o5MM81jMdLQu7q5eJXA85+JdzeKw6v0g/BGy/BTMTzTedRXVtve4jPziVNUsfTNi0Dl2VgmFtt7W98gfCa2pokvCsW9pcK4FCO6vLnKp0sHrwuJNBTB64JR+LtvFvdlm68AAIBOIKGjr/oVR/WPiZaXtYlhvpEtruwrvnpZHBsrqp8Wn5sLieP12v/f+lI7m+6T5eJ8T23JLqdFyyyxc5ioizoKJMdhcgH7zxXmX+I5+O9a7NpqMnJ+Y4Q4vspcvW9kigt12hr+qUAclOOpOGQi5IkPFmvnZMo3XinEF4vF277v8tK0Sfx+kJZExkfJH3FI+7T67NYcK9s7S7wxSssaoafn3x3WNkdu497EP8rbcbFPj7t8vT1fG5Im6ssasX+eON9dfONGWwE4Ld4Yq6W2kU0yj5ofFb9/TDSZf47JtQ5XXGOmsPy50phIp1/kla7WiPy95eL3w0Rzpb4acslzeuYOFTV6kXY4LLb/QBxbJeSAWhae86+JY6PE/7XVAm9eafjpy6L6B+K0HK/3jayS/AlSCz6QKyBDjjExY1fpjufFQ6Va7CpdeWPk87vogYRRkY0fWZhbTYYirxWIQ7O02PVK+WmZesswQry6SZw3F9F9pueLc0vNHHFKIC/i62r7LiNGsn+7lfWtbxBkHPWy+EKIqx40Y1fJKG9GDmqpkWDadoq64NVQJFQXbrhLi5BPbxKnzBcAAEBnkEj4uv83orlOdJkm7j4pHtosRm0WD+0Vw5/Xjq58tVj8pxVM/j/9/2OLxZd9xff2ioe2a0v+6KDo9wttoPPhY+KQc8xy3SJtAfvPdeZfYpJj5UOxD9v60kaH8u0Z4uaDYrS+eqPk/3vFVRnasZr3fm8u5un9VVoiiNFi+F7tjTIFbhytveuAHkgk4LDYox8DSd0lfrTL3PAfNYqe92lBzuFN+jKBvb9cvCdXIFP0s7ZIJviAOfrmzGqf8+vq/7d2HNjX5zXxju/Fsb9cy5GBb4hRC21HjJeL4wdFn11mKRp1UHSXEcgmsXu5Myhyil4HmapGCsuf4f+ivfLNf4m88kN9lqlTr4m98+Si2tcZOSIzd/Bz4srj4tMCUe8stH9bLL7oqaX2j+QnbBc/3CW+1VOrBW++Zi7gyTMN//KE9v+3ntNKYHiV5I9vLZDl5IweS6RYR658/ePCyOffMFR75Qb5vdYr/xj78KAvGYq06PVicKPeOFhp8uVjojY64CmMfKn8MXLELqG88JFh+65F+iv2b5+svdCWBkH6SK+tKbfqT3RGeTNy8O/1L0oobTtDXfBsKBKrC33FdTKDKsWH3kfzAQBAh5RI+HpSxq49Rd9/sY2ohOjzoOiln7vVYh3lM4bUX9WJlEVicN/IqYO3zhF95NgowHDQl7bbvqe4qrV33zm8Xzvs8O1fiEG2LflGX/EPxlg27m1pj+/TjjnfILfFfEHc9EPt//NBYjubpjrx/zJFl4ViWL9IEnW5Rtw+TX9ULz7VfwfymTgkx5pC3PicuNW2Rf/wC9H3QSFe0+6120ZfylxbLq6c7Hf18jnx1nwtir5Kfm9CDmvzVHcZ4zEl9TXPieFWEn2jp8h5TshFvpon/hIrhmntOhjnsV+7NvJ10vdGi7+fowWKH240XwnrY0vta/qJHzynPfh8ecydBd5peFx8oe/3kV+U8AXDx0RI//2t7vqvS6heOwIpfe+pyMmlMk0y9XDx00pxWn8l7Bv206m9JJoXbdSWBkGuz0lZv3qK7vZmsS06QV3wXrHE60L3u7T//7pPfwIAADqFRMLXu/VjeoNt1z4Zrox6RZMtbo46KPT3esD5xZvu4WxCjN3231wk0qwbVCSq/zTx0C4xMmpI1zXA1FJ3PKcdiLjD+uq/HRf1v9UefDPBlUkdrR2p+NG0yOjQ8C373C/XaMNT6Yu4hxe+3KefpzdZpEetw036ZWyn6/QnbbD3N+J8hvh7I7SO7aON2qVrKYtEivlCUO/9X+00wt7/zXwakSG+77ywrUtf0UvPOOMc9WitXIfD4qT8wAyRFlVo++vHo87VyNG1zWQxwJnaV2WLFDmCrxFHY5yt7Z2GXc3TSr9K6Iii4Zx52O1bnhXwa/TpIX1NpokBzjW5PlOP1VfZTnA9Jv5LZmL8ipZoXrRZWxoEubZfyv+zRXvtQ+gMdcF7xRKvCz30I96f79efAACATqG1Mw+f/kwcrhN/rhTbHhUfOc8B+6ZxHd5dHtfjXWuMct7SpvFoJWO3/X3iVmt+kTaSkeHxQ+IvL4vXZ2mzjwR38Gmx8TptAhsZHH5jjsh2rc9i7a/2nzjTpfztM3H6sPjLa+LNeeKln5kvarqKFD3g/+jfHePFIwcdpwv+1TjG8Zr4wyix2fmz89/1P7mO5SaybtKnm8SR18Q1C0T/+NOqGhd2ThO3R4164/vbYfGf87RBcP/oXQB3iVTzUcTVGdr/X3qOjFu7DvLTZFglg6v6qDTcLMubtEmc1H8bvpHhEa5cpZ+OaxxBcomZhteIXvohvvfnifeP6+sQXE/zINWXF+HkyeYRthIyTLw8S+w7HHWS6suixlZ+uvSKmne3r/i2/vtzK03O6yH3t6Iz2ibRvEi0PMeXaIPwqVEO0x3npLRaZ6gLMVcs8bpwpb577/zpqJIJAAA6rATD1w9eFlv1ce1raeKtEeL96aJltzaMtkuKcxjCuHdOfYLDdBtzt/2/xJurJojPDonq6WLTddqUoW8MEwceFadWJTYGulKfAcWY++S/fivqXQdAnFOPhJe0+6/j4s1Z4nf9xctp4rVB4sBYcWy5Nr63u+0X+oVkT4s3+ouX9BGkTPydoxwJeNaITeWgsybqx/O4a4B1izgn9s3VZtC91W96T+PCzr4/E1eZLwQiw6SXB4mvpom7lkZmvonontidSFq3DtIZY5x9XHzlSkD9J5rP8UOXuGk4aKHokS2+WiX+3F9stsVg/rt4upsH579sy8kMMdgnVLvynPjbKnFokNj+srOO9LTmJdLLj+8pwZIR7HWLG+olmheJlecY2t4g+Pp0UyRzwz8HzT9qOkVdiLtiidaFnr30X4fECf03AADoBBIJXw8+Ld5+VHxxWFxZKHouFf02i9sPigcPihv1He1h34gzmjmuT12TLboZTxPV2uMJLp/XiWp9Us2/yxbdF4q+60XGLpF7VNw1x1wgiJsn6zOa7BLDn9NW7Nhi8Yn5F51zchr545qf5vxhsT1bm67z//UVyb8QNzwvBvxB3HdUjNYvGwvr0leMqNEOSnQR+mjymPhGobih1HFtmJngc/Tbrnr+OO/d4rtudsYMz30WOD8hinFhZ9dSMTjBg1BXLRXfnyO+Wi52LfYapP4tgRCi1esgmROujtamJXOnnvUT5wY28fmkYVdxz2Zx1x+s4MQKxvxnHr5GpOjnjmpzicUmo6aXHhVvvKaf4xqYfUK1h/aKezfrk2w/Kt6xH+kdKobbys/fYpwpandCv0zxKiPqiCHhvEikPHtqlwah7TpDXfBZsVbXBQAA0FkED1/rxYHFQvQUfbdr9+G4e7J2KKlvT+1oqusGfSnGoQ+vyYc+atB/DRTf0X8nqtXHE1z+/IR2r5pvPSfyN4v7ZDB8n0jvJ5K7tvJgS5/R+qGS18RRzzPlYqhfLr48Lq6cI3K3i9w54o4HxT9kiO5e6/CNntrRmB8d1AeOu8SoUnHHDx1XzMZJ8DYyZnjuMkcMinu2pwyMjAs7+41xX8rrq+ut4h9/IQbOEf/1tKiJnkO1ThwxH0UYc4Nd5TrC1oZ1kLpfr7+rxnlWamx/2+cRDX6+W/s/2ZlWgdLwnDjwhPaBsjzcb8256j/zsBCp+rWIf9sYe44cId7fqN3DpvlQYsfuXK7N1iZpk5q9psm53siLT6OuaT+s3VFGusqKVU69qcVFvaImJbJLNC/arn0bhFiuH+2IAI0fexzY4etCoBVLpC4cP6b/6id66L8BAEAnEDh8NWdnGSr6Ro3OP3Ve+9r9dv2Ct5dFg+t82nPikH53me73tWYk/VVN648nOBwXn+kr1jPbPYTyn9H0sHat7+/m+d/S0NcpPSmuyXaH4n/ZYj4ILpzg70cd/tIu0B0mtiyXad8aB/UZnm/+qU9+fR6+sDNuWBJH/5+KazO0OVR3uzahRnzifEWWt2OyvPUUPdLNVwxtXYcMkZKhlY2Pok6P1M75HCQ2zxLGUNm0Ufx/zjT9vEY0H9euyu7tLJ9B0nDvPP0I6oNi6C8S2zVzwxh9tV8T9Zu8T8hv0pNFJldaa6fpDrsiTsKm6/PurhLvO6/C/eRN/WyLyeZFm+frtTP/v/lD19UGURLNizZqS4Mgg1KjPWy/nUcduC4EWbGE6sLf9PLWpXtronQAAKCmwOFrD2OU9rJ4z3YbiVP14rXHokKja0T6Qu33p0+It4ygV/fWE9ryYrT4B+sKQGPUGNBni1t/PMGhp/i2Pqj6dEskCv2vz8Rbs/SBfnzdhdgtzi8Xf6gU4YH6oeX6ffOjxmrxGXeMOL0lcpbg+XPiL0+LhuXm0wRcI27Wz3I88pgjwT96WfznYu3CsO53mRdJJuZl0azP8Jzh9+Zm+S0BLo6Np6sYbGzCfHcYIDdqn3VY+7+Oi2q9vMm1Guhcq7avQ/9faP9/9pjYURMJBU/Vid1ztd0WXe8TjjNej4uGn4kPrELw2SHxB326oJR/ETfor5gCpKEc62v37BXa2cXRc/P46Cpuf0o7rffLx8Qr8xzRo1GcavW1+pZcgbbNTnzsNfFJ1N1NI7qKdJlKQnzwhC1N6sWf9Rvn9Cg0p/apr9QKp3HEOL7E8qKN2tIgSH31HRO7Iw2Cy2dRO5V8dNS6EGDFEq0Lp/XTea4aqD8BAACdQuDwtUum6KtPrts0TGwaoc0h9NIg8foPRMu3RA/9XiBnbTvkvz9N3FSone12eJh4SV9403XicKV2o7/0p7RxyZujxOYR5pTF17jOfIst0PGE3drMRuY8mcaPPrA2Xv+zPvjrr4+q/zZLvDpIX0CuYZo4vEVcO0ePjRvkeCyGa0SG/t4vp4vf6++VibBPv+dq9FgtvgE/1aIOGQlXW3My/a63dnr2txfqs1vFHg176vcLd4LLFdv9qHZK5LefF1n69KStEXiGZ9+LY31de59+l9qXxZ/tMUO2Fhsc6i9+Z2SlPs/zlb8Qw73Wqo3rcP2D2nmbMu9PyC8apqfhMPH6CHHuuDaz9F2uoOtB8a0a8XaanncjxO+HaaeCf6vU66rs+Gl4TuzSZ3O9cqEYGufs4tiuyhQ5fxBde4r/Wi7+nKYdbNcSaoRZnGRsds16cf/ohHf6nJyrf47+Iyvvm2PN02tvixEG31iotw+bzDSRSff7H2hJJ9MkUxa/eu1ztMikp/jo0cgnGz87f6N/RKX2+D39YWJ50WatbxCkniJFro9c1agw1dhF9ZG+jW8lEsR22LoQf8USrwun39T+/47nLhUAANAxJTJ10+3PiQFLRdd+4kKdPgVlhui1Xvxwsximj2a+fE0/CGnJLBWDnxffztZiKrnwhX7i23NE5hbzKJA2iWWdds1S9/UxB8RuAY8nRE+YaUxso78uh+BS6mjtHrbJcrX12Xrli8lLxR27xb0/1U9X2yQ+jh07yvf+cJd2P5suX+rv/VJ0nSwGHBQ5Cc4mpUUd+udcYazwMS19Mg6KkdNEitzM4+JoIoemJZngd8mNkqNePcHlRn1TX7GRD7b+eHXAGZ79L44NZvAvtJD+85+J+vAB/WvEP24QfacJcVDbqC73iV6bxX+b43Efy3ZZh/6/EPf+Qc/c03oantZmKfveLvFg9HmMGdqUWj0LxXm9gBmL3V/ocbpj/DQ89O/6KQmZ4h/02bla55oM8cA+kfGclvvGmstV6pItupdqpfqH97Xmk406bvxc6Klt4A2bxYi4YbBsH7Qqn6lXtEPONDmnfY7Gaz5bubDGqoyGBPKizdrSIEjf1cPU6Am0Bi/QLpQwPvN0gsdgO2RdiL9iCdeFenFCLj9ZpLXtzAIAAKCUKy5ccM281EF9uknUPCb6HhS3J3KKLy6ZOrFxhLbPIts1bfKlZhQkbZ5n/QRLBKLnZsr2eHt53npUHH5ZDGzDrLaXzGfa7Xa+uE/csT6xUzCCoi54eW+5dqFs983ivjacJg0AAFSTyNFXAIDbNaLfQm0CrQ8SPGMCrXdONP5v7cz8vyd2BQCgcyF8BYC2ublQuznQpy973EIGF8Op34vTxxOecQAAAKiP8BUA2uga8Y9PCfG02JvoPMNohXNi79NCTPOeHQoAAHRonSZ8vX60GHOSC1+BSyFTq33xpze7/XltGfUufLVc/6C4abQ4srjdbgCLWD7aKJq7ioFz238SLwAAcNnrNFM3AQAAAABUxsnDAAAAAAAFEL4CAAAAABRA+AoAAAAAUMAVzz77rPkQAAAAAIDLyWOPPWY+YuomAAAAAIASOHkYAAAAAKAAwlcAAAAAgAIIXwEAAAAACiB8BQAAAAAogPAVAAAAAKAAwlcAAAAAgAIIXwEAAAAACiB8BQAAAAAogPAVAAAAAKAAwlcAAAAAgAIIXwEAAAAACiB8BQAAAAAogPAVAAAAAKAAwlcAAAAAgAIIXwEAAAAACiB8BQAAAAAogPAVAAAAAKAAwlcAAAAAgAIIXwEAAAAACiB8BQAAAAAogPAVAAAAAKCAKy4cfeXJX1UdFb3z//XJkb30145t1V8RYvCUZx8bpL8EfJ2Obv3Vk1XHRO+8J598oLf5Wgyy/D655ajolf/kv470WbSjMVMpbNCUZ6dQXw17V/5k5V5b+ZHPq24MN3GdjdGk055/zbRkf+t2vdRpzdSRfNL/Etr73E9WCqMKdO7WAIjvsmi43MMbYQ9SLhn7WjHgusSijr6GY1cAly05APuJq3HXX/vVViqv1sds3it7u9sH67GrbNNkLKv/oZPqNeh22eu/vbJzp8LXrtfIJ6f0qvrVT6Qnt/SaQux6SQ167Mn8I7KJlFYey/sJsSvg7ZI3XFqX7R7eiMH5l7zOHn3l2chaDR5Kg35pucPXvVus464S3S1wOdprBiK98p/UKqpmymD9L8eqnn2l0wewe6u0PqbX7YMYoZp6D7pdi+T31hG/fr0G6T2phv30l1zvkf9qZobvST1Ap3ZJGy4jDOmdFx7d6C6DeOTYEX1wZYy7iI8uNdfJw/opd7Zj9JEzM0d99KS16z5yyNw8VBu1vLbMFOG5r19+1FTxbMx3yU821iHyLZF1MM8OtR++d51O4DzfIHyynHM9ra+T3zB0t/O7tANY+lo7TzsMb0hkwSiOr7aWc29L+OB2+JXwtuuszYlKWO3Ep7ftp3N7J0JUWllv1F8RMVPStb5Otk+zOLfLfBZeDcenuE4ANtdH5/pTOCl65025/a2VcsXkAvlHnjSWj6ShZCWjXDdtUWOjwkU0Rr5L4a/QPy0qdxwbEuuv/mUjTi5Mu/2t5foKuFhvtn+gPbsdrK2IfKNOy823bpfrJhy1IEJbvpf3e01Rxcy1Rs53OVfWZNvqcGpLkUSLyhTrc+Qr+R/9KvoTI59p/0Arm8wndsZWmN/oWkmPwuzaamtt8p78iXjWzEev1i8ql+21yWxY3Lw2JLo4DZry5I2brRyMfH74r1YeWJtmfkK4UjhYi0cnu4Oj+Qqz3uxKxDDr0zz/7pHU8TdQEy+L7d/ikexu+sqHv9Ez0Y65/urI03gF1XzFubaRL/FrebRXHOLnnca+8fYyE2PzY1XhyOvhlPHOi6imwPqUxBox+ybEzynrr/Y1t4laH4/lzWUMwbbFXvZ0/unZqsprirWGMQtAjGGU9r2D9/qWT9fHOsuec0vNDbTnnY1cVZ9hm/aKQ7gK6J25sQ6eSyaSO+FENj/HXmH9hzfOvIv9uk14rZwpacv3KI4kNJMr1udba2B/j/9axaj+0fkep2wEfWN4HSKr5eBZiiRHKoTZ0y1WXpjvlR+VdzSc5lEJ7kxlx1+dq2QxviCqsDmYq+RR8Jw1V9I/wdqEGGmDi8xx9HXvc3qBiD5Gf6wqPHqTZMF50vMIz7Gtz3pVNh+JvUv7clvRPFr1q3Apdv1JO1nuJ89F1aB4X2cd1AqTldlRCbWv2BpVMaIrzN6Vnou5RTVPcnOCvDFOIiTAcSKEJDe2FZ/iSjS5as51ObrlSSsXZCo5mgDbnxxJcXSLFrvqD8zYVZIfbH6uvSM5VqXFrvqDyMp75rvUuvJpanXZCC6yiSbvDTm69y19K9znrmjHFmL2qa0iM8W5Rglso2zu7WXbntetE7iy7N2tl5leqa1JCrMNtAvW+rlrU2y+KSNbj8hHyW93lQqTq0DuXWkbXXno1dsYjXwUb6FWSbzdiLWB8bLYVTnku1pTnKJqcetprZlzbWPXjja1PPoHO8uAf22yThR3V2HZpDivLwhW2Lzqhaf2bxUD0tPIPr5s+7bYWenZhsobZw39Km+raFnv/FgtM8y2S3voaK9idZqx+BZps6U5WmXFrlKQcVFrcsdLdIPsyjs9EYJ9l33IoZP5HqMXcBW6ACO61lcZVyYGHwcGfqNPLidcio5ueVbftLiN57Gj8ndvsdue5o4El8u6UrnNows/5qAirHcfrTs1D8ZyFvElEg5f9RIsc6hX/pNeuyV6m8fxn8w3BkFbqqIKy9GtK+w1fJB58oG5V6J3vnHejnuvhutdPqwA2zqxQf/wvZu1/vjoK8YqWV9kfO/bVa6G4Ojb2thf3xz3/pKodtNcN2vbn30yT6770aotUZtunKxobrKRREGGiXurtAocTpl8PWX83xgnERIQ3TCZ32xlnPxg43zU+PbutlbmyZG9jGsO9VJkfoSRC3rfb6aStb3G38wMMpLC2qhIzhgLm6XOOPXRPL/dXE/bono26XkkP1ZfK4fESppL68uG03ceMJY3tyiciXIzzAIcfsVI/CNHY62z0YB6sc6RM0uUuyoGZmZKeBv1VTpatcIsaUeb9KplrbCZ8gYZJmjNfbgs2fM6Dtea2huNwJVF7/zkkjeGN95cWH9v1F5VJ6OX0lbDviPASoHYrZ+7NsXekEAp43r73qqooZK7QFpbbX6RKzs0vW7UV/5YU3SSScc+0t4ffrv5xS7hkhAuWprWtBueGxgni82GxVwB412uqmGVw1grL0XV4jYwW7PwlpjNfrh22ARoeYytdDWbpriNapjn5pvFMpyt+koeq3IWX//CZlVnU+xGLFirGCCnEuXu/c1P3rsyelDr3JaYPFeyDZU33hrGqbzhDzPqlFUGAuymdHap1mca8UPswZJr5a0FEh+2ha9TMD/Rqs5vvR33fQFzx1f08ObY1ir9k63Caaa/s7SHc9bRiDnPZbV6gSOOXNe50txqE7bs7d2WKhOu+FauGFo9Dgz8Rp9cDjLkDm+Xo8sI0HgefXvvUevv9qKrrZVPexioL0uQvibmJ2mPjQo46DH9G7wiJnwNrjR/h2l7BD9yHwrvlf8Ts7nsPXJq/lvaThGtxXUsY15v1rv3sZgDbg8e79KGWXuP6c3fIFexOHr0iP777ZU/+Yn+wHDsrb3HRvY2d4RYh461MqY/kPSqojOOXFlzutgZrZtjTYxqoO/a2aK/YNBCI+eaWd+l7Xuz2i97Cmp7i8yHduFVlH93jqv0QyVH9bZ+pLujipcI5ndqmVhlPIzFbJF79T56zNpck56zRhoGYPRSgzL1bz629y2j4Zhq9XaD8vN77ZVZrC32mG1zfxXeXH0bB1v9d57+Oda7rNzUrtzTOgYt5XsZm987L99cNK/3Xi3NB+XrCdV78O29tU3ToupB9pRrXfk0JFg2zMQLkAt2Wg/3gPYg6hjUxeAqkrIoRrXyxo4JK2G1RzKX35aDLW3Tw0nrGUWbka37W4y8Nh9X/SqR1IlTWVzMaMo82pgYc1+Mc2dqjNbP/vGxa5NbvJTRc18aFG485KPB2l5F91DJo0Aa9I333vDevfvINxofZa8Ydq1KNFMC7UaMDYyTxdoemZHaA/mnJ/U/2RqZgDwSLU5fE+ZdUM3ReaSd7z1y1KAqudZGZ2S8Zgje8vTp7bFF8RvVcIq7uoNe+Vr7uNeoC+5N0N9oPo6RF/YVMSdC693rqNFMxxa4x4zDtSFykG0fHbr+ajJPSOkdmZDJ6hf0rzZe0gXeFq/0PPqK8Z7WVN54a5h3o/5KnMobR4yG1Gq9w/Pu9H4gf9AWWUC1tY03WArCv0hbo5RwBdFmj9PfFY9v7gSpsBqPBtnsF8LdWQLbrEUp+gP3GaQu4d0QxjAm0mrFEWAg4S3uYNh84lk2grxR55fL1rHHeKXIvV36wnuN4Nyv8QxXJXvRHTk4fnsYLhVx+7Ko2h19tnA0s8039wPj0gsffdX2VVj7/Lz2v/rYq+/6GDRl6u3mC4F4vsucZUQvYcbUZ+GVMau6F7NOxj4kJcnKrJ/qEK5vEcZ+JlklzL1jGrMxahWt9fEnW0OdlgpOg4bqo3yt8htLRBrNOIkQmLGPc/CUn9gTfpAxateavKgv9aYNM7URoT5UkjwiB33Q7CtGyBHOzd6p4T+Ym+8+NTTcpni3Wq0rn4b2LhuxaCcRaQLGru6Qpk2chymMqhddKs0jmubGm72Xlzh/arXYlSVB2uAzIvJxcqu1J+HBR2CetSmG9kgZrwJpzC1s27jE9oC0pTwn3m7EkkgWa0MZ82EgXokWr6+Jz6u7sY73OwVqeaydGl5a16jqzWS8jw3MOAlTxl35/l96EVpF10Fmbx6dgq3LiEhgW1z0b2hD5Y27hm2svF7MrHcMtcNP/hpgsBRHkCJtbq+5XzuYALkTrMJ6NcheCRKYlTE+LVuMYUw8ra8yZgonLuAbfXM5yJA7inbKTMDG0/6SLdt828NWJOmxIJeimOcP977dcVgEl5Dj2ldtJ4f+wH12nF+Bf2uFVtKtA2JBxXpX7weejJw842AW4sgJCaYnR/YyS3CgMX3USYzHNuuXSbjCWquCaDuVHKx9RlH0U0SMEyEc8UDkExxnUJjnyZibY/+TfMtjsc7Bi5MI+t+lyNkmnh/y1rN6wkcN0wdNca5DUOGz0Zzhjc7a1WdnJoctGd1vNAtcODdt4zBz88PnQJpDinAR9Wq8Wlc+Da0vGz654BI+UcdKnZhvCXfhrl0k2vUkga8Aiay4WdeC7HBx9BxGa+51IoNcoo/+oi0FDLZz3sLn9jjSLKa4laVdRZ3r6NP6xapN3gKkTKzze03eBVLb0x8kHb0Zl1S09hqehNsN7w0MlMV6udU31DqXLJAYiRanrwnzLKhe3Y1ZOxyCtTzmwUPvsX7ARjV8KqCtA7ICpKhWynY8M35hE0eq9JMwI6dgxJN4j+nBvSHWQQ9D1F917k5B8gjdE9oWr/RsQ+WNv4ZtqbzeDamZ9Y62K/zkOwkMlqIEKtLRvbB5EkHsKQmC5U6ACuvdIHslSEBGIBfOd3vBc/Koqn5aX2UCjAO9y0aQNwbJ5UBDbtu36Gug3RlBBq7an2I2nmaa2F+yZZtfexioL4vU7sDjH+sLWzenBi4G141zwofrXQdgw0/Dg2yr2mn0Mz0ip9gFFO9dehxosrVWVoWxomvtZF1Jn4vC7FrCoal1LMtoeXRaZdajgqNVzglO9TNMIqfZWMx6Hr4qwDw4EBUhxHo9Pqv3Mttrs9bZmCfW62zBTLxECEQ/FcR2FpMXvXr7Bl2yzTVyx5ySwWp3ItcwGOefyCUztVna9GQyUz584YQW/4TfaEQO5olP4dwMX1IimyTX5ocvqTeLaPjKWFvr1bryaWpj2QjMbKCtDsM9VYCdtZtp70pbpu99Tj+z4O2V3tOqJcRo3N1NQfiaE23TzeyLcXMaa6xg7dcwK2PAGSk8+FaWCN8xhHOkEOnW5VYbIZM7DeO2fkFqk02QlInsPQxHdLYd1TEKpI0+zIoa5MXZWW7Wr4QOlXgL1m54bmC8LG57+YmdaDH6Gh9WdxM+NhiuHfYaEazlMRtJe5NlE7dR1Z+7mC2kxqwL4QJsHkWyd37xC5tRvCMnxPpo91YxoHCnEN6jYe8yLIltS1gkPdtQeYOtoeRdeRNnZX14N7q9ww0wWIolUJEOV16rJER2znoXcilw7vhU2FgNsrsu6Ht7Jd/CafUkg0bp55dacbgH1zBGfplR/uONzVpdZVwDoeDjwCBvDJTLCZYic0u1Rz6Np3nuobXbIMZY0bs9bL++zMkq0rELML52Ude+WueRa4X7gSlWeZNPHaewR7UytjPRE5Dwuwbl5fd+W7aDWjdsviRfNJoV6/x4x+n+xnmttuZm0GNTBmn1S2vFBlnXq0he7Wb4jHz7RYweh1nMtdJOaDFfkYy6ZD7xEr5K0/G2AOIkgl/LZfFumKz5D2UPGmdw7NT7gZ/kvyUDJ63JHvmYlopa6rou+zQuchhkZJBze83jIeELgVyJYc9NM+U9N1+yF9GovYbxSlpUBmh7N3o/O9R8Jr+xDWUjMK3J3vu2u6LFECOdpaBRetRG652Lo1+ONAXOuj9q5LHwJUDRKyBf+ZV48l+ty1HsX2PkteM7gkqgsujd21Fj3224/dIYZUkGr7FHSL1G/iTvrSe3HA3S+kXqWtA014Uv1IlOmQjnZpqfH0k4rwIpR2OyQEiDpuiX8UQ1Beb+EffOYznmsCZ4jE5c+UpJZu//rDM/LMaO51a0Gx4b2PtY7CzuNTJ/cNXKt11t++2DjkauovcKyx28Eq31rHbPtbrR7YxPHyfHjtYJkJ7Jv1IWV+/K7pxeIarl1BOk1yA93ZwFOHyth8kjL8zHBtcXxRO7VdQ2JVhOeW6IH6tbd5YQmeeuAhl8WzxXo/WVN/4a+lbexFlNmWtDzLguzmDJn/+wLXKWtaskxD/InEBJi8uzQTbbEFdjLgunkAlkFs1IhGVjXbXrzFdP3sMYc4DqrfUDiXiD4biCvdE/l8OXpMYpRdHjGdmJ9B7k03h6rqG1SyLG4EcWnt4yftZ7otiNqTmqi6rd3llvYxbpyM4mWWe1Tegd5xZKuMhcR18lrTrpD8K7qbQSKcej4SyKHgAGP/hg15p39Rr5pPPLbSujHVVx7PjXDqdE10CtiZG/IntJpVjtpvxIxzlssv11nGJhkmvlPNUt7hjZIt8VWSh8ZNh5rpSneIkQhGfDFO5B/ZstJ6vAGDvh9ExwrZt1rpp86DjxRjuxxBpe9H7gyXDe9c6bYiwmFwi/OGiKlfL2dOuVP8XY/yqLaPjFwVNcDUrryqepjWUjsEGP2RInfCRQm8zAeMlJS1b3WUxaegaYgcCDVsGj36jNPOE8kqaXUs/UcIt6r9yioLGNlwQqi7nvNnKenjaSC5oq4SPbgVu/xOuLX8poXxFeIDprvArkXuPYu/beGPljHkNow85j79Fta9oN7w2Mm8XuiyncyeJ3Rmh7jYwjtHx0HPyRq+Q8AU9qU8sTplV2x+prL8SvTVYbKNPNvZLO4uRT2OTfE6q28uN8WkW/nHIKPDrU08heQrQTAVx5nuC22Jnp2ZbKG3MN/Stvq2hHKd15ET7P2Wtl3FnvLUCRtk70kP1RZIOiS4JLG3LHIWZDpJ3O5q5GjlWKEfvJTLdtRnijvE439Uxzn0yVa+FTZWJo9TgwwBuDNVwJlyJtRKd9kV/j6bWGkXZA/1rXX9s2uohu91ysC1/Du9J8T4bHxXfFhQsXzIdezH3D/rkLtKME9my1dxE1vjq6PUfEXu3oq1cvaxzKu+TNhbajdW/bi8TX3voZ6+0xmGgHxmdHjbbNLIt+3czl9l2Zi7mBajLKmFeCGGl18ZKKvGhfpKfFOqGDpMDX6mvty3DpRR99BQCVaef4yc4sxoHrTsk8htneVwQBgIM55w5XCQK4iAhfATvttBbXqSlw0ScV8zrBSTvn59lWnsDcnowT2hO9t0rHZd7y1OvsXyPLvM68MqaOoyZcVMY8NF6JPGgKyQ8FmXOw+V1MCLQz+rJOxufkYQAAAAAALgccfQUAAAAAKIDwFQAAAACgAMJXAAAAAIACCF8BAAAAAAogfAUAAAAAKIDwFQAAAACgAMJXAAAAAIACCF8BAAAAAAogfAUAAAAAKOAK8zcAAAAAAJeZCxcumI+M8LX23c+NJx1e1i1XdZ6NBQAAAAB1yfBN/m8PXzl5GAAAAACgAMJXAAAAAIACCF8BAAAAAAogfAUAAAAAKIDwFQAAAACgAMJXAAAAAIACCF8BAAAAAAogfAUAAAAAKIDwFQAAAACgAMJXAAAAAIACCF8BAFDUyV1P3z390bunP/3KmUNl2gP9Z2XNSfPvAAB0LISvAACo6dSf3qnXH9Qvnbt4vf5Ic6D8ISJYAECHRPgKAICa/nr4gPlI5Mx5o/T5N0pLZg3Qnx4of7FRfwAAQEdC+AoAgJLOHDtsPBgw6aVR/fRH1z4wYqT+QBz+9JTxAACAjoPwFQAAJTUf3aX/HnbbwOv0B5qU3sPMRwAAdDiErwAAqOjkp5/ovzOyB1yrP9BZMS0AAB0Q4SsAAAoKz9vkYMW0ou/1tpgWAICOgfAVAAAFhedtqj/cbDyQDr34ghHTjsxO038DANCREL4CAKCe8LxNQqzfbt4m593N5u1zhj3yw1v0BwAAdChXyH+1735uPOnwsm65qvNsLACgA2tcf/czW83HLjlz3jAnIgYAQGUyfJP/X7hwwXgqcfQVAADlhOdtmrXo+ZceydAfa4Y9UkLsCgDosDj6CgCAak69snLmUu3a15HLS8dynjAAoGNK6OjryV1P3z39Uevn6VfOmK8DAIBLypq3aUDvVP03AACdQszwtXH9Q+bshboBmXdcbT4EAACXUnjepl69rjMeAADQGcQKX9/dZ0wIoV1U80bp829MyaaDBADgstB8dJf+e1iv7+i/AQDoHGKEr6cOHzMe3NCXg64AAFxW0sZqe5ZLn18y7FrzFQAAOoPoqZve3fzotGrzsanDTMHP1E0AAAAAoIQAUzcdqnHFrkKMvZUp+AEAAAAAl1RU+NqvuDRyB7mxj2vnJhWnGc8AAAAAALhEPK99bTpmzDk8MpvAFQAAAABwOYi+9jVyM/QBk17qYBMOGydPAwAAAACUYL/21St8PVQ2ffF6+bvDzNgUxtRNlw9jVwLZ0TFQszoJMvryQRN6WaFqdBhkZYdBVnYYRn8Xd+omIRr3arErd5MDAAAAAFw+osPXk59+Yjzoez13kwMAAAAAXB6iw1dr3qaMvin6bwAAAAAALrmo8PXU4WPGgxv6Xm08AAAAAADgUosKX/96+ID+e0DvVP03AAAAAACXXlT42q+49Pk35E8Hu2UOAAAAAEBpXjfO6bhiTqJt3StIN/bx54vTzMexvLv50WnV5mMhRi4vHXuL+djSuP7uZ7aajz0X6OSMWbA9siPhvDi56+mHXjAu2I5xtyfy4mLzrlnWHaR1wx4pWTLMbza4MzWz55bvMp945JSz3pkCfTLaRfs1ob7V1rGAyJi16BcPcD2LXcwmNOF659+E+lVMfG1toO8Czopj6Xj3Qbx4YrRyjoQdMOkl/2M89lbRswXzXSDAUBNxxOqwEh8T2jPCsyL7LuDfzCIOo7/zuXFOZyM7A9vAS1r/zKOzd50yn3iQLY5rDL112vRHyxrNJ5Ispra6IckFnn7ljPkEMSWcF1qT4eiqqxffPX39u+YTDXlxichqEhm3SbtemHn35kPmE0+yR4kMyyR3tbJdmY/LSftXWznody4g6pfO9flM6BKud75NaICKCU8XoQ0MkBfW7JtoT+5qcqD8IVc1cXG3ilEtmO8CAYaaaIXEx4Raf2TPCK0ir6w5aT6TfBcI0MwiUYSv71YbncHI5fpZ08tztCe7Xvh9rIJ1ctfLRosz7JES7SzrRZOG6U/Xbw8X1kMvGsU0Z462QOmcsdqT+qXVcfstJJ4Xsi83mgwzLx4fqb+6dVpkiEBeXBpWNcmYtUjLypceydCeVb8cu5M4VGb0KAMmvRTJKRkI2Zr4M/tr9LGgmd3WD4deL632r7aNvzcH/Y5qG/czoUu43gVoQv0rJrxchDYwSF4cqjGG0WbdsX441NMWZ2rW2quJOerbujbmDrVTr7xgbxVLZg3Qnux6ocLKfd8Fggw10QoJjwlP7qow+qOxj2tVyazIB8qXWLnvu0CAZhaJ6/Tha7itH2ScPHDLrWbBqomxiyt8Y6HsAfqg+eqB2Xq7Iw4cbdJ/i8a9RqMz9lajw+iXrY/nRPVe+vu4Es6Ld/cZu9CsvEj7odEHRJKavLg0Tv3pHb2aDMi8Qz8b6roBmXrXW19zIEZ/b+XUsNsG6mdk9XvY6APsud98VO/vuSX1ZaX9q2343uPuais+ORxz6A8p4XoXvAmNVzHh4SK0gUHy4syxw/rvYb2+o/9GOzh5oE7vetyjvl3v7PeOJK09rVareO0DI4xW0cp93wWCDDXRCgmPCa2KLEZm61fEXDfsQXN3qpn7vgsEaGbRCp09fA33B+G2PqW3uYtrXyv3i4RLavjGuam96O8DSDgvom/ydO0dtzmSmry4NMJ9c69e5tVBV/fqq/+O1d+HI5ZwaGqN9iK5by3DLakvJxeh2qKVEq53/nkRpGLCw0VoAwPlBfv42l84PolUk7699N8H6v7kuUPNyoVIq5g2yBHS+C6AiyPxMWH03VisiNfMfd8F6PIujk4evkb3B+E+Rhw75tmIWMcWYu1Fiy6p4rrrbzAeHP40xm5XtCov4tCTmry4RKL7ZvGdvq3ec2zlvrU3WrtG6O7p+g/n3lxqF6HaRg/KrQO81oEseGvXeuffQiaev53IxWkDY7IWCNfH9c9YjaTzGjwkzuN2klbMU3+4Wf8dnG/uWwv4DTXRCu07JvTNff/iwUC09bj2NWFpY40z17WLs2XfYMyjkMM0Yl8/aw+o7ZRCZq1QlEcXYo3/LFYMY8f8B+oJUG2vzl5iXOil5a8cgusTnASa6hMJ8c+LABUT7cM3qQPkRfg4oY02yRCzFX69rDNQdh37q/5bBp/mSd0m3wUkhpqXhei9TuEY2OC7ACPVi4PwtRXCOzgj2A99KYR3T5qX3VvzK0A94VOnzOl5Tr2y3TjJxxLu3a0pScwJEuLNn4HLUaBqGx0jteKYFfz454VvxUR78U1q/7wIHyc05nYKTxLDbIVfr/B1qtZMXdb8dhbfBXQMNS8DkRN9zZFGeGZBk+8CjFQvDsLXRIXv3eSYDu5A+UOcovP1i1wBrx+lcdxRAGqJTEMyTTvg5rjhhObq7CXGgMza9xw9QQLU4Fttwzflc0wOKQsGR9rbm38T6lcx0W58k9p/gWKjkQyfp8AkMZdGZCom41IX+11VdL4LMNS8XERGGi/oh8GNvsnGdwFGqhcF4WuCIpOMjTdu13F19myjR4l1ET8uomsfmGLeqEM3crm5s5mJK9Rz3bBfWMcKNGMfN28LEZn7xK0N15LhUvKptuHZNWblmJNDFpsLMNFFu/NvQhOvmGgl36ROPC88TlzE1yFtbPhWN9KwR+aYAUz4AlqfBRhqXj76FVt3NtIMmLTc3IsUnv/JdwFGqhdBJw9fPS4mCZ+j6N0feFzEbzGu0vboLTxmN0GUxPPCdMsofX+z9jM21Uxqo9UgLy6R6At74lUcG9mjm1n5fHGKmfu2uU9w2bkI1dZjdo2wyLcgWmvrXey8sFAxE3Xx2kDy4uvmsZ/UunbRWU1cwmcMaTcnF2bu21vFeAv4DjXRCq0eE2rxp5FTb0zJFmbu23so3wUCNLNISGc/+hrdx1jXXFl3hYoh9gGf6CnprJbOvCsUvCWeFyd3Pa2diTH90TLrmIyV1GarQV5cGtFzz1ohjXXHwihnambrWRmZTNjKfaNTic7roMNBXFQXodpaOF6UoMTrnX9e+FVMeLsIbaD/Ao3rjdycHZkOIN7OIAQTHfNYqRpzLvRDZUZOhU/0Dee+uaPBdwEL5xa1q1aMCd/drOdUZP6zcO6bAw/fBQJ3eUhEZw9fr84ebxzQt64Msc5bCxflU6+sNIqmcdlV+Ab61lXaZ2qW6NcnhN8SPg/efdcHpjuPzz8v3M1E+MiPmdTWBfHDHvmhkdTkxSViXaNlnebkvu17dIsfHu2ZuW/NSjJg0sNGtQrfTOUZ8wLIdzfrE9LKMGkEE9JeOgk3ob7VNjwTRni+mUNl5tVEkfIDLwnXO98m1LdiIgb/vHBHm75J7btAZG6nCiN/T+6qMK6PjWQoEndLjnGWr/seNpE9Ee49C+EDtmbuWzMzWWcC+y/gP9REK/iPCaN2EoUjXjP3rZmZwgMP3wX8m1m0whXyX+27nxtPOrysW66K3lhZWKMupB72SMkSsxGRYy9jgoSRy0vH6kXtUJlxIwensY8/X2y1KSeta+5tMmYt+sUD7GgJk3kh/3dlh09eaGMvfYaDcGKGc8fGeYMN8uLr4FGzvKqJbdL/qKz0zymvBRyfiYuufZpQ32rrtYCzKYB3E5pwvaMJbSeJt4HhKcrCBbtVbaAzL8LTntlx06mEeLVyVsWxCzdotjYwnL9eGWEfJfovEGCoCR9eWelTiaKz0rci+y/g38zCh9HfXbhwwXgqMXWTfvmB7aprvXWIO0jSJvezXYQtyVbM0aBo8yvYLsrXF6CzDyDhvHBdEK+NAyKTLurIi0vEXU20rIm05h5cs5Jojbszp6KyUise8T8TX4f2r7baAtaNkQxyeBH/M2FItN4Fa0LjVkzEcHHawPh5oV0Za83npIvOULSCduGiO+Wt2NWTzAj3wMMZdvouEGCoiVaIGkj4jgllRrg7OGdF9l3Av5lFwjj6ikvD2JVCdnQM1KxOgoy+fNCEXlaoGh0GWdlhkJUdhtHfcfQVAAAAAKAYwlcAAAAAgAIIXwEAAAAACiB8BQAAAAAogPAVAAAAAKAAwlcAAAAAgAIIXwEAAAAACtDu+woAAAAAwGXIft9XM3ztPDf2zbrlKvv24xK64gqt+JEdHYPMTbKyMyCjLx80oZcVqkaHQVZ2GGRlh+HR33We2BUAAAAAoBYZvhq0WLZTha8cfb18cOigI2EfZydBRl8+aEIvK1SNDoOs7DDIyg7D1d8xdRMAAAAAQAF/JwPZ4f/wbfMZAAAAAACXJY6+AgAAAAAUQPgKAAAAAFAA4SsAAAAAQAGErwAAAAAABZgzSu/8yxfG84hDZdMXrzcfi7GPP1+cZj62nHpl5cylB8wnwx4pWTLsWvOJ5eSupx96od58MmDSS1OyrzOfXDq+N85pWD1m3N7C7aX5KeYL3kIf11aWlq3f3dB8ViT1TL/zRzNnT8xM6WL+VXO+uW71kpLf/bHheMh7AZuml2bkLRbzti7L72m+4tZUNSNvoZi/fVle/PVSie9dHwLmhdS8u/KZ366tfqc51C0l4wfjp84ozIzxnlhJ3by7YslTa6s/bBHd03LyJk2dnJvWzfyTwXeBTi7+9PQtr88d8cseK/fMzDBfiMk/nY/XVf77irV/qG8+m5RyW874KY8XDjEzu3nLjBELao3HbhMq9kw3v7zlUNWKpWWbA5QWRPPO6PPN9S+Vr3jx1TqZcSI5bej9hTOm5vdLNv/qqaVh2+ry8i3VjadF8k05+T+eNOne9GR7C+m7gFFalq3/4yEtK9OHjp35RFFmdL2Ou4DSYjShoaaaypKV+laLpJR+d46dMbtoaLwi3rh+3JinGswnYbYqI/lUzAAFwN1K/7SwI+WF5FU1Es4LyafQxk1q2sB24d3KubqeHz9e6JeVYfF6wPMNFWPH7ZvgGN3Vlw4pWmM+dsmyjwNj94YweGdlgM7FzS/3/YOC9ujyOjNXf2fmqyt8PVMze275LvOJyRmgOoJbU86cN0b1Mx8L8e7mR6dVm48tI5eXjr3FfHyJxA9fQ++UjJtc2Th8XvyQyVyse2bh9MKs60XT7sqSNXXn+hWv/D9FGUn6Euebqp4YvbCma+aEmYVDe5wwFsiet+mp/NTosqiHprUiK2b4Kj/t8byFO53NlvpijL1MAfNCatoyY/SC2j73zJw0Oj35421lpVUNSQUrtszKjA4vvZM6VF86rmhNY9JthbMnZPU4LdugyrruhRVrZmaYn+C7AGJ0EgaZ7A8vrD1bWOETvgZIZ+OjeubM/PGY9G81bltZUnWoa8Hy7bOGahWv5Z0Na3edMBYMa6qp2HZIpE3fuHGCtgvOKC2hm/RPEA1Vz5dt+yRz3ovL8lONxeHDI6PN5k6kjygen5eeclpP1UNdcxZvWjoiRt09W18yoajyeHru5PH56clNteVLXqjvM6Fi3XSzBfVfwMrKrkMLZ461Sksoy56VvguozqsJNStRsr7VqaKpdn1J5e5z6VNWrp4cSTqnUO2vh8/YmpH/iHPkmz6q+B4jpfwqZoACYM+L1C8bNv62pPp4h8oLKapqtCIv/AqtX1LTBrYLj1bO6HqSjFFfS8Om8pIdR7Lmb1qWFyDV4vWAZiFxje6adpRtdu9Q+nz/SxvqmpPyn9o+7x59b0Xc3hAGj6wM0Lm4+eW+f1DQHl1eJ+fu7+Qjqfbdz20/u54YrJu3S3v65vrxxtOJ6181F/jo6Yn2V1xPtZ9Xy6bpL017+k2Pp5fwJ7zJ0c7Ul0+8S1/Nn20+Yb7m6YO1/zx48IPPvPWF+Vw6V7vkDpkAG48YT8+8Nkd+zPTfmU+lI7+bLl+Z89oZ83nYV0c2/0z/0sHTN39qvuZivFdboirueqnGXgJdAufFhQuN62XpG71s3znz+YVzdc88KPPntwfN52GxkrqhfPTgwXc8vvnIV+YLF45snn7X4Dv+x3+YueW7APTcNB+5fPTqAllfNM/sM1+KwTedv/pg/X8fPPifn9kXrnpfvKVndvnB8Ftc9OIR+cxT/zFHlivHJ+x7Rq7eP8f+BDhFZ/SZ6gWy9bM3d2ZO3bXkrXC1dDr4W5lto5/ZG/nzwQqZ+Q+W/8V66rfAhTP/oTWyP3OWFvlKuLT4LqA+vQV1Zsd7a7Vketqe8Of++L+03mn9R+bzKB9ofXycZPGrmP4F4NSrclDh+ASjJs5+tcPkhdQOeeFXaFtR12gDW8GdlRfOvDpbJvL0zZGEP/Mf/0NmxROvnjKfxxSnB/zqzL6KifJTJN/RnTHIjAx1WtEbdkpRWRmgc3HzzX3/oKAdurxOT+vtbLnpde3roRrjqGnOIP1I6bV33GbsL6o/3Kz/Fqf+9I5+SvCAzDuu1n5fNyBzmPa7vubAKe23ECcP1OkHbzOyB+gHbK8emD1A+73rnf0ntd+Xm/PNdaum5k0sOzgkK8t8KbbmxoNnk8S9OfaDe0nDcwu0BKgzkqjxPZmEWTlZkd1yqfKZENsONJrPLU2vLFmyM6vwkUzzebSmqiXP1GY9Uhh7iY4lobyQab6lpL5bwawpkR1USUPyCweIE3sPNpkvmGIldX31qkaRXjzNdmA8Nb94Ympoe1X1ce2Z7wLwdr6lYcvCcePmVomsLL3+x+efzvurSvYnFTxRHDkY2y0zf1y6OF138FPzBYfzjRv+dWl9t6z5vzQ/s3ln1bazIn+6/RMyJk3JFR+uenW/+QIS1fhxfVdncye6pP3TQ1ni7IZa6/ISp6bG95JTBo7Jvy2yWzl9kKzuTfveM1pQ3wWE+PCg1sjee6ettNyZM1yI7fVmI+u7QEcke6cz3UROTqZth31Slt471e61ks6lpbH+gEi9uU+sU719K6ZvAQi998GRm5JHjb4/8gndb828TYjXD5IXDn6FNuG6RhvYLkIHP2hKSx5ZcH8k4ZNvHSrHEtUHPzSfe4jfAx6vq5ieV7T8YGZ2gJHO2dqSX24I3VQ0LzzUSbQ3hClA5+Lim/v+QUF7dHlw8gpf+xWXPv+G/LGdCexwZn+N0U726mVey3p1r776bys6teJbcUNfPb6VMXDfXvrvA3V/OqM/uKw0v7Jg6sq6HnmLNj01yX2Jb7SUnEVbd9ovCorWJ1WW7LpGe/x0oll2P+nXO0cIMjT9TW3mnNkFN9s6OLvzTVW/WVJ727zZD6fFWKKjSSwvRMOe10NiZNatjtRJK1izZ+dy55lQMZO6ufFASIjMjO+bzw3pA3OEqG14T/7JdwHEsL983IKqxn7FFatn53Q3X4vNP50b9laHxKisQc7MHrtuT80Kz9PeWnaUl+wXGdNm5lonih95r1YODjP6Oz4heUBmpgjVNXTggfTFlTFh4449sa/b95Ca++t121cX2Ct4y6dac9mnh9FC+i4gxPV9tEb2wyPmU+n8iWY5mBiQai7hu0BHlHLvou01e2bKyDC4ox/K7jrju15VSONfMX0LQNKQ4nWbdswabqt35IUnv0KbaF2jDWwfSZnFazbu+GWWPdVOHNfGdKlxurZ4PWBz1aKpZbt75C/etEw/ozu+hvUlG84mFfw8ctJ5or0hLAE6Fxff3PcPCtqjy4PT35m/4zj0ojn90shsI2WbjxqXxQ7r9R39t/SdvsaupQNHteQWfz1sxLcDeoerUWov1yHcy0rXtOLl2zfOz43s8kzUgT3VspDfnGZcu5CSnZ/fPVS5aGltkx7eHK8tWbSqqVvW+HvshbN5mwxNvz9rZl5qV/MVt+btS5bU9J/18/zUK81XOr6E8qLlyAdNIjM9Tby/reSJMfcMGTIke0TRr6saWsy/W/yT2tORE+4PcvFdoFPr0iN//rrtzxZlJCeU6h70dG458l6TGJKe9lXjttJZY+6VmT18xOSlVYdiZEGovrx0Wyi1cOZD9koXU8OnZGU7aqnbqY2S04IMpM6HmnaXzVhcndRvZr7nVVueC/TMyc9LDq1ZuLSmKXReLtNcu2zBqqakrIf/ycxv3wU6jQa9d0q70XFla1jLR7IRTbn6dG2kCZ1faZ5H5Cd2AxivAISaG6oWzy1rSs6feD954dCaQhs7qWkDLxJZgrcsnLuyKTlv0v03ma95iNsDdr25eMXWjfNGBGgij1eVLW8Uw2dPiuwASrA3RCy+vU+0gLnvDAocWtflwSl++Hpy19N3m1M0XQazLl08KSNm+k4GGM/5pqqVZU0ibXKutfele868TRVF3TfMyBsu25UhI2dUditYsWlZeA+o1Lx1wQIZmv6qIC1WnHZ824Jf1/Z/Yl5BnBrS4SSWF1+2yNb6zJtLxo1dUN+7cNHyFYsmZ57bunDcxIX203rjJnVKqpa8jY3O04Ab368zH/kvgBgGFs7LCz5vnm86h7TMPlu9ZMKYBfWphfNXrFhcnHl288JHihbu8Bhrt+yorGwSWZPH2+c96PHdqNMi5Od+2EBetq/QnvKy10XSiPwcv8NEjevHDRk6PG9aRf0NRStXFaZHlZbYCyTnzNlSMTl5w8/zhg8dMmToiBkvdC1Y/vKykeHWw3eBzqGpqmxlk7hp8v0DzRdc9EtdmjeUrj0xcNLS5cvmPZJ57g8lUx+aUWVWk9Y0gDELQKh2qTbQHrdwy5ncBevMGWg6D7+8aEWhjVPXaAMvglDtr/USvKDqzIhF6+bkxCvB8XrAlNzpQWdBb9hSXitSC4vutxWCxHpDePLtfaIEzv3ooMDShi4PDvHD16Zj1m1vxNa1u8zrWuF0vqVu+YyFO0XatEVF4dOtz9aXFU+pOJSeO33RChlTTc9NP1Q5Y2ZZ/Vnz7+J09TO/ru0zbXbs0LSletmC2p7Fs0d3tt3TCWuoqUudv6ni5/lZQzNzJyxaXVqY9mHV3Ofr9APf/kl9a1ZBkqitfLHeXF46W1e1LjLrn+8CaBeB0vlAbd2N8zY9OzM/OzNzROGiVSsLb2qs+lW5ldlhTa++WC26FRTmOoZ9qUPuyRChDWuqms6br8hu5tUXN5iP0S4+rnri55VN3XIXPRF3bKfrmj7ebCE/qSjKm7XNOaqWYi8Qqv/tlCmrDqaPmLlouRy9zcztd7Dyiell74SLgu8CnUBLXcn0hbUirfh/FsUYBjWfON0nuVvWvBfXLZqQmzk0K3+K3oSerV04Z4OR2Ak3gHEKwLkeWf+2YsW/zSscGto2f/S4lbbP7PD880JKsNDGq2u0gRfDuR7Zy1YsXzZvQmZo+9zR422DuoskVFe1pklGwgW2qyJNQXtDePPtfaIEy33PoMDShi4PDvHD11tGaRfBvvSItvtg1wszZxPBup1vrv23oqlrGtMmVKybmG6+KCPPxTJ27VNYulofEGgx1bp1szIPVUxZXK2f29FS/dTcbT2LF00Iv8Wt5fUlc7f3idvPwZI6ufiByBk4SbdNmnSvCK3foTfi/kmdNHTmyglpjWuKRkwrqaqpq91SMjVvau3NWeE3+C6AdhEsnVMnT7ZNIdMtY9KPc8TZDTv2OHvsQ9sq94uk0bn2WVM03y1YND9L1CwcPX5u5fa6uu2Vc8ePXnJloEnCEETo/Q0zxun3pnpxUYALnkXqbVYLuXpmxunquVbIFBZrgZbXF0xZ1dBnwsrViwtzh+qjt7WbZt3WUDF9QfXpQAt0fM21SydOrfwwrXDVuuhRlCUl55cbd9Q4bpqSdFvxzNFC7N9Rp6d1Qg2gTwFITs+SQ+3s/JmlW5aNFg2rppTs7hxj7UB5kVih9Ulq2sCLIjl9eJa2l2f6ii3/ViDkoG75xY0WW2qqNpwVWQ/9k9dJxsF6Q8Tg2/tECZD73kFBRKu7PLgEuPZVXDesaJYxb/ALv39XfwW6801Vc0bPWH8kffKKimm203Na6qq3h8SIqZPse8u+O6pgtAhtr6ptNkPTol/FPivgdPWSBdv6TJ5XGLufQ8RNKT0cKZmcqrX0R06cDpDUmqSMaRXr5hekNW5Y+POpc9c0ZS7evvFfcrRZx8xLjn0XQLsIks5pKT3MR4bk643Mdlzz01C7uUkkFWR7TKWQmrfs5eXFd4ZqS+ZMnbGs+uqHV29/qjBNfnfUrm0kqmVP2cSJS2uTcuatS/wekt/PLxwhQ6baOudJqhGOBVrqdmwLidypE20Nb5fUUQ8XiLPbqnY2B1igo/u4atbYGRuOpxetrJgZfdzGR1Jaun6KqZkXQRvABApAl+SsH01OFaENuw+ar3RgQfMigULrm9S0gRdbcna+VoLX117MEqwVCSGycoZ5nj0eqDeEP9/eJ4p37scKCjwl1uXBLUj46pbSW79Njth17K/6b8k1V5NrJieNdR5yRt+Y13Co5WxDxU9GL3z9XNYT61ZPyXRc3qBfkCmud80XltR/gLZ/89z55uotsotqrJioXxarG7GgVojahSPlwxlVx0VzTdW2s6JxVVFkiZELtSUWjJAPZ2zh2gZLSmrcU6v9k9rUJTk9b1bF1p179uzZsWlp0dAU/Vqg1Ftvtkqr7wJoF/HS2bgGL4img7ubRLeCnBgXmKUMLVq6aYf8ip1bK2blpSd/3FgnRM7NnKXfJk2vLyyaUtHQs2DZ+qX53zVfTERyj+vNRzHYF9Av/RI93I3szelaI/uV/Oe7QEcWOlBRNG5hdShr1urVxUOiziqNEoo6Be5c6IwWzoT7tQANYMIFoHtKZ6hyieRF0EIbIKlpA78GPVKCdkmtdf5g/XYhhufc6b5KNnhviCB8e59oUbkfJyjwllCXBzeP8LVx/d3TH5U/tlOFndGpdZscceyYeRPXM8cO67+H3TZQv5WOdZsc8clh8zY5pw4f039bt4pV3Nn6sskTy97pmjN/07KxUbe06d6jj/y/qcm1B+wDbcJ60bVLcuaPV6xY7vhZ9Ei6EOmFi+XjSZndRfKQSa4FViwu1JZ4RLuSdlKA4Uhn0aV/xgghdjYcdJzA0dz4nhDd0tJS/JNaW/r1uSOyx20w7t9lCu2r3Sy65QzR7xXhuwDahW8698/IDd+rI6z5o0Y5wHPM5NlysG6PEHdleMzUtb9yzL1Dlu50fELTnm0NIiszg2rVek1bZ437ZdWRfkUrVs/K8t2l01y99JERw39d6zztSq+2ok8PWSt9F5D9utYXNTW5zqj8qFFrZLVDgr4LdFihd8omTimr14/LFXzf74BaS/XcIUOG/7LKuU+0pWFvgxCjbtXPfQvSAMYvAA0vFI251/UJ8j1ayOS+mVzHklheBCu0geoabWD7OlBZNPqeceudNxY6f6Txncg9jS6K9/dXC5E6qH90PgftDeHi37lECZL78YOCdujy4OYRvqYNGqv/3vVCxSt68Hly18v65MPh6LTfw/rVsOGbuJ48UKffSicje8C12m8hbsmZpB+hra85oMfA1q1irU9QW6i2dErFIZE1f93SPP1os0tS5j1jk8Tr5eX26Raaqio3a9MDZqUkpQ7MzBzq/Lm5hxA90gbJxxmpSSIpNcO9wKA0bYmbtcfaEjAl3/lAQZLYUGKbAiT0ztrKnSJt4v0ZXfyTWkq58XtdzzZs3BGZiSR0oHLF+lDGtPwMve/3XQDtwjedk4ffX9BNbPg323wJZ+vXrql1z+Sp3/o/PSPNY1RxU2r6abH5lT9Gdi01bysrrU8aXXB/sEkg4eHDDXPnV7fcVLhyVXFmkKFcSmbGjc2hTRtetV3TE9qztnynSJ2gX6rnu4DWyMqKX12+xjb3z/mmqhc2iG65+cPl6M13gQ7qbG3J9AoZisxbE+wQaHLmnfcKsbNyra23MiaztZI6QAPoVwDSb7vz3OmGyt/ZrhOTeVFRGRJZBY6byXUsieZFkEIbsK7RBrav9Mw7Qy0N66rqbOcpNG0przwrskZfxBtxNb+3TzaBd6Z7fEPQ3hAu/p1LFP/c9wsK2qHLg9sVFy5ckL92/uUL47mhcf3dz2w1H4cNmPTSlGwr+DxUZt5QxyZnzhujItdqvrv50WmyAXW4DO6+k3XLVcYmx1BfMqSocvi87aX5tgFOc9X0EQt3Zs3bqt8u/P3KMWNLGkVG7uQh7nLa487xo/UdmGfrSyYUVR5PyRpdXDA0taWhau2qbQ1JOYvWLM31KtvNW2aMWCDMz/d0vGrGyIVi/vZleR1n4HXFFVfI/2Nnh2deiPrSIUVrROGq8O3gQ/Wl44rWHEkfUTw+L10YSd2zsGLNzIxuxgIOXkltfMKJzAkzC63Mahwyb9NT4UkRfBeAlpuxs9KoQYUVe2bar8SKkZXx0jn0Tsm4yZVH+uUWP5qvZfbzZdsO9Slctc5+RVnL63Pv+eW2gtKdsyJ3yYto2jJj9IK6NL20JH9aW1laWdc9ZmlBtKiMbqleMGLWllBqdkFuv6vM1yz9HyjO0QbuziZUaqqa8fDCWpGeO3l8fnpy0+7KkjV15/oVyUG5mRG+C1gVPyW7oHhUVuqXRmHomrNg3dKRRiPru4DyopvQxjVjxpQ2ioG5RUOjeqdh4wtu03ond70LmtSxKmaQAmB8QmPy0MKZYztmXkiuqhEkL8Q7JUMmV4oJFXumG01j/EIbJKk1tIFtFN2dGV1PY/fMwumFWde3NGxZW7a9oeu9i9Yttu5Rrw/SaqNGLDrvHtCkl4Esr9Fdw+q8ccuTZ21a53nfhCC9ITxGJr4tXlRW+uR+kKCgHbq8zs7V35n56gpfNY4AddgjJUuGmUdWw+wBqucCjjDYEf1eOm0PX/X4RzuXx4P9jS0N21aXr932x4bjIdE9LSdv0qSJueke+0I1hK9eAoavUqhxe9mK31ZVf9hiJPXUyblpMSq8d1Kfb6l/aUlJRXX98VBSz4ych6c+Pi4zxR6a+i7Q6Xl0EhEBw9dA6Rx6f1vZyvKqHY0tIjntnvxJU4pznWflGTXUWUIcmmpKSkoDlRZEi8povZ6aj92sXIgKX6Xm+g2/XbHx9brG08I7r30XON/S8Hp5+fOv/vFQc8goDD+elNvP1sj6LqC4qCbUSGfziUt4fOxR7/TeqnxLdZykjl0xgxQAKdRUU1mycn1HzQvJWTUC5UVU+Bq/0AZMatrAtvLszkIfy1C/bP3uhuazIvmmnPwfT5p0r+22rhchfNWrqrPZdPLtDeE9MonfuXhlZZzcDxoUtL3L69xc/Z2Zrx7hawflF77i6xM19oLCvDsJdDhk9OWDJvSyQtXoMMjKDoOs7DBc/V1rZh4GAAAAAOBrRvgKAAAAAFAA4SsAAAAAQAGErwAAAAAABRC+AgAAAAAUQPgKAAAAAFAA4SsAAAAAQAHmDZGM2+kAAAAAAHBZ4b6vAAAAAACVmEdfd/7lC+N5h5d1y1Xh2B2XlnHMn+zoGGRukpWdARl9+aAJvaxQNToMsrLDICs7DFd/x9FXAAAAAIACCF8BAAAAAAogfAUAAAAAKIDwFQAAAACgAMJXAAAAAIACzCm54s08fKhs+uL18nfOnDdG9TNe0p16ZeXMpQfMJ8MeKVky7FrzieXkrqcfeqHefDJg0ktTsq8zn1w6vjMPN6weM25v4fbS/BTzBW+hj2srS8vW725oPiuSeqbf+aOZsydmpnQx/6o531y3eknJ7/7YcDzkvUBLw7bV5eVbqhtPi+SbcvJ/PGnSvenJ1gL1pUOK1piPXbLmb1+WF3/t1OA7bWbAvJCad1c+89u11e80h7qlZPxg/NQZhZkx3tP00oy8xWLe1mX5Pc1XDM27K5YsW//HQ9onpA8dO/OJokxrgc6QF20Xf36/ltfnjvhlj5V7ZmaYL8SkZcRTa6s/bBHd03LyJk2dnJvWzfyT6Xhd5b+vWPuH+uazSSm35Yyf8njhEFsWhGqXDp+xwXwSlmXP8ZZDVSuWlm0OUFoQzTujzzfXv1S+4sVX62TGieS0ofcXzpia3y/Z/KunuA2gxneBDzeMG720wXwSVlihF7NO3ISGmmoqS1bqrZlISul359gZs4uGxtvexvXjxjwVlZATKvZMj9TXOC2kwW+BhNdKOV5VozVb7ZOS/nUt3pc2b5kxYkGt8djNmeOdmXcr5+p6fvx4YeACHK8HPN9QMXbcvgkejZKjqxpZPHtafrqVzwxLAvLOSt/OJVrw3D9dPTdvVo/SPTNvM18w+Dez51saXlmxZOXmei1qyBg1ZfbUB/zWqjNx9XdmvsYOX9/d/Oi0av2RI3y1Ylo7Z3wbeWPEyOWlY28xH18i8cPX0Dsl4yZXNg6fFz9kMhfrnlk4vTDretG0u7JkTd25fsUr/09RRpK+xPmmqidGL6zpmjlhZuHQHieMBbLnbXoqP9Uoi2frSyYUVR5Pz508XjZITbXlS16o7zOhYt108wOadpRtdpfzz/e/tKGuOSn/qe3z7ok7LlREjLGXKWBeSE1bZoxeUNvnnpmTRqcnf7ytrLSqIalgxZZZma6wR2qqmpG3sNYZzEjGJ3QdWjhzbFaP07WVpZV1oax5Ly7LT9X/2gnyou28OwmDTPaHF9aeNeOK2EL1peOK1jQm3VY4e4KVEd0LK9bMzAhnpfFRPXNm/nhM+rcat60sqTrUtWD59llDjXpjhjShewrv+b71iqbHneMKMvSMMvI6dJP+CaKh6vmybZ9khvMavjwy2mzuRPqI4vF56Smn9VQ91DVn8aalI2LUXb8G0H8BWVx2Lh0+fXPGQ47dF0L0HzUlR2ZmZ21CzUqUrLdmqaKpdn1J5e5z6VNWrp4cSTqnUO2vh8/YmpH/iDMh00cV32PWivgtZIAFWrFW6omqGq3Zap+U9K9rPl/a8s6GtbtO6EtGNNVUbDsk0qZv3DghzXypc/No5YyuJ8kY9bU0bCov2XEka/6mZXlWHYgjXg9o5ld0zGkMgU5YJaH8N5X1PSO9IcOSgDyyMkDn4hY8980aGipc5QpffZtZoyScMKOGIGvVybj7O/lIqn33c8+fV8umDbY88bvw6x89PVF/aeL6Vz2eaj/WG6c9/abH00v4E97kaGfqyyfepa/mzzafMF/z9MHafx48+MFn3vrCfC6dq11yh0yAjUeMp2demyM/ZvrvzKfSkd9Nl6/Mee2M8fTgbx8cPHj0M3vPGU+lgxWj5YeW/8V8Gs34itHL9kXeozh7CXQJnBcXLjSul6XPnizn6p6Rifvgbw+az8O+OrL5Z/pnDp6++VPzNc2Z/9By62ebj3xlvnDhyGYtt/7Hf5i5FaXj5UXbxaxZH726QNYXzTP7zJdiaCiXdeCOx50ZcdfgO8IZ8dUH6//74MH//My+cNX74i09s8sPWm+RWaM9bzCfup36jzmyXDk+Yd8zcvX+OfIJiC86o89UL5DVwd7cmTl115K3YtQQ3wYwSAv5wYuPyDY1Zi2N0ima0PfWasn0tD3hz/3xf2m90/qPzOdRPlg/Pl5z599C+i7QmrVSTzvkhV9K+te1Vnyp3oc6Gt5Oz52VF868Olsm8vTNkYQ/8x//Q6bqE6+eMp/HFKcH/OrMvoqJ8lOk6VXOkc65fVrXFlUSPAY2FoYlnqKyshXD78C5/9WRV/9VfpTmmb3maxafZvbcXi3Do6KGeEFBZ6P1drbcjHvt66lXXijfZT62O/Wnd/RTggdk3nG19vu6AZnDtN/1NQdOab+FOHmgTn9jRvYA/YziqwdmD9B+73pn/0nt9+XmfHPdqql5E8sODsnKMl+Krbnx4NkkcW+O/eBe0vDcAi0B6pr1p43vVQuRlZMV2TGTKp8Jse1Ao/6sqfG95JSBY/Jvi+xVSR8k/9607z3jA6KcrS355YbQTUXzpnT0PTEJ5YVM8y0l9d0KZtmSJWlIfuEAcWLvwSbzBVPTK0uW7MwqfCTTfB724UEtt+690zwwLqXemTNciO31Rm65dZ68aKPzLQ1bFo4bN7dKZGXp9T+++upVjSK9eJp1hoKUml88MTW0var6uP50f1XJ/qSCJ4ojB2O7ZeaPSxen6w5+ar7Q2PBH2e7c1Nt86tK8s2rbWZE/3f4JGZOm5IoPV72633wBiWr8uL6rs7kTXdL+6aEscXZDrXV5iZNvAxikhWxprG8Qqd/rE/AwQ+eotrJ3OtNN5ORk2rYxKUvvnWr3xuhcZEIeEKk3x05I3xbSb4HWrJX6WrPVfinpW9cS/tLzjRv+dWl9t6z5v7Q1vHAJHfygKS15ZMH9kYRPvnWoHEtUH/zQfO4hfg94vK5iel7R8oOZ2R4jndDebRuaRMHD99tKwv0Fo0XTmqq6kPmCA8OSoBIffgfL/ZZDVQvHj567RWRlp5sv2fk0s6F9r2kZXvBA5DtSHygoEE2rXvHOcMQJX0/uqtAubR2QoYemNmf21xhjkl69zGtZr+7VV/9tRadWfCtu6KvHt0Jc27eX/vtA3Z/O6A8uK82vLJi6sq5H3qJNT03yP3UmJWfR1p3xLxHpkypLdl2jPX460Sy7n/TrjaKbmvvrddtXF9i/q+VTbek+PbzLdsP6kg1nkwp+3oFOtIohsbwQDXteD4mRWbc6kiWtYM2encudZ4M2VS35TW3mnNkFN0el4PV9tNz68Ij5VDp/olm2SgNSPTOj8+RFW+0vH7egqrFfccXq2Tndzddia248IFvpzIzvm88N6QNzhKhteE9rwBv2VofEqKxBzsweu25PzQors1uOvNcUJ6Q58l6tHBxm9Hd8QvKAzEwRqmvw3lkBXxkTNu7Y476YPC7fBjBIC9n04X4hBt7kqOaxdZJqm3Lvou017muufBz9UHbXGd+NnZC+LaTfAq1ZK/W1Zqv9UtK3riX6pS07ykv2i4xpM3MTqL+dT1Jm8ZqNO36ZZW88ThzXxnSpcbq2eD1gc9WiqWW7e+Qv3rTM64TtxgN/DInM9JvsX5jUf0CWOPvH/baQKYxhSWAJD7+D5X59+SMLqz7pX7y6YvYPepiv2fk0s4373wyJIelpzgxPHy5Cb+5naOIpdvh66EVt1qWMWSNka+rUfNQ4JDus13f039J3+hq7lg4c1SO2vx424tsBvcNZldrLCPfqD1+O+1q7phUv375xfm7r9z4e2FMtC9vNacZJ7SnZ+fndQ5WLltY26ftNjteWLFrV1C1r/D1eEdn5UNPushmLq5P6zcwPX8Jnd7yqbHmjGD570vBO0DIllBctRz5okm18mnh/W8kTY+4ZMmRI9oiiX1c1tJh/tzRv+82S2u/PmpmX2tV8xaZnTn5ecmjNwqU1TaHzMjuaa5ctWNWUlPXwP3nkVqfKizbq0iN//rrtzxZlJHukekKOnJA5qoemsn3/qnFb6awx98rMHj5i8tKqQ/bM1kOa9KTGNXOLRg6XS9wzelbJ9sYgOy8bPnUXGrRBS91ObU9BWpDg0rcB9FxAr/sp3U/URgrD3Mo9MbqXzl1tG/TeKe1GxyVXYS0faQl59enaSBM6v9I8j8jg20Im1IRa4q9VR+Wz1a1JSf+6FvNLQ/XlpdtCqYUzH4qTUYgSam7YsnDuyqbkvEn332S+5iFuD9j15uIVWzfOG+GZbaETWkCVnnq9+dyQkiqzqemDj6K6KoYlrebb+0SLkfs9Hpq37pWKooHewx2fZjZ04oTM8H6pztKQkio/v+mDI4xNvMQKX9/drM3MNOyRogc6Q9+SMmJmm6ZAPN9UtbKsSaRNzrUOyXbPmbepoqj7hhl52hh6yMgZld0KVmxaFr2Ds3H9uCFDh+dNq6i/oWjlqsJ0r5itYUt5rUgtLLqfvHD7skXW6zNvLhk3dkF978JFy1csmpx5buvCcRMXmqeb6pq3LlhQ03/WrwrSvEPi5Jw5WyomJ2/4ed7woUOGDB0x44WuBctfXjbSYzU6VV601cDCeXnB583TW2rR2GjLOKnx/TrzkQhpmX22esmEMQvqUwvnr1ixuDjz7OaFjxQt3GF1As2N+2QfsKNkye4e+b9ctmLxrPuvr6ucM2Zcab0Rwfb4rnZsw3FahPzcDxvC34F2EdpTXva6SBqRn+N3SMe3AYy5gH6aZfP6krWfZkxavGLZ/MLMs9UlUx6cscWZu7pOXW2bqspWNombJt8/0HzBRb/UpXlD6doTAyctXb5s3iOZ5/5QMvWhGVWRhPRtIRNoQk1+a9Ux+W91winpX9dif2nLjsrKJpE1eTyH7AIL1f5a21c2bkHVmRGL1s3JiXHAThevB0zJne6eu9umRQtmZIjreu+V2n8tZ937YxmWtE6Q4bdTnNzPKJwTmRc6mk8ze/qEdsbFle7It6uW4y0tXxrP4OAdvjau1ycNHjk+6l44iHK+pW75jIU7Rdq0RUXhiZfP1pcVT6k4lJ47fdEKGVNNz00/VDljZln9WfPvYV3Tx5sLfFJRlDdrW/TQK1RXtaZJtoMFtjP1YddQU5c6f1PFz/OzhmbmTli0urQw7cOquc9bFwycrn7m17V9ps0uiLmXNFT/2ylTVh1MHzFTBsArFs/M7Xew8onpZe9EHbQjLy6mW7MKkkRt5YtmqKk5W1e1zjm74oHauhvnbXp2Zn52ZuaIwkWrVhbe1Fj1q3Izsz89caJnUtqEiu3LjQUKZpWum5ed1LhmSslubYnUIfdkiNCGNVVN5/XlpfNNr74YdZ8dtMXHVU/8vLKpW+6iJ+KO7XS+DWCsBZpPfN6ne1LW/E3rFhfmDs3MyivWC0OodsHcDR+by5g6c7VtqSuZvrBWpBX/z6IYg7PmE6f7JHfLmvfiukUTcjOHZuVP0ZvQs7UL52ywEtu3hQzchBr816ojCrTVCaakb12L96Wy6asW3QoKc4l6gjvXI3vZChl+TMgMbZ87erzHoO7rxrCktfyH326tzv0gzSwS4xW+nnpl+1b5a+zjl/omNwo431z7b0VT1zTKEfO6ieHLtVuqF8vYtU9h6Wq9pGox1bp1szIPVUxZXO06CyD1NmuB1TMzTlfPjSrKLTVVG86KrIf+KchZeJ1U6uRi2/XuSbdNmnSvCK3foYc0LdVPzd3Ws3jRBK+L6XUtry+Ysqqhz4SVq/VxsBYUrd0067aGiukLqk+byxjIi4sqaejMlRPSGtcUjZhWUlVTV7ulZGre1Nqbs5w5lzp5sm2KkW4Zk36cI85u2LFHH94NKFy3dedG+0TzXVLzp89MlyFr7T7t6XcLFs3PEjULR4+fW7m9rm575dzxo5dcGWiSMAQRen/DjHH6valeXBTggmf/BjDWAin3zNr4+k7HfQu6ZRT/XJuiZscex2d03mrbXLt04tTKD9MKV62L7Fp1S8n55cYdNY4bRyXdVjxztBD7d9TpCenbQgZvQjWB1qrDCbbVCaWkf12L/6WHtlXuF0mjc+2zPMFPcvrwLC38mL5iy78VCDmoW36JZ9ZhWNJqvr1PlFbnvn8zi0RFh6/mjE05c4q5GMLH+aaqOaNnrD+SPnlFxTTbiLmlrnp7SIyYOsm+M+y7owpGi9D2qtpY1/5+P79whCzKtXWOkydb6nZsEyIrZxj7R2O7KaWHY79ysn4BwZETp+VoYMnc7X2KfhXntBAthUMid+pER8wz6uECcXZb1U57bpEXF1tSxrSKdfML0ho3LPz51LlrmjIXb9/4Lzna9G/6SVO6tBTntAjJ1xuZHfvqkO+madfvf9hk5GVq3rKXlxffGaotmTN1xrLqqx9evf2pQtnWJTGGa7OWPWUTJy6tTcqZt87RTwfi3QDa+C4gM/GmdO3s8I/tt7XsrNX246pZY2dsOJ5etLJiZsKHZZLS9ITUz+T3bSGDN6FtXCtlBd3qBFLSv675fWlD7eYmkVSQHfdW3IgtOTt/cqoIra89aL7QjpJ76Hl6LnyWkOEr7T/nDEMMS9pDgM7FpT1y39bMdu/RR77w1TnjD2HntBzv0yPAjuBOKCp8tSYNrl589/RHtZ+51r1z9Fdm7zolUnobcxHvOvZX/bfkmqvJNZOTpumYMRdxRt8OUsnONlT8ZPTC189lPbFu9ZRMx+UN+gWZ4nrXLGb6rHHR7VFEcg/nZfqa8wfrtwsxPOdOZgX0pE9lEFtz9RY5GmismKhfgawbsaBWiNqFI+XDGVVaU6VfUSl6uHPr5nQtt/TewkRefA26JKfnzarYunPPnj07Ni0tGpqiX5iaeuvNstkwLo71EwppU57YnQ9p+0dtV5WkDC1aummH/IqdWytm5aUnf9xYJ0TOzeyva5Om1xcWTalo6FmwbP3S/O+aLybCqwF0iFog6howETp3RlZe+1i9U1bb0IGKonELq0NZs1avLh7iewa3CEWdAncupCek1q/5tpBBm9BE16pjSGSrg6akb10L8KVNB3c3iW4FOZ3q2uN21iMlSJfUGkk9tN2yjeY+V0tzU6MQqT162Bo4hiXtw7f3iZZw7sdrZpN6aDssrJ3sluamD90ZjrBYUzfFY90mRxw7Zt7E9cyxw/rvYbcN1G+lY90mR3xy2LxNzqnDx/Tf1q1iFXe2vmzyxLJ3uubM37RsrGOma42xH6WpSeuJbD7QbtqhX4vfXL30kRHDf13rHHw1N74n/3fuaHl/f7UsvYP6s2PNW5f+GSOE2Nlw0JGUekp2S0tLSc788YoVyx0/ix5JFyK9cLF8PClTS2pjN2dTk+vUrI8atdyKHPQjLy665tfnjsget8FxV4DQvtrNolvOEP1uOv0zcsM30Qlr/kj26Oakmg2r84YM/0GZ6w6u72m3gk0fmq4tsb9yzL1Dlu50fELTnm0NIiszo7OMpy+Gpq2zxv2y6ki/ohWrZ2X51hDfBtC/hWypnjNkSPYT+h6oiJaGPQ1CjMrobz6XOl+1Db1TNnFKWb1+XK7g+34Dn5bquUOGDP9llXPY1NKwV0vIW7UT931byEBNaGJr1VEkuNWBUtK3rgX60paDdXuEuCsjxnSGcDpQWTT6nnHrnXcwOX+k8Z3IPY3aV9qAO5PcnV3o4IFa0e3OgfaoiWFJooIPv8Panvv+zWzawLuS3EPZ0MGGnSLproHsWfcUFb5e+8CU598otf0smmTe9zVnjny6RJvMqd/Dj+jnm1g3cT15oE4/QpuRPcCc6umWHONd9TUHTmm/rVvFWvGt2kK1pVMqDoms+euW2q+8CkvKvGdskni9vNw+3UJTVeVmbXpArb9Jycy4sTm0acOrtlPeQ3vWlu8UqRMcF6I0v6dNpHpnOqU3luQ7HyhIEhtKVkbm+wm9s7Zyp0ibeH9Gl6TUgZmZQ50/N/cQokfaIPk4I1VLaplb8hOqy9fYZgw631T1wgbRLTd/eKRTIC8utpQbv9f1bMPGHZG5mkIHKlesD2VMy8/Qx1jJw+8v6CY2/JttvoSz9WvX1IYn1UwfOio1amYmfVbwrALjnlU3paafFptf+WNk11LztrLS+qTRBfez97rVPtwwd351y02FK1cVZwbpzH0bQP8WMjkzW7shsGuir/Ll1SK1MHdIpA3tdNX2bG3J9IoGkTVvTbBj4MmZd94rxM7KtbbeypjM1kpq3xYyQBOa6Fp1DAlvdYCU9K1rAb9Un7g7PSONnXaBpGfeGWppWFdVZzuA1rSlvPKsyBod7+5QrZY0KLcgVWx48dVIX/bh5vJNslbmM0Rsk8DD74i2536AZvbW+7QM3/BKZLUaXyrfIFInP+C9UrjiwoUL8tfOv3xhPI92pma2cf6wDF9Hha/+P1Q2XbuzjoNjAfHu5kf16YvtRi4vvdTTQWXdcpWxyTHUlwwpqhw+b3tpfiRwEc1V00cs3Jk1b6t+u/D3K8eMLWkUGbmTh7iD1x53jh+tH8Q5W18yoajyeErW6OKCoaktDVVrV21rSMpZtGZprvGepqoZDy+sFem5k8fnpyc37a4sWVN3rl+R7JMyuukL6BpW541bnjxr07rYs+Yq7IorrpD/x84Oz7wQ9aVDitaIwlXhO7OH6kvHFa05kj6ieHxeujCSumdhxZqZ9pQMa94yY8QCYWalyfyElOyC4lFZqV82VD1ftu1Q15wF65aOjORwx86LtpO5GTsrjRpUWLFnpv1CqxhZeSJzwsxCq9Y0Dpm36anIXE2hd0rGTa480i+3+NF8LbO1nOpTuGqddXGX8QmNyUMLZ471zsqmLTNGL6hL00tL8qe1laWVdd1jlhZEi8roluoFI2ZtCaVmF+T2u8p8zdL/geIcbQztbEIl3wbQdwE5rH9i9MIaYVR8MytD6UWlq4ttV/p1tia0cc2YMaWNYmBu0dCo3mnY+ILbtN7JXe/8OyPfFtJngSBr1QG4qkagrX6nZMjkSjGhYs90o2mMn5L+dS1gUre8PveeX24rKN05izuFeonuzoyup7F7ZuH0wqzrWxq2rC3b3tD13kXrFlv3qD9eNWPkwtqoEYvOuwc06WUga/72ZXmO95md3W2Fsydk9ThdW/6byvqogQ3DEl8eIxPfFi8qK/1z30YfZNbaBja6wM1sxiOzJ2X1OFFbvuSF+j4TKtbZp6Ls3Fz9nZmvCYevGnuAOuyREv3ArFPj+ruf0SYx1gyY9NKU7Et/6LXt4atRNM2/uNjf2NKwbXX52m1/bDgeEt3TcvImTZqY67grVHP9ht+u2Ph6XeNpkdQzI+fhqY+Py0xx1gR9nGEb83Us0WMvp4DhqxRq3F624rdV1R+2GEk9dXJumq2Jt/MKX+VQuKXh9fLy51/946HmkEhOuyd/0o8n5fZzDKo6dl60nUcnEREwfNUyov6lJSUV1fXHQ7EqRej9bWUry6t2NLYYOTWlONd5glzz7spnfru2+p2YWdlUU1JSGqi0IFpURuv11HzsZmVuVPgq+TaAvgsY1dao+N1SMn4wfupPC123UuxkTaiRzuYTl/D42KPe6b1V+ZZqn6SO00LGWyDQWnUAzqoRbKvd4Wv8lPSta0GT2nuEDYtndxb6uLaytGz97obmsyL5ppz8H0+adK/ttq7tHb5KLfs3LFlWrvVlsn0bWTx7mgx8zD8ZGJb48h6ZxO9cvLLSJ/dtYlauAM2sffwzasrsqQ/Eum9wZ+Tq78x8jRO+djB+4Su+PlFjLyjMu5NAh0NGXz5oQi8rVI0Og6zsMMjKDsPV37Vm6iYAAAAAAL5mhK8AAAAAAAUQvgIAAAAAFED4CgAAAABQAOErAAAAAEABhK8AAAAAAAUQvgIAAAAAFED4CgAAAABQgHk/X+NusAAAAAAAXFaMoFUyw9edf/nCeN7hZd1yVXjjcWkZO03Ijo5B5iZZ2RmQ0ZcPmtDLClWjwyArOwyyssNw9XecPAwAAAAAUADhKwAAAABAARxVBwAAAAAogKOvAAAAAAAFEL4CAAAAABRA+AoAAAAAUADhKwAAAABAAYSvAAAAAAAFEL4CAAAAABRA+AoAAAAAUADhKwAAAABAAYSvAAAAAAAFEL4CAAAAABRA+AoAAAAAUADhKwAAAABAAYSvAAAAAAAFEL4CAAAAABRA+AoAAAAAUADhKwAAAABAAYSvAAAAAAAFEL4CAAAAABRA+AoAAAAAUADhKwAAAABAAYSvAAAAAAAFEL4CAAAAABRA+AoAAAAAUADhKwAAAABAAYSvAAAAAAAFEL4CAAAAABRA+AoAAAAAUADhKwAAAABAAYSvAAAAAAAFEL4CAAAAABRA+AoAAAAAUADhKwAAAABAAYSvAAAAAAAFEL4CAAAAABRA+AoAAAAAUADhKwAAAABAAYSvAAAAAAAFEL4CAAAAABRA+AoAAAAAUADhKwAAAABAAYSvAAAAAAAFEL4CAAAAABRA+AoAAAAAUADhKwAAAABAAYSvAAAAAAAFEL4CAAAAABRA+AoAAAAAUADhKwAAAABAAYSvAAAAAAAFEL4CAAAAABRA+AoAAAAAUADhKwAAAABAAYSvAAAAAAAFEL4CAAAAABRA+AoAAAAAUADhKwAAAABAAYSvAAAAAAAFEL4CAAAAABRA+AoAAAAAUADhKwAAAABAAYSvAAAAAAAFEL4CAAAAABRA+AoAAAAAUADhKwAAAABAAYSvAAAAAAAFEL4CAAAAABRA+AoAAAAAUADhKwAAAABAAYSvAAAAAAAFEL4CAAAAABRA+AoAAAAAUADhKwAAAABAAYSvAAAAAAAFEL4CAAAAABRA+AoAAAAAUADhKwAAAABAAYSvAAAAAAAFEL4CAAAAABRA+AoAAAAAUADhKwAAAABAAYSvAAAAAAAFEL4CAAAAABRA+AoAAAAAUADhKwAAAABAAYSvAAAAAAAFEL4CAAAAABRA+AoAAAAAUADhKwAAAABAAYSvAAAAAAAFEL4CAAAAABRA+AoAAAAAUADhKwAAAABAAYSvAAAAAAAFEL4CAAAAABRA+AoAAAAAUADhKwAAAABAAYSvAAAAAAAFEL4CAAAAABRA+AoAAAAAUADhKwAAAABAAYSvAAAAAAAFEL4CAAAAABRA+AoAAAAAUADhKwAAAABAAYSvAAAAAAAFEL4CAAAAABRA+AoAAAAAUADhKwAAAABAAYSvAAAAAAAFEL4CAAAAABRA+AoAAAAAUADhKwAAAABAAYSvAAAAAAAFaOHrFVdcYTwBAAAAAODyxNFXAAAAAIACCF8BAAAAAAogfAUAAAAAKIDwFQAAAACgAMJXAAAAAIACCF8BAAAAAAogfAUAAAAAKIDwFQAAAACgAMJXAAAAAIACCF8BAAAAAAogfAUAAAAAKIDwFQAAAACgAMJXAAAAAIACCF8BAAAAAAogfAUAAAAAKIDwFQAAAACgAMJXAAAAAIACCF8BAAAAAAogfAUAAAAAKIDwFQAAAACgAMJXAAAAAIACCF8BAAAAAAogfAUAAAAAKIDwFQAAAACgAMJXAAAAAIACCF8BAAAAAAogfAUAAAAAKIDwFQAAAACgAMJXAAAAAIACCF8BAAAAAAogfAUAAAAAKIDwFQAAAACgAMJXAAAAAIACCF8BAAAAAAogfAUAAAAAKIDwFQAAAACgAMJXAAAAAIACCF8BAAAAAAogfAUAAAAAKIDwFQAAAACgAMJXAAAAAIACCF8BAAAAAAogfAUAAAAAKIDwFQAAAACgAMJXAAAAAIACCF8BAAAAAAogfAUAAAAAKIDwFQAAAACgAMJXAAAAAIACCF8BAAAAAAogfAUAAAAAKIDwFQAAAACgAMJXAAAAAIACCF8BAAAAAAogfAUAAAAAKIDwFQAAAACgAMJXAAAAAIACCF8BAAAAAAogfAUAAAAAKIDwFQAAAACgAMJXAAAAAIACCF8BAAAAAAogfAUAAAAAKIDwFQAAAACgAMJXAAAAAIACCF8BAAAAAAogfAUAAAAAKIDwFQAAAACgAMJXAAAAAIACCF8BAAAAAAogfAUAAAAAKIDwFQAAAACgAMJXAAAAAIACCF8BAAAAAAogfAUAAAAAKIDwFQAAAACgAMJXAAAAAIACCF8BAAAAAAogfAUAAAAAKIDwFQAAAACgAMJXAAAAAIACCF8BAAAAAAogfAUAAAAAKIDwFQAAAACgAMJXAAAAAIACCF8BAAAAAAogfAUAAAAAKIDwFQAAAACgAMJXAAAAAIACCF8BAAAAAAogfAUAAAAAKIDwFQAAAACgAMJXAAAAAIACCF8BAAAAAAogfAUAAAAAKIDwFQAAAACgAMJXAAAAAIACCF8BAAAAAAogfAUAAAAAKIDwFQAAAACgAMJXAAAAAIACrrhw4YL5EAAAAACAyxVHXwEAAAAACiB8BQAAAAAogPAVAAAAAKAAwlcAAAAAgAIIXwEAAAAACiB8BQAAAAAogPAVAAAAAKAAwlcAAAAAgAIIXwEAAAAACiB8BQAAAAAogPAVAAAAAKAAwlcAAAAAgAIIXwEAAAAACiB8BQAAAAAogPAVAAAAAKAAwlcAAAAAgAIIXwEAAAAACiB8BQAAAAAogPAVAAAAAKAAwlcAAAAAgAIIXwEAAAAACiB8BQAAAAAogPAVAAAAAKAAwlcAAAAAgAIIXwEAAAAACiB8BQAAAAAogPAVAAAAAKAAwlcAAAAAgAIIXwEAAAAACiB8BQAAAAAogPAVAAAAAKAAwlcAAAAAgAIIXwEAAAAACiB8BQAAAAAogPAVAAAAAKAAwlcAAAAAgAIIXwEAAAAACiB8BQAAAAAogPAVAAAAAKAAwlcAAAAAgAIIXwEAAAAACiB8BQAAAAAogPAVAAAAAKAAwlcAAAAAgAIIXwEAAAAACiB8BQAAAAAogPAVAAAAAKAAwlcAAAAAgAIIXwEAAAAACiB8BQAAAAAogPAVAAAAAKAAwlcAAAAAgAIIXwEAAAAACiB8BQAAAAAogPAVAAAAAKAAwlcAAAAAgAIIXwEAAAAACiB8BQAAAAAogPAVAAAAAKAAwlcAAAAAgAIIXwEAAAAACiB8BQAAAAAogPAVAAAAAKAAwlcAAAAAgAIIXwEAAAAACiB8BQAAAAAogPAVAAAAAKAAwlcAAAAAgAIIXwEAAAAACiB8BQAAAAAogPAVAAAAAKAAwlcAAAAAgAIIXwEAAAAACiB8BQAAAAAogPAVAAAAAKAAwlcAAAAAgAIIXwEAAAAACiB8BQAAAAAogPAVAAAAAKAAwlcAAAAAgAIIXwEAAAAACiB8BQAAAAAogPAVAAAAAKAAwlcAAAAAgAIIXwEAAAAACiB8BQAAAAAogPAVAAAAAKAAwlcAAAAAgAIIXwEAAAAACiB8BQAAAAAogPAVAAAAAKAAwlcAAAAAgAIIXwEAAAAACiB8BQAAAAAogPAVAAAAAKAAwlcAAAAAgAIIXwEAAAAACiB8BQAAAAAogPAVAAAAAKAAwlcAAAAAgAIIXwEAAAAACiB8BQAAAAAogPAVAAAAAKAAwlcAAAAAgAIIXwEAAAAACiB8BQAAAAAogPAVAAAAAKAAwlcAAAAAgAIIXwEAAAAACiB8BQAAAAAogPAVAAAAAKAAwlcAAAAAgAIIXwEAAAAACiB8BQAAAAAogPAVAAAAAKAAwlcAAAAAgAIIXwEAAAAACiB8BQAAAAAogPAVAAAAAKAAwlcAAAAAgAIIXwEAAAAACiB8BQAAAAAogPAVAAAAAKAAwlcAAAAAgAIIXwEAAAAACiB8BQAAAAAogPAVAAAAAKAAwlcAAAAAgAIIXwEAAAAACiB8BQAAAAAogPAVAAAAAKAAwlcAAAAAgAIIXwEAAAAACiB8BQAAAAAogPAVAAAAAKAAwlcAAAAAgAIIXwEAAAAACiB8BQAAAAAogPAVAAAAAKAAwlcAAAAAgAIIXwEAAAAACiB8BQAAAAAogPAVAAAAAKAAwlcAAAAAgAIIXwEAAAAACiB8BQAAAAAogPAVAAAAAKAAwlcAAAAAgAIIXwEAAAAACiB8BQAAAAAogPAVAAAAAKAAwlcAAAAAgAIIXwEAAAAACiB8BQAAAAAogPAVAAAAAKAAwlcAAAAAgAIIXwEAAAAACiB8BQAAAAAogPAVAAAAAKAAwlcAAAAAgAIIXwEAAAAACiB8BQAAAAAogPAVAAAAAKAAwlcAAAAAgAIIXwEAAAAACiB8BQAAAAAogPAVAAAAAKAAwlcAAAAAgAIIXwEAAAAACiB8BQAAAAAogPAVAAAAAKAAwlcAAAAAgAIIXwEAAAAACiB8BQAAAAAogPAVAAAAAKAAwlcAAAAAgAIIXwEAAAAACiB8BQAAAAAogPAVAAAAAKAAwlcAAAAAgAIIXwEAAAAACiB8BQAAAAAogPAVAAAAAKAAwlcAAAAAgAIIXwEAAAAACiB8BQAAAAAogPAVAAAAAKAAwlcAAAAAgAIIXwEAAAAACiB8BQAAAAAogPAVAAAAAKAAwlcAAAAAgAIIXwEAAAAACiB8BQAAAAAogPAVAAAAAKAAwlcAAAAAgAIIXwEAAAAACiB8BQAAAAAogPAVAAAAAKAAwlcAAAAAgAIIXwEAAAAACiB8BQAAAAAogPAVAAAAAKAAwlcAAAAAgAIIXwEAAAAACiB8BQAAAAAogPAVAAAAAKAAwlcAAAAAgAIIXwEAAAAACiB8BQAAAAAogPAVAAAAAKAAwlcAAAAAgAIIXwEAAAAACiB8BQAAAAAogPAVAAAAAKAAwlcAAAAAgAIIXwEAAAAACiB8BQAAAABc9oT4/wGOZNLK0gUFfAAAAABJRU5ErkJggg==)"
      ]
    }
  ]
}