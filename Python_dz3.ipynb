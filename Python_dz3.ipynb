{
  "nbformat": 4,
  "nbformat_minor": 0,
  "metadata": {
    "colab": {
      "name": "Python-dz3.ipynb",
      "provenance": []
    },
    "kernelspec": {
      "name": "python3",
      "display_name": "Python 3"
    },
    "language_info": {
      "name": "python"
    }
  },
  "cells": [
    {
      "cell_type": "code",
      "metadata": {
        "id": "u77B9QT023vb",
        "colab": {
          "base_uri": "https://localhost:8080/"
        },
        "outputId": "ed30c5ef-452a-4932-f8e3-307fe2885646"
      },
      "source": [
        "#1) Загрузите датасет с помощью функции np.genfromtxt()\n",
        "from io import StringIO\n",
        "import numpy as np\n",
        "url = 'https://archive.ics.uci.edu/ml/machine-learning-databases/iris/iris.data' \n",
        "iris = np.genfromtxt(url, delimiter=',', dtype=bytes) \n",
        "names = ('sepallength', 'sepalwidth', 'petallength', 'petalwidth', 'species') \n",
        "iris"
      ],
      "execution_count": null,
      "outputs": [
        {
          "output_type": "execute_result",
          "data": {
            "text/plain": [
              "(150, 5)"
            ]
          },
          "metadata": {},
          "execution_count": 3
        }
      ]
    },
    {
      "cell_type": "code",
      "metadata": {
        "id": "XszY5D3wHMmy",
        "colab": {
          "base_uri": "https://localhost:8080/"
        },
        "outputId": "854b460d-b265-417a-e37d-e4c25664a556"
      },
      "source": [
        "#2) Вычислите простейшие статистики: min, max, median, mean, 0.25-percentile,\n",
        "#0.75-percentile для каждого из числовых атрибутов в датасете\n",
        "url = 'https://archive.ics.uci.edu/ml/machine-learning-databases/iris/iris.data' \n",
        "iris = np.genfromtxt(url, delimiter=',') \n",
        "m = np.zeros(5)\n",
        "print('min:')\n",
        "print(*(np.min(iris,0,m)),sep = ',')\n",
        "print('max:')\n",
        "print(*(np.max(iris,0,m)),sep = ',')\n",
        "print('median:')\n",
        "print(*(np.median(iris,0,m)),sep = ',')\n",
        "print('mean:')\n",
        "print(*(np.mean(iris,0)),sep = ',')\n",
        "print('percentile 0.25:')\n",
        "print(*(np.percentile(iris,25,0)), sep=',')\n",
        "print('percentile 0.75:')\n",
        "print(*(np.percentile(iris,75,0)), sep=',')"
      ],
      "execution_count": null,
      "outputs": [
        {
          "output_type": "stream",
          "name": "stdout",
          "text": [
            "min:\n",
            "4.3,2.0,1.0,0.1,nan\n",
            "max:\n",
            "7.9,4.4,6.9,2.5,nan\n",
            "median:\n",
            "5.8,3.0,4.35,1.3,nan\n",
            "mean:\n",
            "5.843333333333335,3.0540000000000007,3.7586666666666693,1.1986666666666672,nan\n",
            "percentile 0.25:\n",
            "5.1,2.8,1.6,0.3,nan\n",
            "percentile 0.75:\n",
            "6.4,3.3,5.1,1.8,nan\n"
          ]
        }
      ]
    },
    {
      "cell_type": "code",
      "metadata": {
        "colab": {
          "base_uri": "https://localhost:8080/",
          "height": 279
        },
        "id": "hbjg1gNwdilL",
        "outputId": "cd087935-653e-4c55-f84a-e63bc6ea33c2"
      },
      "source": [
        "#3) Постройте гистограмму для каждого из числовых атрибутов в датасете\n",
        "import pandas as pd\n",
        "import numpy as np\n",
        "import matplotlib.pyplot as plt\n",
        "import seaborn as sns\n",
        "from sklearn import datasets\n",
        "iris = datasets.load_iris()\n",
        "data = pd.DataFrame(data= np.c_[iris['data'], iris['target']], columns= iris['feature_names'] + ['target'])\n",
        "\n",
        "snsplot = sns.kdeplot(data['sepal width (cm)'], shade=True)\n",
        "fig = snsplot.get_figure()\n",
        "\n",
        "snsplot = sns.kdeplot(data['sepal length (cm)'], shade=True)\n",
        "fig = snsplot.get_figure()\n",
        "\n",
        "snsplot = sns.kdeplot(data['petal width (cm)'], shade=True)\n",
        "fig = snsplot.get_figure()\n",
        "\n",
        "snsplot = sns.kdeplot(data['petal length (cm)'], shade=True)\n",
        "fig = snsplot.get_figure()\n"
      ],
      "execution_count": null,
      "outputs": [
        {
          "output_type": "display_data",
          "data": {
            "image/png": "[encoded data removed]",
            "text/plain": [
              "<Figure size 432x288 with 1 Axes>"
            ]
          },
          "metadata": {
            "needs_background": "light"
          }
        }
      ]
    },
    {
      "cell_type": "code",
      "metadata": {
        "id": "RuKbuMqYdniV",
        "colab": {
          "base_uri": "https://localhost:8080/"
        },
        "outputId": "2ea383b2-9a7d-4207-e5db-82cbcf6f2608"
      },
      "source": [
        "#4) Сгруппируйте датасет по категории (последний столбец датасета) и повторите шаги 2 и 3 для групп.\n",
        "import pandas as pd\n",
        "from io import StringIO\n",
        "import numpy as np\n",
        "url = 'https://archive.ics.uci.edu/ml/machine-learning-databases/iris/iris.data' \n",
        "iris = np.genfromtxt(url, delimiter=',', dtype='str', usecols=4)\n",
        "uniqs = np.unique(species)\n",
        "print(uniqs)\n",
        "species_cat = species\n",
        "np.argwhere(uniqs == 'Iris-versicolor').tolist()[0][0]\n",
        "out = []\n",
        "for val in uniqs:\n",
        "    for s in species_cat[species_cat == val]:\n",
        "        group_id = np.argwhere(uniqs == s).tolist()[0][0]\n",
        "        out.append(group_id)\n",
        "print(out)\n",
        "d = np.genfromtxt(url, delimiter=',', dtype='str')\n",
        "attr1 = np.array(out)\n",
        "attr1 = attr1.reshape((150,1))\n",
        "attr1.shape\n",
        "zz = np.concatenate((d, attr1), axis = 1)\n",
        "num_col = zz[:, 1].astype('float')\n",
        "num_col\n",
        "grp_col = zz[:, 5]\n",
        "grp_col\n",
        "res = []\n",
        "for val in np.unique(grp_col):\n",
        "    res.append( [val, num_col[ grp_col == val].mean(), num_col[grp_col == val].std()])\n",
        "    res"
      ],
      "execution_count": null,
      "outputs": [
        {
          "output_type": "stream",
          "name": "stdout",
          "text": [
            "['Iris-setosa' 'Iris-versicolor' 'Iris-virginica']\n",
            "[0, 0, 0, 0, 0, 0, 0, 0, 0, 0, 0, 0, 0, 0, 0, 0, 0, 0, 0, 0, 0, 0, 0, 0, 0, 0, 0, 0, 0, 0, 0, 0, 0, 0, 0, 0, 0, 0, 0, 0, 0, 0, 0, 0, 0, 0, 0, 0, 0, 0, 1, 1, 1, 1, 1, 1, 1, 1, 1, 1, 1, 1, 1, 1, 1, 1, 1, 1, 1, 1, 1, 1, 1, 1, 1, 1, 1, 1, 1, 1, 1, 1, 1, 1, 1, 1, 1, 1, 1, 1, 1, 1, 1, 1, 1, 1, 1, 1, 1, 1, 2, 2, 2, 2, 2, 2, 2, 2, 2, 2, 2, 2, 2, 2, 2, 2, 2, 2, 2, 2, 2, 2, 2, 2, 2, 2, 2, 2, 2, 2, 2, 2, 2, 2, 2, 2, 2, 2, 2, 2, 2, 2, 2, 2, 2, 2, 2, 2, 2, 2]\n"
          ]
        }
      ]
    },
    {
      "cell_type": "code",
      "metadata": {
        "id": "70zUKR-MezyI"
      },
      "source": [
        "\n",
        "    iris1=np.zeros(5)\n",
        "    print('min:')\n",
        "    print(*(np.min(iris1,0,m)),sep = ',')\n",
        "    print('max:')\n",
        "    print(*(np.max(iris1,0,m)),sep = ',')\n",
        "    print('median:')\n",
        "    print(*(np.median(iris1,0,m)),sep = ',')\n",
        "    print('mean:')\n",
        "    print(*(np.mean(iris1,0)),sep = ',')\n",
        "    print('percentile 0.25:')\n",
        "    print(*(np.percentile(iris1,25,0)), sep=',')\n",
        "    print('percentile 0.75:')\n",
        "    print(*(np.percentile(iris1,75,0)), sep=',')\n"
      ],
      "execution_count": null,
      "outputs": []
    }
  ]
}