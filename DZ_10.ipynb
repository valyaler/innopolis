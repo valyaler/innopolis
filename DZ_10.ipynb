{
  "nbformat": 4,
  "nbformat_minor": 0,
  "metadata": {
    "colab": {
      "name": "DZ-10.ipynb",
      "provenance": [],
      "collapsed_sections": [],
      "authorship_tag": "ABX9TyNIL+wwKxordek3RTtcejq5",
      "include_colab_link": true
    },
    "kernelspec": {
      "name": "python3",
      "display_name": "Python 3"
    },
    "language_info": {
      "name": "python"
    }
  },
  "cells": [
    {
      "cell_type": "markdown",
      "metadata": {
        "id": "view-in-github",
        "colab_type": "text"
      },
      "source": [
        "<a href=\"https://colab.research.google.com/github/valyaler/innopolis/blob/master/DZ_10.ipynb\" target=\"_parent\"><img src=\"https://colab.research.google.com/assets/colab-badge.svg\" alt=\"Open In Colab\"/></a>"
      ]
    },
    {
      "cell_type": "markdown",
      "source": [
        "**Контекст задачи:**"
      ],
      "metadata": {
        "id": "t4yzLADHVYyC"
      }
    },
    {
      "cell_type": "markdown",
      "source": [
        "Даны варианты А и В некой базы с показателями 0 и 1, нам необходимо определить более эффективный из них "
      ],
      "metadata": {
        "id": "rCMKzDDmVgeh"
      }
    },
    {
      "cell_type": "markdown",
      "metadata": {
        "id": "NyIFa1pDBnXo"
      },
      "source": [
        "**Формулировка гипотезы:**"
      ]
    },
    {
      "cell_type": "markdown",
      "source": [
        "Н0: p(a)=p(b)"
      ],
      "metadata": {
        "id": "7kCLOoxfVK7d"
      }
    },
    {
      "cell_type": "markdown",
      "source": [
        "H1: p(a)!=p(b)"
      ],
      "metadata": {
        "id": "0j87-PJkVNYy"
      }
    },
    {
      "cell_type": "markdown",
      "source": [
        "где p(a) и p(b) означают соответственно конверсии старого и нового варианта.\n",
        "Уровень доверия установим в 95%"
      ],
      "metadata": {
        "id": "rqwf66moVPjO"
      }
    },
    {
      "cell_type": "code",
      "metadata": {
        "id": "GjEYFffuXCmt"
      },
      "source": [
        "#импортируем библиотеки\n",
        "import pandas as pd\n",
        "import numpy as np\n",
        "import matplotlib.pyplot as plt\n",
        "from scipy import stats\n",
        "import datetime as dt\n",
        "from google.colab import drive\n",
        "import statsmodels.stats.proportion as proportion\n",
        "from statsmodels.stats.proportion import proportions_ztest, proportion_confint\n",
        "\n"
      ],
      "execution_count": 22,
      "outputs": []
    },
    {
      "cell_type": "markdown",
      "source": [
        "<a id='2'></a>\n",
        "### Подгрузим датасет"
      ],
      "metadata": {
        "id": "5gJQTioYWBXQ"
      }
    },
    {
      "cell_type": "code",
      "source": [
        "data=pd.read_csv('ad.csv')\n",
        "data.head()"
      ],
      "metadata": {
        "id": "hyeuHZcPHf9S",
        "colab": {
          "base_uri": "https://localhost:8080/",
          "height": 206
        },
        "outputId": "df027216-1d40-4f3f-b06e-8ba9be96d625"
      },
      "execution_count": 23,
      "outputs": [
        {
          "output_type": "execute_result",
          "data": {
            "text/html": [
              "<div>\n",
              "<style scoped>\n",
              "    .dataframe tbody tr th:only-of-type {\n",
              "        vertical-align: middle;\n",
              "    }\n",
              "\n",
              "    .dataframe tbody tr th {\n",
              "        vertical-align: top;\n",
              "    }\n",
              "\n",
              "    .dataframe thead th {\n",
              "        text-align: right;\n",
              "    }\n",
              "</style>\n",
              "<table border=\"1\" class=\"dataframe\">\n",
              "  <thead>\n",
              "    <tr style=\"text-align: right;\">\n",
              "      <th></th>\n",
              "      <th>ad_id</th>\n",
              "      <th>action</th>\n",
              "    </tr>\n",
              "  </thead>\n",
              "  <tbody>\n",
              "    <tr>\n",
              "      <th>0</th>\n",
              "      <td>B</td>\n",
              "      <td>1</td>\n",
              "    </tr>\n",
              "    <tr>\n",
              "      <th>1</th>\n",
              "      <td>B</td>\n",
              "      <td>1</td>\n",
              "    </tr>\n",
              "    <tr>\n",
              "      <th>2</th>\n",
              "      <td>A</td>\n",
              "      <td>0</td>\n",
              "    </tr>\n",
              "    <tr>\n",
              "      <th>3</th>\n",
              "      <td>B</td>\n",
              "      <td>0</td>\n",
              "    </tr>\n",
              "    <tr>\n",
              "      <th>4</th>\n",
              "      <td>A</td>\n",
              "      <td>1</td>\n",
              "    </tr>\n",
              "  </tbody>\n",
              "</table>\n",
              "</div>"
            ],
            "text/plain": [
              "  ad_id  action\n",
              "0     B       1\n",
              "1     B       1\n",
              "2     A       0\n",
              "3     B       0\n",
              "4     A       1"
            ]
          },
          "metadata": {},
          "execution_count": 23
        }
      ]
    },
    {
      "cell_type": "markdown",
      "source": [
        "будем считать А начальным вариантом,  В изменненым, значение 0 как просмотр, 1- покупка"
      ],
      "metadata": {
        "id": "yG9GXs_iWUaz"
      }
    },
    {
      "cell_type": "markdown",
      "source": [
        "Посчитаем кол-во '1' и кол-во посетителей в каждом варианте"
      ],
      "metadata": {
        "id": "FKhcSXaqdyKv"
      }
    },
    {
      "cell_type": "markdown",
      "source": [
        "Выведем z-stat и pval "
      ],
      "metadata": {
        "id": "TQ9uaoVGefm5"
      }
    },
    {
      "cell_type": "code",
      "source": [
        "print('Кол-во покупок в группе A: {}\\n'\n",
        "      'Кол-во покупок в группе B: {}'.format(data[data['ad_id']=='A']['action'].sum(), \n",
        "                                                 data[data['ad_id']=='B']['action'].sum()))\n",
        "purchasesA = len(data[data['ad_id']=='A']['action'])\n",
        "purchasesB = len(data[data['ad_id']=='B']['action'])\n",
        "print('Кол-во посетителей в группе А: {}'.format(purchasesA))\n",
        "print('Кол-во посетителей в группе B: {}'.format(purchasesB))\n",
        "plt.hist(data[data['ad_id']=='A']['action'], alpha = 0.8, label='A', bins = 30)\n",
        "plt.hist(data[data['ad_id']=='B']['action'], alpha = 0.8, label='B', bins = 30)\n",
        "plt.legend()\n",
        "plt.title('Гистограммы кол-ва посетителей по группам A и B')\n",
        "plt.show()\n",
        "z_stat , pval = proportions_ztest((data[data['ad_id']=='A']['action'].sum(),data[data['ad_id']=='B']['action'].sum())\n",
        ",(data[data['ad_id']=='A']['action'].count(),data[data['ad_id']=='B']['action'].count()))\n",
        "alpha = 0.05\n",
        "print('z_stat:',z_stat)\n",
        "print('p-value:',pval)\n",
        "if pval < alpha:\n",
        "    print('т.к. pval<0.05 , то разница в группах A и B статистически значима\\n')\n",
        "else:\n",
        "    print('т.к. pval>0.05, то разница в группах A и B статистически НЕ значима\\n')\n",
        "\n",
        "print('Для расчета доверительных интервалов используем метод proportion_confint:')\n",
        "(lower_con, lower_test), (upper_con, upper_test) = proportion_confint((data[data['ad_id']=='A']['action'].sum()\n",
        ",data[data['ad_id']=='B']['action'].sum())\n",
        ",nobs=(data[data['ad_id']=='A']['action'].count(),data[data['ad_id']=='B']['action'].count()),alpha=alpha)\n",
        "print('Доверительный интервал для группы А:', lower_con, '-', upper_con)\n",
        "print('Доверительный интервал для группы В:', lower_test, '-', upper_test)\n",
        "print('промежуточный выводы:\\n')\n",
        "print('в результате варианта В, можно ждать улучшений до 40% от 30% варианта А') "
      ],
      "metadata": {
        "colab": {
          "base_uri": "https://localhost:8080/",
          "height": 524
        },
        "id": "E8oN3g2ZZtsl",
        "outputId": "83a36d73-0bba-40ed-e53b-96f985608a94"
      },
      "execution_count": 31,
      "outputs": [
        {
          "output_type": "stream",
          "name": "stdout",
          "text": [
            "Кол-во покупок в группе A: 304\n",
            "Кол-во покупок в группе B: 372\n",
            "Кол-во посетителей в группе А: 1000\n",
            "Кол-во посетителей в группе B: 1000\n"
          ]
        },
        {
          "output_type": "display_data",
          "data": {
            "image/png": "[encoded data removed]",
            "text/plain": [
              "<Figure size 432x288 with 1 Axes>"
            ]
          },
          "metadata": {
            "needs_background": "light"
          }
        },
        {
          "output_type": "stream",
          "name": "stdout",
          "text": [
            "z_stat: -3.2144492244084213\n",
            "p-value: 0.0013069502732125403\n",
            "т.к. pval<0.05 , то разница в группах A и B статистически значима\n",
            "\n",
            "Для расчета доверительных интервалов используем метод proportion_confint:\n",
            "Доверительный интервал для группы А: 0.2754905064387712 - 0.3325094935612288\n",
            "Доверительный интервал для группы В: 0.3420429266473629 - 0.4019570733526371\n",
            "промежуточный выводы:\n",
            "\n",
            "в результате варианта В, можно ждать улучшений до 40% от 30% варианта А\n"
          ]
        }
      ]
    }
  ]
}